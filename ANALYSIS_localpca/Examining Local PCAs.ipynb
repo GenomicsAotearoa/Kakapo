{
 "cells": [
  {
   "cell_type": "code",
   "execution_count": null,
   "metadata": {},
   "outputs": [],
   "source": [
    "import pandas as pd\n",
    "import numpy as np\n",
    "import umap\n",
    "import re\n",
    "from collections import defaultdict\n",
    "import plotly.express as px\n",
    "import hdbscan\n",
    "from sklearn.manifold import MDS\n",
    "from sklearn.cluster import SpectralClustering\n",
    "import math\n",
    "import statistics as stats"
   ]
  },
  {
   "cell_type": "code",
   "execution_count": null,
   "metadata": {
    "scrolled": true
   },
   "outputs": [],
   "source": [
    "pcs = pd.read_csv(\"type_snp_size_100_weights_none_jobid_753502/all.pca.csv\")"
   ]
  },
  {
   "cell_type": "markdown",
   "metadata": {},
   "source": [
    "## MDS"
   ]
  },
  {
   "cell_type": "code",
   "execution_count": null,
   "metadata": {},
   "outputs": [],
   "source": [
    "mds_coords = pd.read_csv(\"type_snp_size_100_weights_none_jobid_753502/mds_coords.csv\")\n",
    "mds_coords = pd.DataFrame(mds_coords.drop(columns=[\"chrom\", \"window\"]))\n",
    "labels = hdbscan.HDBSCAN(min_samples=30, min_cluster_size=2, cluster_selection_epsilon=0.03).fit_predict(mds_coords)\n",
    "sum(labels == -1), sum(labels >= 0), max(labels)"
   ]
  },
  {
   "cell_type": "code",
   "execution_count": null,
   "metadata": {},
   "outputs": [],
   "source": [
    "#for ms in range(5, 100, 5):\n",
    "#    labels = hdbscan.HDBSCAN(min_samples=ms, min_cluster_size=2, cluster_selection_epsilon=0.03).fit_predict(mds_coords)\n",
    "#    print(ms, sum(labels == -1), sum(labels >= 0), max(labels))"
   ]
  },
  {
   "cell_type": "code",
   "execution_count": null,
   "metadata": {},
   "outputs": [],
   "source": [
    "#for cse in np.linspace(.0001, 0.1, 30):\n",
    "#    for ms in range(5, 100, 5):\n",
    "#        labels = hdbscan.HDBSCAN(min_samples=ms, min_cluster_size=2, cluster_selection_epsilon=float(cse)).fit_predict(mds_coords)\n",
    "#        print(cse, ms, sum(labels == -1), sum(labels >= 0), max(labels))"
   ]
  },
  {
   "cell_type": "code",
   "execution_count": null,
   "metadata": {},
   "outputs": [],
   "source": [
    "labels = hdbscan.HDBSCAN(min_samples=70, min_cluster_size=2, cluster_selection_epsilon=0.05).fit_predict(mds_coords)\n",
    "sum(labels == -1), sum(labels >= 0), max(labels)"
   ]
  },
  {
   "cell_type": "code",
   "execution_count": null,
   "metadata": {},
   "outputs": [],
   "source": [
    "px.scatter(x=mds_coords['MDS1'], y=mds_coords['MDS2'], color=labels)"
   ]
  },
  {
   "cell_type": "code",
   "execution_count": null,
   "metadata": {},
   "outputs": [],
   "source": [
    "px.scatter(x=mds_coords['MDS3'], y=mds_coords['MDS2'], color=labels)"
   ]
  },
  {
   "cell_type": "code",
   "execution_count": null,
   "metadata": {},
   "outputs": [],
   "source": [
    "px.scatter(x=mds_coords['MDS3'], y=mds_coords['MDS4'], color=labels)"
   ]
  },
  {
   "cell_type": "code",
   "execution_count": null,
   "metadata": {},
   "outputs": [],
   "source": [
    "px.scatter(x=mds_coords['MDS5'], y=mds_coords['MDS4'], color=labels)"
   ]
  },
  {
   "cell_type": "code",
   "execution_count": null,
   "metadata": {},
   "outputs": [],
   "source": [
    "mds_coords_unclustered = mds_coords[labels == -1]"
   ]
  },
  {
   "cell_type": "code",
   "execution_count": null,
   "metadata": {},
   "outputs": [],
   "source": [
    "for ms in range(5, 100, 5):\n",
    "    labels2 = hdbscan.HDBSCAN(min_samples=ms, min_cluster_size=2).fit_predict(mds_coords_unclustered)\n",
    "    print(ms, sum(labels2 == -1), sum(labels2 >= 0), max(labels2))"
   ]
  },
  {
   "cell_type": "code",
   "execution_count": null,
   "metadata": {},
   "outputs": [],
   "source": [
    "labels2 = hdbscan.HDBSCAN(min_samples=35, min_cluster_size=2).fit_predict(mds_coords_unclustered)\n",
    "sum(labels2 == -1), sum(labels2 >= 0), max(labels2)"
   ]
  },
  {
   "cell_type": "code",
   "execution_count": null,
   "metadata": {},
   "outputs": [],
   "source": [
    "px.scatter(x=mds_coords_unclustered['MDS1'], y=mds_coords_unclustered['MDS2'], color=labels2)"
   ]
  },
  {
   "cell_type": "code",
   "execution_count": null,
   "metadata": {},
   "outputs": [],
   "source": [
    "labels2 = labels2 + labels[-1]\n",
    "# labels = np.concatenate((labels, labels2))"
   ]
  },
  {
   "cell_type": "code",
   "execution_count": null,
   "metadata": {},
   "outputs": [],
   "source": [
    "mds1 = np.concatenate((mds_coords['MDS1'], mds_coords_unclustered['MDS1']))\n",
    "mds2 = np.concatenate((mds_coords['MDS2'], mds_coords_unclustered['MDS2']))\n",
    "mds3 = np.concatenate((mds_coords['MDS3'], mds_coords_unclustered['MDS3']))\n",
    "mds4 = np.concatenate((mds_coords['MDS4'], mds_coords_unclustered['MDS4']))\n",
    "mds5 = np.concatenate((mds_coords['MDS5'], mds_coords_unclustered['MDS5']))\n",
    "labels_combined = np.concatenate((labels, labels2))\n",
    "px.scatter(x=mds1, y=mds2, color=labels_combined)"
   ]
  },
  {
   "cell_type": "code",
   "execution_count": null,
   "metadata": {},
   "outputs": [],
   "source": [
    "px.scatter(x=mds3, y=mds2, color=labels_combined)"
   ]
  },
  {
   "cell_type": "code",
   "execution_count": null,
   "metadata": {},
   "outputs": [],
   "source": [
    "px.scatter(x=mds3, y=mds4, color=labels_combined)"
   ]
  },
  {
   "cell_type": "code",
   "execution_count": null,
   "metadata": {},
   "outputs": [],
   "source": [
    "px.scatter(x=mds5, y=mds4, color=labels_combined)"
   ]
  },
  {
   "cell_type": "code",
   "execution_count": null,
   "metadata": {},
   "outputs": [],
   "source": [
    "mds_coords = pd.read_csv(\"type_snp_size_100_weights_none_jobid_753502/mds_coords.csv\")\n",
    "mds_coords = mds_coords.set_index([\"chrom\", \"window\"])\n",
    "mds_coords"
   ]
  },
  {
   "cell_type": "code",
   "execution_count": null,
   "metadata": {},
   "outputs": [],
   "source": [
    "data = mds_coords.stack().reset_index()\n",
    "data"
   ]
  },
  {
   "cell_type": "code",
   "execution_count": null,
   "metadata": {},
   "outputs": [],
   "source": [
    "data.columns = [\"chrom\", \"window\", \"MDS\", \"val\"]\n",
    "#data = pd.DataFrame(data.drop(columns=[\"x\"]))"
   ]
  },
  {
   "cell_type": "code",
   "execution_count": null,
   "metadata": {},
   "outputs": [],
   "source": [
    "px.box(data, y=\"val\", x=\"MDS\")"
   ]
  },
  {
   "cell_type": "code",
   "execution_count": null,
   "metadata": {},
   "outputs": [],
   "source": [
    "[stats.mean(data['val']), stats.stdev(data['val'])]"
   ]
  },
  {
   "cell_type": "code",
   "execution_count": null,
   "metadata": {},
   "outputs": [],
   "source": [
    "upper = stats.mean(data['val']) + (4 * stats.stdev(data['val']))\n",
    "lower = stats.mean(data['val']) - (4 * stats.stdev(data['val']))"
   ]
  },
  {
   "cell_type": "code",
   "execution_count": null,
   "metadata": {},
   "outputs": [],
   "source": [
    "lower_matches = data[data['val'] <= lower]\n",
    "upper_matches = data[data['val'] >= upper]"
   ]
  },
  {
   "cell_type": "code",
   "execution_count": null,
   "metadata": {},
   "outputs": [],
   "source": [
    "lower_matches[lower_matches[\"chrom\"] == \"X22\"]"
   ]
  },
  {
   "cell_type": "code",
   "execution_count": null,
   "metadata": {},
   "outputs": [],
   "source": [
    "upper_matches[upper_matches[\"chrom\"] == \"X22\"]"
   ]
  },
  {
   "cell_type": "code",
   "execution_count": null,
   "metadata": {},
   "outputs": [],
   "source": [
    "chr8 = data[data['chrom'] == \"X8\"]\n",
    "px.scatter(chr8, x=\"window\", y=\"val\", color=\"MDS\", width=1024, height=600)"
   ]
  },
  {
   "cell_type": "code",
   "execution_count": null,
   "metadata": {},
   "outputs": [],
   "source": [
    "windows = pd.read_csv(\"type_snp_size_100_weights_none_jobid_753502/X8.regions.csv\")\n",
    "windows"
   ]
  },
  {
   "cell_type": "code",
   "execution_count": null,
   "metadata": {},
   "outputs": [],
   "source": [
    "windows.iloc[221]"
   ]
  },
  {
   "cell_type": "code",
   "execution_count": null,
   "metadata": {},
   "outputs": [],
   "source": [
    "# Chr9 Peak -- 63098195\n",
    "#windows[windows['end'] >= 63098195]\n",
    "\n",
    "windows.values.tolist()[281]\n"
   ]
  },
  {
   "cell_type": "code",
   "execution_count": null,
   "metadata": {},
   "outputs": [],
   "source": [
    "x8 = data[data['chrom'] == \"X8\"]\n",
    "window = x9[x9['window'] == 584]"
   ]
  },
  {
   "cell_type": "code",
   "execution_count": null,
   "metadata": {},
   "outputs": [],
   "source": [
    "window"
   ]
  },
  {
   "cell_type": "code",
   "execution_count": null,
   "metadata": {},
   "outputs": [],
   "source": [
    "data[data['val'] >= upper]"
   ]
  },
  {
   "cell_type": "markdown",
   "metadata": {},
   "source": [
    "## Examine specific PCAs"
   ]
  },
  {
   "cell_type": "code",
   "execution_count": null,
   "metadata": {},
   "outputs": [],
   "source": [
    "pcs = pd.read_csv(\"type_snp_size_100_weights_none_jobid_753502/X8.pca.csv\")\n",
    "pcs = pcs.drop(columns=[\"total\", \"lam_1\", \"lam_2\", \"lam_3\", \"lam_4\", \"lam_5\", \"lam_6\", \"lam_7\", \"lam_8\", \"lam_9\", \"lam_10\"])\n",
    "\n",
    "pcs = pd.DataFrame(pcs.loc[221])\n",
    "pcs = pcs.transpose()\n",
    "pcs"
   ]
  },
  {
   "cell_type": "code",
   "execution_count": null,
   "metadata": {},
   "outputs": [],
   "source": [
    "plot_pcs = pcs.filter(regex = 'PC_[\\d+]').stack().reset_index().drop(columns=[\"level_0\"])\n",
    "plot_pcs.columns = [\"PC_BIRD\", \"val\"]\n"
   ]
  },
  {
   "cell_type": "code",
   "execution_count": null,
   "metadata": {},
   "outputs": [],
   "source": [
    "split_pcs = plot_pcs['PC_BIRD'].str.split(\"_\", n=2, expand = True)\n",
    "plot_pcs['PC'] = split_pcs[1]\n",
    "plot_pcs['Name'] = split_pcs[2]\n",
    "plot_pcs.drop(columns=[\"PC_BIRD\"], inplace = True)"
   ]
  },
  {
   "cell_type": "code",
   "execution_count": null,
   "metadata": {},
   "outputs": [],
   "source": [
    "plot_pcs = plot_pcs.pivot(index=\"Name\", columns=\"PC\")\n",
    "plot_pcs.columns = plot_pcs.columns.droplevel()"
   ]
  },
  {
   "cell_type": "code",
   "execution_count": null,
   "metadata": {},
   "outputs": [],
   "source": [
    "plot_pcs['Name'] = plot_pcs.index"
   ]
  },
  {
   "cell_type": "code",
   "execution_count": null,
   "metadata": {},
   "outputs": [],
   "source": [
    "fig = px.scatter(plot_pcs, x=\"1\", y=\"2\", text=\"Name\", color=zephyr_offspring)\n",
    "fig.update_traces(textposition='top center')\n",
    "fig.show()\n"
   ]
  },
  {
   "cell_type": "code",
   "execution_count": null,
   "metadata": {},
   "outputs": [],
   "source": [
    "plot_pcs[plot_pcs[\"Name\"] == \"Blake\"]"
   ]
  },
  {
   "cell_type": "code",
   "execution_count": null,
   "metadata": {},
   "outputs": [],
   "source": [
    "plot_pcs[plot_pcs[\"Name\"] == \"Sinbad\"]"
   ]
  },
  {
   "cell_type": "code",
   "execution_count": null,
   "metadata": {},
   "outputs": [],
   "source": [
    "ped = pd.read_csv(\"highconfidence.ped\", sep=\"\\t\", header=None)\n",
    "ped.columns = [\"Pop\", \"Name\", \"Father\", \"Mother\", \"x\", \"y\"]\n",
    "zephyr_offspring = ped['Mother'] == \"Zephyr\"\n",
    "sum(zephyr_offspring)\n",
    "\n",
    "#rh_offspring = ped['Father'] == \"Richard_Henry\"\n",
    "#sum(rh_offspring)"
   ]
  },
  {
   "cell_type": "code",
   "execution_count": null,
   "metadata": {},
   "outputs": [],
   "source": [
    "plot_pcs[plot_pcs[\"Name\"] == \"Boomer\"]"
   ]
  },
  {
   "cell_type": "code",
   "execution_count": null,
   "metadata": {},
   "outputs": [],
   "source": [
    "plot_pcs[plot_pcs[\"Name\"] == \"Evohe\"]"
   ]
  },
  {
   "cell_type": "code",
   "execution_count": null,
   "metadata": {},
   "outputs": [],
   "source": [
    "plot_pcs[plot_pcs[\"Name\"] == \"Hoki\"]"
   ]
  },
  {
   "cell_type": "code",
   "execution_count": null,
   "metadata": {},
   "outputs": [],
   "source": [
    "reducer = umap.UMAP()\n",
    "embedding = reducer.fit_transform(pcs)\n",
    "embedding.shape"
   ]
  },
  {
   "cell_type": "code",
   "execution_count": null,
   "metadata": {},
   "outputs": [],
   "source": [
    "px.scatter(x=embedding[:, 0], y=embedding[:, 1])"
   ]
  },
  {
   "cell_type": "code",
   "execution_count": null,
   "metadata": {},
   "outputs": [],
   "source": [
    "plot_pcs"
   ]
  },
  {
   "cell_type": "code",
   "execution_count": null,
   "metadata": {},
   "outputs": [],
   "source": [
    "plot_pcs = plot_pcs.reindex(columns=[\"Name\", \"1\",\"2\",\"3\",\"4\",\"5\",\"6\",\"7\",\"8\",\"9\",\"10\"])"
   ]
  },
  {
   "cell_type": "code",
   "execution_count": null,
   "metadata": {},
   "outputs": [],
   "source": [
    "plot_pcs.to_csv(\"pcs_pheno.tsv\", sep=\"\\t\", index=False)"
   ]
  },
  {
   "cell_type": "markdown",
   "metadata": {},
   "source": [
    "## Haplotypes"
   ]
  },
  {
   "cell_type": "code",
   "execution_count": null,
   "metadata": {},
   "outputs": [],
   "source": [
    "from collections import defaultdict\n",
    "seqs = defaultdict(str)\n",
    "\n",
    "haps = pd.read_csv(\"rir.tsv\", sep=\"\\t\")\n",
    "for hap in haps.values.tolist():\n",
    "    for x in hap[4:]:\n",
    "        split = x.split(\"=\")\n",
    "        name = split[0]\n",
    "        \n",
    "        alleles = re.split(\"[/\\|]\", split[1])\n",
    "        i = 0\n",
    "        \n",
    "      # Probably not phased correctly here...\n",
    "        for allele in alleles:\n",
    "            if allele == \".\":\n",
    "                allele = \"N\"\n",
    "            seqs[name + \"_\" + str(i)] = seqs[name + \"_\" + str(i)] + allele\n",
    "            i = i +1\n"
   ]
  },
  {
   "cell_type": "code",
   "execution_count": null,
   "metadata": {},
   "outputs": [],
   "source": [
    "for (id, seq) in seqs.items():\n",
    "    print(\">\" + id)\n",
    "    print(seq)"
   ]
  },
  {
   "cell_type": "markdown",
   "metadata": {},
   "source": [
    "## PCA Clustering"
   ]
  },
  {
   "cell_type": "code",
   "execution_count": null,
   "metadata": {},
   "outputs": [],
   "source": [
    "pcs = pd.read_csv(\"type_snp_size_100_weights_none_jobid_753502/all.pca.csv\")"
   ]
  },
  {
   "cell_type": "code",
   "execution_count": null,
   "metadata": {},
   "outputs": [],
   "source": [
    "pcs"
   ]
  },
  {
   "cell_type": "code",
   "execution_count": null,
   "metadata": {},
   "outputs": [],
   "source": [
    "pcs = pcs.drop(columns=[\"total\", \"lam_1\", \"lam_2\", \"lam_3\", \"lam_4\", \"lam_5\", \"lam_6\", \"lam_7\", \"lam_8\", \"lam_9\", \"lam_10\"])"
   ]
  },
  {
   "cell_type": "code",
   "execution_count": null,
   "metadata": {},
   "outputs": [],
   "source": [
    "reducer = umap.UMAP(min_dist=0.0, random_state=1010)\n",
    "embedding = reducer.fit_transform(pcs)\n",
    "embedding.shape"
   ]
  },
  {
   "cell_type": "code",
   "execution_count": null,
   "metadata": {},
   "outputs": [],
   "source": [
    "px.scatter(x=embedding[:, 0], y=embedding[:, 1])"
   ]
  },
  {
   "cell_type": "code",
   "execution_count": null,
   "metadata": {},
   "outputs": [],
   "source": [
    "reducer = umap.UMAP(n_neighbors=3, min_dist=0.0, random_state=1010, n_components=2, metric='euclidean')\n",
    "embedding = reducer.fit_transform(pcs)\n",
    "embedding.shape"
   ]
  },
  {
   "cell_type": "code",
   "execution_count": null,
   "metadata": {},
   "outputs": [],
   "source": [
    "px.scatter(x=embedding[:, 0], y=embedding[:, 1])"
   ]
  },
  {
   "cell_type": "code",
   "execution_count": null,
   "metadata": {},
   "outputs": [],
   "source": []
  },
  {
   "cell_type": "code",
   "execution_count": null,
   "metadata": {},
   "outputs": [],
   "source": [
    "labels = hdbscan.HDBSCAN(min_samples=50, min_cluster_size=2).fit_predict(pcs)"
   ]
  },
  {
   "cell_type": "code",
   "execution_count": null,
   "metadata": {},
   "outputs": [],
   "source": [
    "sum(labels == -1), sum(labels >= 0), max(labels)"
   ]
  },
  {
   "cell_type": "code",
   "execution_count": null,
   "metadata": {},
   "outputs": [],
   "source": [
    "reducer = umap.UMAP(n_neighbors=5, min_dist=0.0, random_state=1010, n_components=4, metric='euclidean')\n",
    "embedding = reducer.fit_transform(pcs)\n",
    "embedding.shape"
   ]
  },
  {
   "cell_type": "code",
   "execution_count": null,
   "metadata": {},
   "outputs": [],
   "source": [
    "labels = hdbscan.HDBSCAN(min_samples=50, min_cluster_size=2).fit_predict(embedding)\n",
    "sum(labels == -1), sum(labels >= 0), max(labels)"
   ]
  },
  {
   "cell_type": "code",
   "execution_count": null,
   "metadata": {},
   "outputs": [],
   "source": [
    "clustering = SpectralClustering(n_clusters=2).fit_predict(mds_coords)"
   ]
  },
  {
   "cell_type": "code",
   "execution_count": null,
   "metadata": {},
   "outputs": [],
   "source": [
    "px.scatter(x=embedding[:, 0], y=embedding[:, 1], color=clustering)"
   ]
  },
  {
   "cell_type": "code",
   "execution_count": null,
   "metadata": {},
   "outputs": [],
   "source": [
    "output = list()\n",
    "for n in range(2,40):\n",
    "    reducer = umap.UMAP(n_neighbors=n, min_dist=0.0, random_state=1010, n_components=10, metric='euclidean')\n",
    "    embedding = reducer.fit_transform(pcs)\n",
    "    labels = hdbscan.HDBSCAN(min_samples=5, min_cluster_size=2).fit_predict(embedding)\n",
    "    output.append([sum(labels == -1), sum(labels >= 0), max(labels), n])"
   ]
  },
  {
   "cell_type": "code",
   "execution_count": null,
   "metadata": {},
   "outputs": [],
   "source": [
    "o = pd.DataFrame(output)"
   ]
  },
  {
   "cell_type": "code",
   "execution_count": null,
   "metadata": {},
   "outputs": [],
   "source": [
    "px.scatter(x=o[0], y=o[2], color=o[3])"
   ]
  },
  {
   "cell_type": "code",
   "execution_count": null,
   "metadata": {},
   "outputs": [],
   "source": [
    "embedding = MDS(n_components=4).fit_transform(pcs)"
   ]
  },
  {
   "cell_type": "code",
   "execution_count": null,
   "metadata": {},
   "outputs": [],
   "source": [
    "px.scatter(x=embedding[:, 0], y=embedding[:, 1])"
   ]
  },
  {
   "cell_type": "code",
   "execution_count": null,
   "metadata": {},
   "outputs": [],
   "source": [
    "reducer = umap.UMAP(n_neighbors=5, min_dist=0.0, random_state=1010, n_components=2, metric='euclidean')\n",
    "umap_embedding = reducer.fit_transform(embedding)\n",
    "umap_embedding.shape\n",
    "labels = hdbscan.HDBSCAN(min_samples=5, min_cluster_size=2).fit_predict(embedding)"
   ]
  },
  {
   "cell_type": "code",
   "execution_count": null,
   "metadata": {},
   "outputs": [],
   "source": [
    "px.scatter(x=umap_embedding[:, 0], y=umap_embedding[:, 1], color=labels)"
   ]
  },
  {
   "cell_type": "code",
   "execution_count": null,
   "metadata": {},
   "outputs": [],
   "source": [
    "sum(labels == -1), sum(labels >= 0), max(labels)"
   ]
  },
  {
   "cell_type": "markdown",
   "metadata": {},
   "source": [
    "## PCA"
   ]
  },
  {
   "cell_type": "code",
   "execution_count": null,
   "metadata": {},
   "outputs": [],
   "source": [
    "from sklearn.decomposition import PCA"
   ]
  },
  {
   "cell_type": "code",
   "execution_count": null,
   "metadata": {},
   "outputs": [],
   "source": [
    "pca = PCA(n_components=2)\n",
    "pcapca = pd.DataFrame(pca.fit_transform(pcs))"
   ]
  },
  {
   "cell_type": "code",
   "execution_count": null,
   "metadata": {},
   "outputs": [],
   "source": [
    "px.scatter(x=pcapca[0], y=pcapca[1])"
   ]
  },
  {
   "cell_type": "code",
   "execution_count": null,
   "metadata": {},
   "outputs": [],
   "source": [
    "labels = hdbscan.HDBSCAN(min_samples=10, min_cluster_size=2).fit_predict(pcapca)"
   ]
  },
  {
   "cell_type": "code",
   "execution_count": null,
   "metadata": {},
   "outputs": [],
   "source": [
    "sum(labels == -1), sum(labels >= 0), max(labels)"
   ]
  },
  {
   "cell_type": "code",
   "execution_count": null,
   "metadata": {},
   "outputs": [],
   "source": [
    "mds_coords = pd.read_csv(\"type_snp_size_500_weights_none_jobid_033295/mds_coords.csv\")"
   ]
  },
  {
   "cell_type": "code",
   "execution_count": null,
   "metadata": {},
   "outputs": [],
   "source": [
    "mds_coords = pd.DataFrame(mds_coords.drop(columns=[\"chrom\", \"window\"]))"
   ]
  },
  {
   "cell_type": "code",
   "execution_count": null,
   "metadata": {},
   "outputs": [],
   "source": [
    "labels = hdbscan.HDBSCAN(min_samples=4, min_cluster_size=2).fit_predict(mds_coords)\n",
    "sum(labels == -1), sum(labels >= 0), max(labels)"
   ]
  },
  {
   "cell_type": "code",
   "execution_count": null,
   "metadata": {},
   "outputs": [],
   "source": [
    "px.scatter(x=mds_coords['MDS1'], y=mds_coords['MDS2'], color=labels)"
   ]
  },
  {
   "cell_type": "code",
   "execution_count": null,
   "metadata": {},
   "outputs": [],
   "source": [
    "mds_coords"
   ]
  },
  {
   "cell_type": "code",
   "execution_count": null,
   "metadata": {},
   "outputs": [],
   "source": [
    "reducer = umap.UMAP(n_neighbors=5, min_dist=0.0, random_state=1010, n_components=2, metric='euclidean')\n",
    "umap_embedding = pd.DataFrame(reducer.fit_transform(mds_coords))\n",
    "umap_embedding.shape\n",
    "labels = hdbscan.HDBSCAN(min_samples=5, min_cluster_size=2).fit_predict(umap_embedding)"
   ]
  },
  {
   "cell_type": "code",
   "execution_count": null,
   "metadata": {},
   "outputs": [],
   "source": [
    "sum(labels == -1), sum(labels >= 0), max(labels)"
   ]
  },
  {
   "cell_type": "code",
   "execution_count": null,
   "metadata": {},
   "outputs": [],
   "source": [
    "px.scatter(x=umap_embedding[0], y=umap_embedding[1], color=labels)"
   ]
  },
  {
   "cell_type": "code",
   "execution_count": null,
   "metadata": {},
   "outputs": [],
   "source": []
  },
  {
   "cell_type": "code",
   "execution_count": null,
   "metadata": {},
   "outputs": [],
   "source": []
  }
 ],
 "metadata": {
  "kernelspec": {
   "display_name": "Python 3",
   "language": "python",
   "name": "python3"
  },
  "language_info": {
   "codemirror_mode": {
    "name": "ipython",
    "version": 3
   },
   "file_extension": ".py",
   "mimetype": "text/x-python",
   "name": "python",
   "nbconvert_exporter": "python",
   "pygments_lexer": "ipython3",
   "version": "3.9.7"
  }
 },
 "nbformat": 4,
 "nbformat_minor": 4
}
