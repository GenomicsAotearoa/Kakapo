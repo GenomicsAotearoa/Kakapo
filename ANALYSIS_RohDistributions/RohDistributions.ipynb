{
 "cells": [
  {
   "cell_type": "code",
   "execution_count": 1,
   "id": "944c17a5-1127-4963-a747-765633ea53e1",
   "metadata": {
    "tags": []
   },
   "outputs": [],
   "source": [
    "import polars as pl\n",
    "import plotly.express as px\n",
    "import pyarrow"
   ]
  },
  {
   "cell_type": "code",
   "execution_count": 6,
   "id": "86b1cd3e-5dbb-41f4-a1a1-739bda144552",
   "metadata": {
    "tags": []
   },
   "outputs": [],
   "source": [
    "total_genome_length = 1148597545"
   ]
  },
  {
   "cell_type": "code",
   "execution_count": 2,
   "id": "3764ddd5-ee97-4e40-8476-3912131158ff",
   "metadata": {
    "tags": []
   },
   "outputs": [],
   "source": [
    "# We only want the \"RG\" lines for ROH from bcftools\n",
    "\n",
    "!grep \"^RG\" ../CircosPlot/bcftoolsroh > roh_data"
   ]
  },
  {
   "cell_type": "code",
   "execution_count": 3,
   "id": "03a52d10-8733-42ea-a75d-4b12db8974a9",
   "metadata": {
    "tags": []
   },
   "outputs": [
    {
     "data": {
      "text/html": [
       "<div><style>\n",
       ".dataframe > thead > tr > th,\n",
       ".dataframe > tbody > tr > td {\n",
       "  text-align: right;\n",
       "}\n",
       "</style>\n",
       "<small>shape: (5, 8)</small><table border=\"1\" class=\"dataframe\"><thead><tr><th>Type</th><th>Sample</th><th>Chr</th><th>Start</th><th>End</th><th>Length</th><th>NumMarkers</th><th>Quality</th></tr><tr><td>str</td><td>str</td><td>str</td><td>i64</td><td>i64</td><td>i64</td><td>i64</td><td>f64</td></tr></thead><tbody><tr><td>&quot;RG&quot;</td><td>&quot;Adelaide&quot;</td><td>&quot;S1&quot;</td><td>715348</td><td>789971</td><td>74624</td><td>261</td><td>61.9</td></tr><tr><td>&quot;RG&quot;</td><td>&quot;Adelaide&quot;</td><td>&quot;S1&quot;</td><td>967118</td><td>1001915</td><td>34798</td><td>147</td><td>12.8</td></tr><tr><td>&quot;RG&quot;</td><td>&quot;Adelaide&quot;</td><td>&quot;S1&quot;</td><td>1228034</td><td>1240431</td><td>12398</td><td>104</td><td>29.6</td></tr><tr><td>&quot;RG&quot;</td><td>&quot;Adelaide&quot;</td><td>&quot;S1&quot;</td><td>1316518</td><td>1347128</td><td>30611</td><td>126</td><td>53.1</td></tr><tr><td>&quot;RG&quot;</td><td>&quot;Adelaide&quot;</td><td>&quot;S1&quot;</td><td>2251310</td><td>2304273</td><td>52964</td><td>234</td><td>57.8</td></tr></tbody></table></div>"
      ],
      "text/plain": [
       "shape: (5, 8)\n",
       "┌──────┬──────────┬─────┬─────────┬─────────┬────────┬────────────┬─────────┐\n",
       "│ Type ┆ Sample   ┆ Chr ┆ Start   ┆ End     ┆ Length ┆ NumMarkers ┆ Quality │\n",
       "│ ---  ┆ ---      ┆ --- ┆ ---     ┆ ---     ┆ ---    ┆ ---        ┆ ---     │\n",
       "│ str  ┆ str      ┆ str ┆ i64     ┆ i64     ┆ i64    ┆ i64        ┆ f64     │\n",
       "╞══════╪══════════╪═════╪═════════╪═════════╪════════╪════════════╪═════════╡\n",
       "│ RG   ┆ Adelaide ┆ S1  ┆ 715348  ┆ 789971  ┆ 74624  ┆ 261        ┆ 61.9    │\n",
       "│ RG   ┆ Adelaide ┆ S1  ┆ 967118  ┆ 1001915 ┆ 34798  ┆ 147        ┆ 12.8    │\n",
       "│ RG   ┆ Adelaide ┆ S1  ┆ 1228034 ┆ 1240431 ┆ 12398  ┆ 104        ┆ 29.6    │\n",
       "│ RG   ┆ Adelaide ┆ S1  ┆ 1316518 ┆ 1347128 ┆ 30611  ┆ 126        ┆ 53.1    │\n",
       "│ RG   ┆ Adelaide ┆ S1  ┆ 2251310 ┆ 2304273 ┆ 52964  ┆ 234        ┆ 57.8    │\n",
       "└──────┴──────────┴─────┴─────────┴─────────┴────────┴────────────┴─────────┘"
      ]
     },
     "execution_count": 3,
     "metadata": {},
     "output_type": "execute_result"
    }
   ],
   "source": [
    "data = pl.read_csv(\"roh_data\", comment_char = \"#\", separator = \"\\t\", has_header=False, new_columns = [\"Type\", \"Sample\", \"Chr\", \"Start\", \"End\", \"Length\", \"NumMarkers\", \"Quality\"])\n",
    "data.head()"
   ]
  },
  {
   "cell_type": "code",
   "execution_count": 4,
   "id": "f3bbb430-8f08-4e36-b502-8e57fb18d661",
   "metadata": {
    "tags": []
   },
   "outputs": [],
   "source": [
    "founders = pl.read_csv(\"../CircosPlot/founder_names\", has_header=False, new_columns=[\"ID\"])\n",
    "offspring = pl.read_csv(\"../CircosPlot/offspring_names\", has_header=False, new_columns=[\"ID\"])\n",
    "founders = list(founders[\"ID\"])\n",
    "offspring = list(offspring[\"ID\"])\n",
    "#founders"
   ]
  },
  {
   "cell_type": "code",
   "execution_count": 9,
   "id": "edc7ce3a-8f51-4848-adbe-39b73594e0c4",
   "metadata": {
    "tags": []
   },
   "outputs": [
    {
     "data": {
      "text/html": [
       "<div><style>\n",
       ".dataframe > thead > tr > th,\n",
       ".dataframe > tbody > tr > td {\n",
       "  text-align: right;\n",
       "}\n",
       "</style>\n",
       "<small>shape: (13126, 9)</small><table border=\"1\" class=\"dataframe\"><thead><tr><th>Type</th><th>Sample</th><th>Chr</th><th>Start</th><th>End</th><th>Length</th><th>NumMarkers</th><th>Quality</th><th>Founder</th></tr><tr><td>str</td><td>str</td><td>str</td><td>i64</td><td>i64</td><td>i64</td><td>i64</td><td>f64</td><td>bool</td></tr></thead><tbody><tr><td>&quot;RG&quot;</td><td>&quot;Adelaide&quot;</td><td>&quot;S1&quot;</td><td>715348</td><td>789971</td><td>74624</td><td>261</td><td>61.9</td><td>false</td></tr><tr><td>&quot;RG&quot;</td><td>&quot;Adelaide&quot;</td><td>&quot;S1&quot;</td><td>967118</td><td>1001915</td><td>34798</td><td>147</td><td>12.8</td><td>false</td></tr><tr><td>&quot;RG&quot;</td><td>&quot;Adelaide&quot;</td><td>&quot;S1&quot;</td><td>1228034</td><td>1240431</td><td>12398</td><td>104</td><td>29.6</td><td>false</td></tr><tr><td>&quot;RG&quot;</td><td>&quot;Adelaide&quot;</td><td>&quot;S1&quot;</td><td>1316518</td><td>1347128</td><td>30611</td><td>126</td><td>53.1</td><td>false</td></tr><tr><td>&quot;RG&quot;</td><td>&quot;Adelaide&quot;</td><td>&quot;S1&quot;</td><td>2251310</td><td>2304273</td><td>52964</td><td>234</td><td>57.8</td><td>false</td></tr><tr><td>&quot;RG&quot;</td><td>&quot;Adelaide&quot;</td><td>&quot;S1&quot;</td><td>2548361</td><td>2724203</td><td>175843</td><td>450</td><td>26.3</td><td>false</td></tr><tr><td>&quot;RG&quot;</td><td>&quot;Adelaide&quot;</td><td>&quot;S1&quot;</td><td>3510914</td><td>3905758</td><td>394845</td><td>1244</td><td>87.0</td><td>false</td></tr><tr><td>&quot;RG&quot;</td><td>&quot;Adelaide&quot;</td><td>&quot;S1&quot;</td><td>4145398</td><td>4284244</td><td>138847</td><td>445</td><td>51.1</td><td>false</td></tr><tr><td>&quot;RG&quot;</td><td>&quot;Adelaide&quot;</td><td>&quot;S1&quot;</td><td>4315410</td><td>4319257</td><td>3848</td><td>42</td><td>21.5</td><td>false</td></tr><tr><td>&quot;RG&quot;</td><td>&quot;Adelaide&quot;</td><td>&quot;S1&quot;</td><td>5752562</td><td>6274726</td><td>522165</td><td>444</td><td>43.7</td><td>false</td></tr><tr><td>&quot;RG&quot;</td><td>&quot;Adelaide&quot;</td><td>&quot;S1&quot;</td><td>6860730</td><td>7038455</td><td>177726</td><td>194</td><td>57.9</td><td>false</td></tr><tr><td>&quot;RG&quot;</td><td>&quot;Adelaide&quot;</td><td>&quot;S1&quot;</td><td>7077471</td><td>7317636</td><td>240166</td><td>294</td><td>69.8</td><td>false</td></tr><tr><td>&hellip;</td><td>&hellip;</td><td>&hellip;</td><td>&hellip;</td><td>&hellip;</td><td>&hellip;</td><td>&hellip;</td><td>&hellip;</td><td>&hellip;</td></tr><tr><td>&quot;RG&quot;</td><td>&quot;Queenie&quot;</td><td>&quot;S1&quot;</td><td>15200874</td><td>15535695</td><td>334822</td><td>111</td><td>33.8</td><td>false</td></tr><tr><td>&quot;RG&quot;</td><td>&quot;Queenie&quot;</td><td>&quot;S1&quot;</td><td>15641712</td><td>15751336</td><td>109625</td><td>31</td><td>13.8</td><td>false</td></tr><tr><td>&quot;RG&quot;</td><td>&quot;Queenie&quot;</td><td>&quot;S1&quot;</td><td>15761459</td><td>16303387</td><td>541929</td><td>226</td><td>49.3</td><td>false</td></tr><tr><td>&quot;RG&quot;</td><td>&quot;Queenie&quot;</td><td>&quot;S1&quot;</td><td>16611231</td><td>17298783</td><td>687553</td><td>245</td><td>69.1</td><td>false</td></tr><tr><td>&quot;RG&quot;</td><td>&quot;Queenie&quot;</td><td>&quot;S1&quot;</td><td>17316637</td><td>17445107</td><td>128471</td><td>47</td><td>38.1</td><td>false</td></tr><tr><td>&quot;RG&quot;</td><td>&quot;Queenie&quot;</td><td>&quot;S1&quot;</td><td>17456785</td><td>18841276</td><td>1384492</td><td>1611</td><td>89.3</td><td>false</td></tr><tr><td>&quot;RG&quot;</td><td>&quot;Queenie&quot;</td><td>&quot;S1&quot;</td><td>19131145</td><td>19864938</td><td>733794</td><td>233</td><td>77.0</td><td>false</td></tr><tr><td>&quot;RG&quot;</td><td>&quot;Queenie&quot;</td><td>&quot;S1&quot;</td><td>20075599</td><td>20174205</td><td>98607</td><td>21</td><td>13.4</td><td>false</td></tr><tr><td>&quot;RG&quot;</td><td>&quot;Queenie&quot;</td><td>&quot;S1&quot;</td><td>20220768</td><td>20462818</td><td>242051</td><td>49</td><td>47.1</td><td>false</td></tr><tr><td>&quot;RG&quot;</td><td>&quot;Queenie&quot;</td><td>&quot;S1&quot;</td><td>20596631</td><td>21223872</td><td>627242</td><td>190</td><td>51.1</td><td>false</td></tr><tr><td>&quot;RG&quot;</td><td>&quot;Queenie&quot;</td><td>&quot;S1&quot;</td><td>21227456</td><td>21501885</td><td>274430</td><td>147</td><td>42.2</td><td>false</td></tr><tr><td>&quot;RG&quot;</td><td>&quot;Queenie&quot;</td><td>&quot;S1&quot;</td><td>21590976</td><td>22083855</td><td>492880</td><td>123</td><td>46.8</td><td>false</td></tr></tbody></table></div>"
      ],
      "text/plain": [
       "shape: (13126, 9)\n",
       "┌──────┬──────────┬─────┬──────────┬───┬────────┬────────────┬─────────┬─────────┐\n",
       "│ Type ┆ Sample   ┆ Chr ┆ Start    ┆ … ┆ Length ┆ NumMarkers ┆ Quality ┆ Founder │\n",
       "│ ---  ┆ ---      ┆ --- ┆ ---      ┆   ┆ ---    ┆ ---        ┆ ---     ┆ ---     │\n",
       "│ str  ┆ str      ┆ str ┆ i64      ┆   ┆ i64    ┆ i64        ┆ f64     ┆ bool    │\n",
       "╞══════╪══════════╪═════╪══════════╪═══╪════════╪════════════╪═════════╪═════════╡\n",
       "│ RG   ┆ Adelaide ┆ S1  ┆ 715348   ┆ … ┆ 74624  ┆ 261        ┆ 61.9    ┆ false   │\n",
       "│ RG   ┆ Adelaide ┆ S1  ┆ 967118   ┆ … ┆ 34798  ┆ 147        ┆ 12.8    ┆ false   │\n",
       "│ RG   ┆ Adelaide ┆ S1  ┆ 1228034  ┆ … ┆ 12398  ┆ 104        ┆ 29.6    ┆ false   │\n",
       "│ RG   ┆ Adelaide ┆ S1  ┆ 1316518  ┆ … ┆ 30611  ┆ 126        ┆ 53.1    ┆ false   │\n",
       "│ …    ┆ …        ┆ …   ┆ …        ┆ … ┆ …      ┆ …          ┆ …       ┆ …       │\n",
       "│ RG   ┆ Queenie  ┆ S1  ┆ 20220768 ┆ … ┆ 242051 ┆ 49         ┆ 47.1    ┆ false   │\n",
       "│ RG   ┆ Queenie  ┆ S1  ┆ 20596631 ┆ … ┆ 627242 ┆ 190        ┆ 51.1    ┆ false   │\n",
       "│ RG   ┆ Queenie  ┆ S1  ┆ 21227456 ┆ … ┆ 274430 ┆ 147        ┆ 42.2    ┆ false   │\n",
       "│ RG   ┆ Queenie  ┆ S1  ┆ 21590976 ┆ … ┆ 492880 ┆ 123        ┆ 46.8    ┆ false   │\n",
       "└──────┴──────────┴─────┴──────────┴───┴────────┴────────────┴─────────┴─────────┘"
      ]
     },
     "execution_count": 9,
     "metadata": {},
     "output_type": "execute_result"
    }
   ],
   "source": [
    "data = data.with_columns([\n",
    "    (pl.col(\"Sample\").is_in(founders)).alias(\"Founder\")\n",
    "])\n",
    "\n",
    "#founders_data = data.filter(pl.col(\"Sample\").is_in(founders))\n",
    "#offspring_data = data.filter(pl.col(\"Sample\").is_in(offspring))\n",
    "#founders_data.head()\n",
    "data"
   ]
  },
  {
   "cell_type": "code",
   "execution_count": 20,
   "id": "34df6ccd-4d94-48ef-aaf5-6c9f4a1a055b",
   "metadata": {
    "tags": []
   },
   "outputs": [
    {
     "data": {
      "text/html": [
       "<div><style>\n",
       ".dataframe > thead > tr > th,\n",
       ".dataframe > tbody > tr > td {\n",
       "  text-align: right;\n",
       "}\n",
       "</style>\n",
       "<small>shape: (5, 4)</small><table border=\"1\" class=\"dataframe\"><thead><tr><th>Sample</th><th>Length</th><th>count</th><th>Founder</th></tr><tr><td>str</td><td>f64</td><td>u32</td><td>bool</td></tr></thead><tbody><tr><td>&quot;Hine_Taumai&quot;</td><td>0.023182</td><td>101</td><td>false</td></tr><tr><td>&quot;Hurihuri&quot;</td><td>0.062851</td><td>87</td><td>false</td></tr><tr><td>&quot;Pura&quot;</td><td>0.054258</td><td>92</td><td>false</td></tr><tr><td>&quot;Hoki&quot;</td><td>0.057249</td><td>104</td><td>false</td></tr><tr><td>&quot;Maggie&quot;</td><td>0.038229</td><td>147</td><td>true</td></tr></tbody></table></div>"
      ],
      "text/plain": [
       "shape: (5, 4)\n",
       "┌─────────────┬──────────┬───────┬─────────┐\n",
       "│ Sample      ┆ Length   ┆ count ┆ Founder │\n",
       "│ ---         ┆ ---      ┆ ---   ┆ ---     │\n",
       "│ str         ┆ f64      ┆ u32   ┆ bool    │\n",
       "╞═════════════╪══════════╪═══════╪═════════╡\n",
       "│ Hine_Taumai ┆ 0.023182 ┆ 101   ┆ false   │\n",
       "│ Hurihuri    ┆ 0.062851 ┆ 87    ┆ false   │\n",
       "│ Pura        ┆ 0.054258 ┆ 92    ┆ false   │\n",
       "│ Hoki        ┆ 0.057249 ┆ 104   ┆ false   │\n",
       "│ Maggie      ┆ 0.038229 ┆ 147   ┆ true    │\n",
       "└─────────────┴──────────┴───────┴─────────┘"
      ]
     },
     "execution_count": 20,
     "metadata": {},
     "output_type": "execute_result"
    }
   ],
   "source": [
    "data_agg = data.groupby(\"Sample\").agg([pl.sum(\"Length\")/total_genome_length, pl.count(), pl.first(\"Founder\")])\n",
    "data_agg.head()"
   ]
  },
  {
   "cell_type": "code",
   "execution_count": 22,
   "id": "49299a23-a425-412b-86f9-1c4a93e28e77",
   "metadata": {
    "tags": []
   },
   "outputs": [
    {
     "data": {
      "application/vnd.plotly.v1+json": {
       "config": {
        "plotlyServerURL": "https://plot.ly"
       },
       "data": [
        {
         "alignmentgroup": "True",
         "hovertemplate": "Sample=%{x}<br>Length=%{y}<extra></extra>",
         "legendgroup": "",
         "marker": {
          "color": "#636efa"
         },
         "name": "",
         "notched": false,
         "offsetgroup": "",
         "orientation": "v",
         "showlegend": false,
         "type": "box",
         "x": [
          "Hine_Taumai",
          "Hurihuri",
          "Pura",
          "Hoki",
          "Maggie",
          "Palmersan",
          "JEM",
          "Elwin",
          "Doc",
          "Kokoto",
          "Bluster_Murphy",
          "Heather",
          "Komaru",
          "Queenie",
          "Arab",
          "Hera",
          "Ngatapa",
          "Aranga",
          "Morehu",
          "Bonus",
          "Gertrude",
          "Hugh",
          "Egilsay",
          "Marian",
          "Kura",
          "Oraka",
          "Henry",
          "Kotiu",
          "Felix",
          "Adelaide",
          "Lisa",
          "Kuihi",
          "Nora",
          "Matangi",
          "Dobbie",
          "Attenborough",
          "Jean",
          "Guapo",
          "Ariki",
          "Joe",
          "Blake",
          "Awhero",
          "Hokonui",
          "Ihi",
          "Mahli",
          "Evohe",
          "Ninihi",
          "Kanawera",
          "Jack",
          "Gumboots",
          "Pounamu",
          "Manu",
          "Boomer",
          "Merty",
          "Bill",
          "Elliott",
          "Konini_3-4-16",
          "Jester",
          "Paddy",
          "Jemma",
          "Barnard",
          "Jamieson",
          "Esperance",
          "Al",
          "Hillary",
          "Aparima",
          "Kuia",
          "Horton",
          "Hinemoa",
          "Luke",
          "Moss",
          "Gunner",
          "Aumaria",
          "Pearl",
          "Faulkner",
          "George",
          "Marama",
          "Mila",
          "Ian",
          "Fuchsia",
          "Hauturu",
          "Boss",
          "Percy",
          "Awarua",
          "Kumi",
          "Hananui",
          "Piripi",
          "Huhana",
          "Ben",
          "Juanma",
          "Flossie",
          "Gulliver",
          "Margaret-Maree",
          "Jimmy",
          "Clout",
          "Blades",
          "Konini",
          "Basil",
          "Merv",
          "Ox",
          "Dusky",
          "Nog",
          "Ellie",
          "Mukeke",
          "Makorea",
          "Hakatere",
          "Millie",
          "Bella",
          "Lee",
          "Cyndy",
          "Lionel",
          "Alice",
          "Moorhouse",
          "Atareta"
         ],
         "x0": " ",
         "xaxis": "x",
         "y": [
          0.02318158533065644,
          0.0628510188919131,
          0.0542583050706416,
          0.05724863011090625,
          0.038229224144824374,
          0.04033092809718656,
          0.04236509055049391,
          0.043283305119723205,
          0.0411929027760546,
          0.04419340022183314,
          0.03452403426476068,
          0.03851793971925998,
          0.04138816873407125,
          0.009502080208607794,
          0.03211726697535297,
          0.04064503028343144,
          0.036883663198148314,
          0.025037556562076756,
          0.035715240885352925,
          0.07863892308772086,
          0.02079191018991774,
          0.08471260227184274,
          0.04557915540381901,
          0.05954370031323722,
          0.05334373929904229,
          0.034012588804549465,
          0.015495199408597029,
          0.033646876722168165,
          0.031860084639132674,
          0.021771933179606438,
          0.044066083216293135,
          0.0687456806291537,
          0.02797924663856042,
          0.051296169190401676,
          0.05174468921575137,
          0.036579877941494296,
          0.04298164158099432,
          0.038135547294766335,
          0.08901166334984635,
          0.030390002270116293,
          0.06620448766499845,
          0.045416380373684326,
          0.044178397577891396,
          0.032451229033403514,
          0.06524614241622813,
          0.06378044626588507,
          0.033350993275891076,
          0.08108126419511022,
          0.04277620582934469,
          0.1215706516245427,
          0.06735841142686753,
          0.07020657265987801,
          0.0368741751054326,
          0.04632123256018277,
          0.037225842233538815,
          0.04435210420025754,
          0.08621409337941777,
          0.06690105540840242,
          0.04968229842420567,
          0.04005317458692635,
          0.04827862660981049,
          0.06461437979131324,
          0.117673969083749,
          0.049191221281950415,
          0.041408457824972975,
          0.03141271819451782,
          0.012422560070855801,
          0.10183103778094876,
          0.05141105886657628,
          0.05002936690065797,
          0.051332675449867866,
          0.07927198991183636,
          0.06149999911413706,
          0.04662883464547193,
          0.13150858945985297,
          0.044937343131792956,
          0.054208738536003054,
          0.055715613600758655,
          0.040165071918206126,
          0.06660397920317686,
          0.04833860845488748,
          0.0535065108466691,
          0.02547712044778922,
          0.035907088761886564,
          0.03734584249002552,
          0.04362936628077156,
          0.0500636025649872,
          0.02481925120256112,
          0.12173313760652343,
          0.041637748755592195,
          0.0268166453376844,
          0.018093888577830803,
          0.048138655911892966,
          0.04507666608324502,
          0.02552232862381749,
          0.03491578244667065,
          0.033196493555103325,
          0.04530185287832911,
          0.021255962200406757,
          0.08203980707620266,
          0.051626819383459505,
          0.06712950444274195,
          0.053403925741457164,
          0.028752695096523125,
          0.038839780908638454,
          0.03805048791045431,
          0.039967255893795246,
          0.04414965295786001,
          0.11149564053787003,
          0.045979418317492575,
          0.03704275721745513,
          0.044549979427302364,
          0.027888980034342665,
          0.04075739862390181
         ],
         "y0": " ",
         "yaxis": "y"
        }
       ],
       "layout": {
        "autosize": true,
        "boxmode": "group",
        "legend": {
         "tracegroupgap": 0
        },
        "margin": {
         "t": 60
        },
        "template": {
         "data": {
          "bar": [
           {
            "error_x": {
             "color": "#2a3f5f"
            },
            "error_y": {
             "color": "#2a3f5f"
            },
            "marker": {
             "line": {
              "color": "#E5ECF6",
              "width": 0.5
             },
             "pattern": {
              "fillmode": "overlay",
              "size": 10,
              "solidity": 0.2
             }
            },
            "type": "bar"
           }
          ],
          "barpolar": [
           {
            "marker": {
             "line": {
              "color": "#E5ECF6",
              "width": 0.5
             },
             "pattern": {
              "fillmode": "overlay",
              "size": 10,
              "solidity": 0.2
             }
            },
            "type": "barpolar"
           }
          ],
          "carpet": [
           {
            "aaxis": {
             "endlinecolor": "#2a3f5f",
             "gridcolor": "white",
             "linecolor": "white",
             "minorgridcolor": "white",
             "startlinecolor": "#2a3f5f"
            },
            "baxis": {
             "endlinecolor": "#2a3f5f",
             "gridcolor": "white",
             "linecolor": "white",
             "minorgridcolor": "white",
             "startlinecolor": "#2a3f5f"
            },
            "type": "carpet"
           }
          ],
          "choropleth": [
           {
            "colorbar": {
             "outlinewidth": 0,
             "ticks": ""
            },
            "type": "choropleth"
           }
          ],
          "contour": [
           {
            "colorbar": {
             "outlinewidth": 0,
             "ticks": ""
            },
            "colorscale": [
             [
              0,
              "#0d0887"
             ],
             [
              0.1111111111111111,
              "#46039f"
             ],
             [
              0.2222222222222222,
              "#7201a8"
             ],
             [
              0.3333333333333333,
              "#9c179e"
             ],
             [
              0.4444444444444444,
              "#bd3786"
             ],
             [
              0.5555555555555556,
              "#d8576b"
             ],
             [
              0.6666666666666666,
              "#ed7953"
             ],
             [
              0.7777777777777778,
              "#fb9f3a"
             ],
             [
              0.8888888888888888,
              "#fdca26"
             ],
             [
              1,
              "#f0f921"
             ]
            ],
            "type": "contour"
           }
          ],
          "contourcarpet": [
           {
            "colorbar": {
             "outlinewidth": 0,
             "ticks": ""
            },
            "type": "contourcarpet"
           }
          ],
          "heatmap": [
           {
            "colorbar": {
             "outlinewidth": 0,
             "ticks": ""
            },
            "colorscale": [
             [
              0,
              "#0d0887"
             ],
             [
              0.1111111111111111,
              "#46039f"
             ],
             [
              0.2222222222222222,
              "#7201a8"
             ],
             [
              0.3333333333333333,
              "#9c179e"
             ],
             [
              0.4444444444444444,
              "#bd3786"
             ],
             [
              0.5555555555555556,
              "#d8576b"
             ],
             [
              0.6666666666666666,
              "#ed7953"
             ],
             [
              0.7777777777777778,
              "#fb9f3a"
             ],
             [
              0.8888888888888888,
              "#fdca26"
             ],
             [
              1,
              "#f0f921"
             ]
            ],
            "type": "heatmap"
           }
          ],
          "heatmapgl": [
           {
            "colorbar": {
             "outlinewidth": 0,
             "ticks": ""
            },
            "colorscale": [
             [
              0,
              "#0d0887"
             ],
             [
              0.1111111111111111,
              "#46039f"
             ],
             [
              0.2222222222222222,
              "#7201a8"
             ],
             [
              0.3333333333333333,
              "#9c179e"
             ],
             [
              0.4444444444444444,
              "#bd3786"
             ],
             [
              0.5555555555555556,
              "#d8576b"
             ],
             [
              0.6666666666666666,
              "#ed7953"
             ],
             [
              0.7777777777777778,
              "#fb9f3a"
             ],
             [
              0.8888888888888888,
              "#fdca26"
             ],
             [
              1,
              "#f0f921"
             ]
            ],
            "type": "heatmapgl"
           }
          ],
          "histogram": [
           {
            "marker": {
             "pattern": {
              "fillmode": "overlay",
              "size": 10,
              "solidity": 0.2
             }
            },
            "type": "histogram"
           }
          ],
          "histogram2d": [
           {
            "colorbar": {
             "outlinewidth": 0,
             "ticks": ""
            },
            "colorscale": [
             [
              0,
              "#0d0887"
             ],
             [
              0.1111111111111111,
              "#46039f"
             ],
             [
              0.2222222222222222,
              "#7201a8"
             ],
             [
              0.3333333333333333,
              "#9c179e"
             ],
             [
              0.4444444444444444,
              "#bd3786"
             ],
             [
              0.5555555555555556,
              "#d8576b"
             ],
             [
              0.6666666666666666,
              "#ed7953"
             ],
             [
              0.7777777777777778,
              "#fb9f3a"
             ],
             [
              0.8888888888888888,
              "#fdca26"
             ],
             [
              1,
              "#f0f921"
             ]
            ],
            "type": "histogram2d"
           }
          ],
          "histogram2dcontour": [
           {
            "colorbar": {
             "outlinewidth": 0,
             "ticks": ""
            },
            "colorscale": [
             [
              0,
              "#0d0887"
             ],
             [
              0.1111111111111111,
              "#46039f"
             ],
             [
              0.2222222222222222,
              "#7201a8"
             ],
             [
              0.3333333333333333,
              "#9c179e"
             ],
             [
              0.4444444444444444,
              "#bd3786"
             ],
             [
              0.5555555555555556,
              "#d8576b"
             ],
             [
              0.6666666666666666,
              "#ed7953"
             ],
             [
              0.7777777777777778,
              "#fb9f3a"
             ],
             [
              0.8888888888888888,
              "#fdca26"
             ],
             [
              1,
              "#f0f921"
             ]
            ],
            "type": "histogram2dcontour"
           }
          ],
          "mesh3d": [
           {
            "colorbar": {
             "outlinewidth": 0,
             "ticks": ""
            },
            "type": "mesh3d"
           }
          ],
          "parcoords": [
           {
            "line": {
             "colorbar": {
              "outlinewidth": 0,
              "ticks": ""
             }
            },
            "type": "parcoords"
           }
          ],
          "pie": [
           {
            "automargin": true,
            "type": "pie"
           }
          ],
          "scatter": [
           {
            "fillpattern": {
             "fillmode": "overlay",
             "size": 10,
             "solidity": 0.2
            },
            "type": "scatter"
           }
          ],
          "scatter3d": [
           {
            "line": {
             "colorbar": {
              "outlinewidth": 0,
              "ticks": ""
             }
            },
            "marker": {
             "colorbar": {
              "outlinewidth": 0,
              "ticks": ""
             }
            },
            "type": "scatter3d"
           }
          ],
          "scattercarpet": [
           {
            "marker": {
             "colorbar": {
              "outlinewidth": 0,
              "ticks": ""
             }
            },
            "type": "scattercarpet"
           }
          ],
          "scattergeo": [
           {
            "marker": {
             "colorbar": {
              "outlinewidth": 0,
              "ticks": ""
             }
            },
            "type": "scattergeo"
           }
          ],
          "scattergl": [
           {
            "marker": {
             "colorbar": {
              "outlinewidth": 0,
              "ticks": ""
             }
            },
            "type": "scattergl"
           }
          ],
          "scattermapbox": [
           {
            "marker": {
             "colorbar": {
              "outlinewidth": 0,
              "ticks": ""
             }
            },
            "type": "scattermapbox"
           }
          ],
          "scatterpolar": [
           {
            "marker": {
             "colorbar": {
              "outlinewidth": 0,
              "ticks": ""
             }
            },
            "type": "scatterpolar"
           }
          ],
          "scatterpolargl": [
           {
            "marker": {
             "colorbar": {
              "outlinewidth": 0,
              "ticks": ""
             }
            },
            "type": "scatterpolargl"
           }
          ],
          "scatterternary": [
           {
            "marker": {
             "colorbar": {
              "outlinewidth": 0,
              "ticks": ""
             }
            },
            "type": "scatterternary"
           }
          ],
          "surface": [
           {
            "colorbar": {
             "outlinewidth": 0,
             "ticks": ""
            },
            "colorscale": [
             [
              0,
              "#0d0887"
             ],
             [
              0.1111111111111111,
              "#46039f"
             ],
             [
              0.2222222222222222,
              "#7201a8"
             ],
             [
              0.3333333333333333,
              "#9c179e"
             ],
             [
              0.4444444444444444,
              "#bd3786"
             ],
             [
              0.5555555555555556,
              "#d8576b"
             ],
             [
              0.6666666666666666,
              "#ed7953"
             ],
             [
              0.7777777777777778,
              "#fb9f3a"
             ],
             [
              0.8888888888888888,
              "#fdca26"
             ],
             [
              1,
              "#f0f921"
             ]
            ],
            "type": "surface"
           }
          ],
          "table": [
           {
            "cells": {
             "fill": {
              "color": "#EBF0F8"
             },
             "line": {
              "color": "white"
             }
            },
            "header": {
             "fill": {
              "color": "#C8D4E3"
             },
             "line": {
              "color": "white"
             }
            },
            "type": "table"
           }
          ]
         },
         "layout": {
          "annotationdefaults": {
           "arrowcolor": "#2a3f5f",
           "arrowhead": 0,
           "arrowwidth": 1
          },
          "autotypenumbers": "strict",
          "coloraxis": {
           "colorbar": {
            "outlinewidth": 0,
            "ticks": ""
           }
          },
          "colorscale": {
           "diverging": [
            [
             0,
             "#8e0152"
            ],
            [
             0.1,
             "#c51b7d"
            ],
            [
             0.2,
             "#de77ae"
            ],
            [
             0.3,
             "#f1b6da"
            ],
            [
             0.4,
             "#fde0ef"
            ],
            [
             0.5,
             "#f7f7f7"
            ],
            [
             0.6,
             "#e6f5d0"
            ],
            [
             0.7,
             "#b8e186"
            ],
            [
             0.8,
             "#7fbc41"
            ],
            [
             0.9,
             "#4d9221"
            ],
            [
             1,
             "#276419"
            ]
           ],
           "sequential": [
            [
             0,
             "#0d0887"
            ],
            [
             0.1111111111111111,
             "#46039f"
            ],
            [
             0.2222222222222222,
             "#7201a8"
            ],
            [
             0.3333333333333333,
             "#9c179e"
            ],
            [
             0.4444444444444444,
             "#bd3786"
            ],
            [
             0.5555555555555556,
             "#d8576b"
            ],
            [
             0.6666666666666666,
             "#ed7953"
            ],
            [
             0.7777777777777778,
             "#fb9f3a"
            ],
            [
             0.8888888888888888,
             "#fdca26"
            ],
            [
             1,
             "#f0f921"
            ]
           ],
           "sequentialminus": [
            [
             0,
             "#0d0887"
            ],
            [
             0.1111111111111111,
             "#46039f"
            ],
            [
             0.2222222222222222,
             "#7201a8"
            ],
            [
             0.3333333333333333,
             "#9c179e"
            ],
            [
             0.4444444444444444,
             "#bd3786"
            ],
            [
             0.5555555555555556,
             "#d8576b"
            ],
            [
             0.6666666666666666,
             "#ed7953"
            ],
            [
             0.7777777777777778,
             "#fb9f3a"
            ],
            [
             0.8888888888888888,
             "#fdca26"
            ],
            [
             1,
             "#f0f921"
            ]
           ]
          },
          "colorway": [
           "#636efa",
           "#EF553B",
           "#00cc96",
           "#ab63fa",
           "#FFA15A",
           "#19d3f3",
           "#FF6692",
           "#B6E880",
           "#FF97FF",
           "#FECB52"
          ],
          "font": {
           "color": "#2a3f5f"
          },
          "geo": {
           "bgcolor": "white",
           "lakecolor": "white",
           "landcolor": "#E5ECF6",
           "showlakes": true,
           "showland": true,
           "subunitcolor": "white"
          },
          "hoverlabel": {
           "align": "left"
          },
          "hovermode": "closest",
          "mapbox": {
           "style": "light"
          },
          "paper_bgcolor": "white",
          "plot_bgcolor": "#E5ECF6",
          "polar": {
           "angularaxis": {
            "gridcolor": "white",
            "linecolor": "white",
            "ticks": ""
           },
           "bgcolor": "#E5ECF6",
           "radialaxis": {
            "gridcolor": "white",
            "linecolor": "white",
            "ticks": ""
           }
          },
          "scene": {
           "xaxis": {
            "backgroundcolor": "#E5ECF6",
            "gridcolor": "white",
            "gridwidth": 2,
            "linecolor": "white",
            "showbackground": true,
            "ticks": "",
            "zerolinecolor": "white"
           },
           "yaxis": {
            "backgroundcolor": "#E5ECF6",
            "gridcolor": "white",
            "gridwidth": 2,
            "linecolor": "white",
            "showbackground": true,
            "ticks": "",
            "zerolinecolor": "white"
           },
           "zaxis": {
            "backgroundcolor": "#E5ECF6",
            "gridcolor": "white",
            "gridwidth": 2,
            "linecolor": "white",
            "showbackground": true,
            "ticks": "",
            "zerolinecolor": "white"
           }
          },
          "shapedefaults": {
           "line": {
            "color": "#2a3f5f"
           }
          },
          "ternary": {
           "aaxis": {
            "gridcolor": "white",
            "linecolor": "white",
            "ticks": ""
           },
           "baxis": {
            "gridcolor": "white",
            "linecolor": "white",
            "ticks": ""
           },
           "bgcolor": "#E5ECF6",
           "caxis": {
            "gridcolor": "white",
            "linecolor": "white",
            "ticks": ""
           }
          },
          "title": {
           "x": 0.05
          },
          "xaxis": {
           "automargin": true,
           "gridcolor": "white",
           "linecolor": "white",
           "ticks": "",
           "title": {
            "standoff": 15
           },
           "zerolinecolor": "white",
           "zerolinewidth": 2
          },
          "yaxis": {
           "automargin": true,
           "gridcolor": "white",
           "linecolor": "white",
           "ticks": "",
           "title": {
            "standoff": 15
           },
           "zerolinecolor": "white",
           "zerolinewidth": 2
          }
         }
        },
        "xaxis": {
         "anchor": "y",
         "autorange": true,
         "domain": [
          0,
          1
         ],
         "range": [
          -0.5,
          113.5
         ],
         "title": {
          "text": "Sample"
         },
         "type": "category"
        },
        "yaxis": {
         "anchor": "x",
         "autorange": true,
         "domain": [
          0,
          1
         ],
         "range": [
          0.0027239408057608393,
          0.13828672886269994
         ],
         "title": {
          "text": "Length"
         },
         "type": "linear"
        }
       }
      },
      "image/png": "[encoded data removed]",
      "text/html": [
       "<div>                            <div id=\"37216e1b-23fa-41c4-989c-029b2c3d7d28\" class=\"plotly-graph-div\" style=\"height:525px; width:100%;\"></div>            <script type=\"text/javascript\">                require([\"plotly\"], function(Plotly) {                    window.PLOTLYENV=window.PLOTLYENV || {};                                    if (document.getElementById(\"37216e1b-23fa-41c4-989c-029b2c3d7d28\")) {                    Plotly.newPlot(                        \"37216e1b-23fa-41c4-989c-029b2c3d7d28\",                        [{\"alignmentgroup\":\"True\",\"hovertemplate\":\"Sample=%{x}<br>Length=%{y}<extra></extra>\",\"legendgroup\":\"\",\"marker\":{\"color\":\"#636efa\"},\"name\":\"\",\"notched\":false,\"offsetgroup\":\"\",\"orientation\":\"v\",\"showlegend\":false,\"x\":[\"Hine_Taumai\",\"Hurihuri\",\"Pura\",\"Hoki\",\"Maggie\",\"Palmersan\",\"JEM\",\"Elwin\",\"Doc\",\"Kokoto\",\"Bluster_Murphy\",\"Heather\",\"Komaru\",\"Queenie\",\"Arab\",\"Hera\",\"Ngatapa\",\"Aranga\",\"Morehu\",\"Bonus\",\"Gertrude\",\"Hugh\",\"Egilsay\",\"Marian\",\"Kura\",\"Oraka\",\"Henry\",\"Kotiu\",\"Felix\",\"Adelaide\",\"Lisa\",\"Kuihi\",\"Nora\",\"Matangi\",\"Dobbie\",\"Attenborough\",\"Jean\",\"Guapo\",\"Ariki\",\"Joe\",\"Blake\",\"Awhero\",\"Hokonui\",\"Ihi\",\"Mahli\",\"Evohe\",\"Ninihi\",\"Kanawera\",\"Jack\",\"Gumboots\",\"Pounamu\",\"Manu\",\"Boomer\",\"Merty\",\"Bill\",\"Elliott\",\"Konini_3-4-16\",\"Jester\",\"Paddy\",\"Jemma\",\"Barnard\",\"Jamieson\",\"Esperance\",\"Al\",\"Hillary\",\"Aparima\",\"Kuia\",\"Horton\",\"Hinemoa\",\"Luke\",\"Moss\",\"Gunner\",\"Aumaria\",\"Pearl\",\"Faulkner\",\"George\",\"Marama\",\"Mila\",\"Ian\",\"Fuchsia\",\"Hauturu\",\"Boss\",\"Percy\",\"Awarua\",\"Kumi\",\"Hananui\",\"Piripi\",\"Huhana\",\"Ben\",\"Juanma\",\"Flossie\",\"Gulliver\",\"Margaret-Maree\",\"Jimmy\",\"Clout\",\"Blades\",\"Konini\",\"Basil\",\"Merv\",\"Ox\",\"Dusky\",\"Nog\",\"Ellie\",\"Mukeke\",\"Makorea\",\"Hakatere\",\"Millie\",\"Bella\",\"Lee\",\"Cyndy\",\"Lionel\",\"Alice\",\"Moorhouse\",\"Atareta\"],\"x0\":\" \",\"xaxis\":\"x\",\"y\":[0.02318158533065644,0.0628510188919131,0.0542583050706416,0.05724863011090625,0.038229224144824374,0.04033092809718656,0.04236509055049391,0.043283305119723205,0.0411929027760546,0.04419340022183314,0.03452403426476068,0.03851793971925998,0.04138816873407125,0.009502080208607794,0.03211726697535297,0.04064503028343144,0.036883663198148314,0.025037556562076756,0.035715240885352925,0.07863892308772086,0.02079191018991774,0.08471260227184274,0.04557915540381901,0.05954370031323722,0.05334373929904229,0.034012588804549465,0.015495199408597029,0.033646876722168165,0.031860084639132674,0.021771933179606438,0.044066083216293135,0.0687456806291537,0.02797924663856042,0.051296169190401676,0.05174468921575137,0.036579877941494296,0.04298164158099432,0.038135547294766335,0.08901166334984635,0.030390002270116293,0.06620448766499845,0.045416380373684326,0.044178397577891396,0.032451229033403514,0.06524614241622813,0.06378044626588507,0.033350993275891076,0.08108126419511022,0.04277620582934469,0.1215706516245427,0.06735841142686753,0.07020657265987801,0.0368741751054326,0.04632123256018277,0.037225842233538815,0.04435210420025754,0.08621409337941777,0.06690105540840242,0.04968229842420567,0.04005317458692635,0.04827862660981049,0.06461437979131324,0.117673969083749,0.049191221281950415,0.041408457824972975,0.03141271819451782,0.012422560070855801,0.10183103778094876,0.05141105886657628,0.05002936690065797,0.051332675449867866,0.07927198991183636,0.06149999911413706,0.04662883464547193,0.13150858945985297,0.044937343131792956,0.054208738536003054,0.055715613600758655,0.040165071918206126,0.06660397920317686,0.04833860845488748,0.0535065108466691,0.02547712044778922,0.035907088761886564,0.03734584249002552,0.04362936628077156,0.0500636025649872,0.02481925120256112,0.12173313760652343,0.041637748755592195,0.0268166453376844,0.018093888577830803,0.048138655911892966,0.04507666608324502,0.02552232862381749,0.03491578244667065,0.033196493555103325,0.04530185287832911,0.021255962200406757,0.08203980707620266,0.051626819383459505,0.06712950444274195,0.053403925741457164,0.028752695096523125,0.038839780908638454,0.03805048791045431,0.039967255893795246,0.04414965295786001,0.11149564053787003,0.045979418317492575,0.03704275721745513,0.044549979427302364,0.027888980034342665,0.04075739862390181],\"y0\":\" \",\"yaxis\":\"y\",\"type\":\"box\"}],                        {\"template\":{\"data\":{\"histogram2dcontour\":[{\"type\":\"histogram2dcontour\",\"colorbar\":{\"outlinewidth\":0,\"ticks\":\"\"},\"colorscale\":[[0.0,\"#0d0887\"],[0.1111111111111111,\"#46039f\"],[0.2222222222222222,\"#7201a8\"],[0.3333333333333333,\"#9c179e\"],[0.4444444444444444,\"#bd3786\"],[0.5555555555555556,\"#d8576b\"],[0.6666666666666666,\"#ed7953\"],[0.7777777777777778,\"#fb9f3a\"],[0.8888888888888888,\"#fdca26\"],[1.0,\"#f0f921\"]]}],\"choropleth\":[{\"type\":\"choropleth\",\"colorbar\":{\"outlinewidth\":0,\"ticks\":\"\"}}],\"histogram2d\":[{\"type\":\"histogram2d\",\"colorbar\":{\"outlinewidth\":0,\"ticks\":\"\"},\"colorscale\":[[0.0,\"#0d0887\"],[0.1111111111111111,\"#46039f\"],[0.2222222222222222,\"#7201a8\"],[0.3333333333333333,\"#9c179e\"],[0.4444444444444444,\"#bd3786\"],[0.5555555555555556,\"#d8576b\"],[0.6666666666666666,\"#ed7953\"],[0.7777777777777778,\"#fb9f3a\"],[0.8888888888888888,\"#fdca26\"],[1.0,\"#f0f921\"]]}],\"heatmap\":[{\"type\":\"heatmap\",\"colorbar\":{\"outlinewidth\":0,\"ticks\":\"\"},\"colorscale\":[[0.0,\"#0d0887\"],[0.1111111111111111,\"#46039f\"],[0.2222222222222222,\"#7201a8\"],[0.3333333333333333,\"#9c179e\"],[0.4444444444444444,\"#bd3786\"],[0.5555555555555556,\"#d8576b\"],[0.6666666666666666,\"#ed7953\"],[0.7777777777777778,\"#fb9f3a\"],[0.8888888888888888,\"#fdca26\"],[1.0,\"#f0f921\"]]}],\"heatmapgl\":[{\"type\":\"heatmapgl\",\"colorbar\":{\"outlinewidth\":0,\"ticks\":\"\"},\"colorscale\":[[0.0,\"#0d0887\"],[0.1111111111111111,\"#46039f\"],[0.2222222222222222,\"#7201a8\"],[0.3333333333333333,\"#9c179e\"],[0.4444444444444444,\"#bd3786\"],[0.5555555555555556,\"#d8576b\"],[0.6666666666666666,\"#ed7953\"],[0.7777777777777778,\"#fb9f3a\"],[0.8888888888888888,\"#fdca26\"],[1.0,\"#f0f921\"]]}],\"contourcarpet\":[{\"type\":\"contourcarpet\",\"colorbar\":{\"outlinewidth\":0,\"ticks\":\"\"}}],\"contour\":[{\"type\":\"contour\",\"colorbar\":{\"outlinewidth\":0,\"ticks\":\"\"},\"colorscale\":[[0.0,\"#0d0887\"],[0.1111111111111111,\"#46039f\"],[0.2222222222222222,\"#7201a8\"],[0.3333333333333333,\"#9c179e\"],[0.4444444444444444,\"#bd3786\"],[0.5555555555555556,\"#d8576b\"],[0.6666666666666666,\"#ed7953\"],[0.7777777777777778,\"#fb9f3a\"],[0.8888888888888888,\"#fdca26\"],[1.0,\"#f0f921\"]]}],\"surface\":[{\"type\":\"surface\",\"colorbar\":{\"outlinewidth\":0,\"ticks\":\"\"},\"colorscale\":[[0.0,\"#0d0887\"],[0.1111111111111111,\"#46039f\"],[0.2222222222222222,\"#7201a8\"],[0.3333333333333333,\"#9c179e\"],[0.4444444444444444,\"#bd3786\"],[0.5555555555555556,\"#d8576b\"],[0.6666666666666666,\"#ed7953\"],[0.7777777777777778,\"#fb9f3a\"],[0.8888888888888888,\"#fdca26\"],[1.0,\"#f0f921\"]]}],\"mesh3d\":[{\"type\":\"mesh3d\",\"colorbar\":{\"outlinewidth\":0,\"ticks\":\"\"}}],\"scatter\":[{\"fillpattern\":{\"fillmode\":\"overlay\",\"size\":10,\"solidity\":0.2},\"type\":\"scatter\"}],\"parcoords\":[{\"type\":\"parcoords\",\"line\":{\"colorbar\":{\"outlinewidth\":0,\"ticks\":\"\"}}}],\"scatterpolargl\":[{\"type\":\"scatterpolargl\",\"marker\":{\"colorbar\":{\"outlinewidth\":0,\"ticks\":\"\"}}}],\"bar\":[{\"error_x\":{\"color\":\"#2a3f5f\"},\"error_y\":{\"color\":\"#2a3f5f\"},\"marker\":{\"line\":{\"color\":\"#E5ECF6\",\"width\":0.5},\"pattern\":{\"fillmode\":\"overlay\",\"size\":10,\"solidity\":0.2}},\"type\":\"bar\"}],\"scattergeo\":[{\"type\":\"scattergeo\",\"marker\":{\"colorbar\":{\"outlinewidth\":0,\"ticks\":\"\"}}}],\"scatterpolar\":[{\"type\":\"scatterpolar\",\"marker\":{\"colorbar\":{\"outlinewidth\":0,\"ticks\":\"\"}}}],\"histogram\":[{\"marker\":{\"pattern\":{\"fillmode\":\"overlay\",\"size\":10,\"solidity\":0.2}},\"type\":\"histogram\"}],\"scattergl\":[{\"type\":\"scattergl\",\"marker\":{\"colorbar\":{\"outlinewidth\":0,\"ticks\":\"\"}}}],\"scatter3d\":[{\"type\":\"scatter3d\",\"line\":{\"colorbar\":{\"outlinewidth\":0,\"ticks\":\"\"}},\"marker\":{\"colorbar\":{\"outlinewidth\":0,\"ticks\":\"\"}}}],\"scattermapbox\":[{\"type\":\"scattermapbox\",\"marker\":{\"colorbar\":{\"outlinewidth\":0,\"ticks\":\"\"}}}],\"scatterternary\":[{\"type\":\"scatterternary\",\"marker\":{\"colorbar\":{\"outlinewidth\":0,\"ticks\":\"\"}}}],\"scattercarpet\":[{\"type\":\"scattercarpet\",\"marker\":{\"colorbar\":{\"outlinewidth\":0,\"ticks\":\"\"}}}],\"carpet\":[{\"aaxis\":{\"endlinecolor\":\"#2a3f5f\",\"gridcolor\":\"white\",\"linecolor\":\"white\",\"minorgridcolor\":\"white\",\"startlinecolor\":\"#2a3f5f\"},\"baxis\":{\"endlinecolor\":\"#2a3f5f\",\"gridcolor\":\"white\",\"linecolor\":\"white\",\"minorgridcolor\":\"white\",\"startlinecolor\":\"#2a3f5f\"},\"type\":\"carpet\"}],\"table\":[{\"cells\":{\"fill\":{\"color\":\"#EBF0F8\"},\"line\":{\"color\":\"white\"}},\"header\":{\"fill\":{\"color\":\"#C8D4E3\"},\"line\":{\"color\":\"white\"}},\"type\":\"table\"}],\"barpolar\":[{\"marker\":{\"line\":{\"color\":\"#E5ECF6\",\"width\":0.5},\"pattern\":{\"fillmode\":\"overlay\",\"size\":10,\"solidity\":0.2}},\"type\":\"barpolar\"}],\"pie\":[{\"automargin\":true,\"type\":\"pie\"}]},\"layout\":{\"autotypenumbers\":\"strict\",\"colorway\":[\"#636efa\",\"#EF553B\",\"#00cc96\",\"#ab63fa\",\"#FFA15A\",\"#19d3f3\",\"#FF6692\",\"#B6E880\",\"#FF97FF\",\"#FECB52\"],\"font\":{\"color\":\"#2a3f5f\"},\"hovermode\":\"closest\",\"hoverlabel\":{\"align\":\"left\"},\"paper_bgcolor\":\"white\",\"plot_bgcolor\":\"#E5ECF6\",\"polar\":{\"bgcolor\":\"#E5ECF6\",\"angularaxis\":{\"gridcolor\":\"white\",\"linecolor\":\"white\",\"ticks\":\"\"},\"radialaxis\":{\"gridcolor\":\"white\",\"linecolor\":\"white\",\"ticks\":\"\"}},\"ternary\":{\"bgcolor\":\"#E5ECF6\",\"aaxis\":{\"gridcolor\":\"white\",\"linecolor\":\"white\",\"ticks\":\"\"},\"baxis\":{\"gridcolor\":\"white\",\"linecolor\":\"white\",\"ticks\":\"\"},\"caxis\":{\"gridcolor\":\"white\",\"linecolor\":\"white\",\"ticks\":\"\"}},\"coloraxis\":{\"colorbar\":{\"outlinewidth\":0,\"ticks\":\"\"}},\"colorscale\":{\"sequential\":[[0.0,\"#0d0887\"],[0.1111111111111111,\"#46039f\"],[0.2222222222222222,\"#7201a8\"],[0.3333333333333333,\"#9c179e\"],[0.4444444444444444,\"#bd3786\"],[0.5555555555555556,\"#d8576b\"],[0.6666666666666666,\"#ed7953\"],[0.7777777777777778,\"#fb9f3a\"],[0.8888888888888888,\"#fdca26\"],[1.0,\"#f0f921\"]],\"sequentialminus\":[[0.0,\"#0d0887\"],[0.1111111111111111,\"#46039f\"],[0.2222222222222222,\"#7201a8\"],[0.3333333333333333,\"#9c179e\"],[0.4444444444444444,\"#bd3786\"],[0.5555555555555556,\"#d8576b\"],[0.6666666666666666,\"#ed7953\"],[0.7777777777777778,\"#fb9f3a\"],[0.8888888888888888,\"#fdca26\"],[1.0,\"#f0f921\"]],\"diverging\":[[0,\"#8e0152\"],[0.1,\"#c51b7d\"],[0.2,\"#de77ae\"],[0.3,\"#f1b6da\"],[0.4,\"#fde0ef\"],[0.5,\"#f7f7f7\"],[0.6,\"#e6f5d0\"],[0.7,\"#b8e186\"],[0.8,\"#7fbc41\"],[0.9,\"#4d9221\"],[1,\"#276419\"]]},\"xaxis\":{\"gridcolor\":\"white\",\"linecolor\":\"white\",\"ticks\":\"\",\"title\":{\"standoff\":15},\"zerolinecolor\":\"white\",\"automargin\":true,\"zerolinewidth\":2},\"yaxis\":{\"gridcolor\":\"white\",\"linecolor\":\"white\",\"ticks\":\"\",\"title\":{\"standoff\":15},\"zerolinecolor\":\"white\",\"automargin\":true,\"zerolinewidth\":2},\"scene\":{\"xaxis\":{\"backgroundcolor\":\"#E5ECF6\",\"gridcolor\":\"white\",\"linecolor\":\"white\",\"showbackground\":true,\"ticks\":\"\",\"zerolinecolor\":\"white\",\"gridwidth\":2},\"yaxis\":{\"backgroundcolor\":\"#E5ECF6\",\"gridcolor\":\"white\",\"linecolor\":\"white\",\"showbackground\":true,\"ticks\":\"\",\"zerolinecolor\":\"white\",\"gridwidth\":2},\"zaxis\":{\"backgroundcolor\":\"#E5ECF6\",\"gridcolor\":\"white\",\"linecolor\":\"white\",\"showbackground\":true,\"ticks\":\"\",\"zerolinecolor\":\"white\",\"gridwidth\":2}},\"shapedefaults\":{\"line\":{\"color\":\"#2a3f5f\"}},\"annotationdefaults\":{\"arrowcolor\":\"#2a3f5f\",\"arrowhead\":0,\"arrowwidth\":1},\"geo\":{\"bgcolor\":\"white\",\"landcolor\":\"#E5ECF6\",\"subunitcolor\":\"white\",\"showland\":true,\"showlakes\":true,\"lakecolor\":\"white\"},\"title\":{\"x\":0.05},\"mapbox\":{\"style\":\"light\"}}},\"xaxis\":{\"anchor\":\"y\",\"domain\":[0.0,1.0],\"title\":{\"text\":\"Sample\"}},\"yaxis\":{\"anchor\":\"x\",\"domain\":[0.0,1.0],\"title\":{\"text\":\"Length\"}},\"legend\":{\"tracegroupgap\":0},\"margin\":{\"t\":60},\"boxmode\":\"group\"},                        {\"responsive\": true}                    ).then(function(){\n",
       "                            \n",
       "var gd = document.getElementById('37216e1b-23fa-41c4-989c-029b2c3d7d28');\n",
       "var x = new MutationObserver(function (mutations, observer) {{\n",
       "        var display = window.getComputedStyle(gd).display;\n",
       "        if (!display || display === 'none') {{\n",
       "            console.log([gd, 'removed!']);\n",
       "            Plotly.purge(gd);\n",
       "            observer.disconnect();\n",
       "        }}\n",
       "}});\n",
       "\n",
       "// Listen for the removal of the full notebook cells\n",
       "var notebookContainer = gd.closest('#notebook-container');\n",
       "if (notebookContainer) {{\n",
       "    x.observe(notebookContainer, {childList: true});\n",
       "}}\n",
       "\n",
       "// Listen for the clearing of the current output cell\n",
       "var outputEl = gd.closest('.output');\n",
       "if (outputEl) {{\n",
       "    x.observe(outputEl, {childList: true});\n",
       "}}\n",
       "\n",
       "                        })                };                });            </script>        </div>"
      ]
     },
     "metadata": {},
     "output_type": "display_data"
    }
   ],
   "source": [
    "px.box(data_agg.to_pandas(), x=\"Sample\", y=\"Length\")"
   ]
  },
  {
   "cell_type": "code",
   "execution_count": null,
   "id": "0b7e37f9-90c0-44d4-980b-2863d6b7a1ad",
   "metadata": {},
   "outputs": [],
   "source": []
  },
  {
   "cell_type": "code",
   "execution_count": null,
   "id": "be2e8ad8-8c53-4015-be0a-094fdd224179",
   "metadata": {},
   "outputs": [],
   "source": []
  }
 ],
 "metadata": {
  "kernelspec": {
   "display_name": "Python 3 (ipykernel)",
   "language": "python",
   "name": "python3"
  },
  "language_info": {
   "codemirror_mode": {
    "name": "ipython",
    "version": 3
   },
   "file_extension": ".py",
   "mimetype": "text/x-python",
   "name": "python",
   "nbconvert_exporter": "python",
   "pygments_lexer": "ipython3",
   "version": "3.9.16"
  }
 },
 "nbformat": 4,
 "nbformat_minor": 5
}
