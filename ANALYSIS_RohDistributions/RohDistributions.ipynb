{
 "cells": [
  {
   "cell_type": "code",
   "execution_count": 1,
   "id": "944c17a5-1127-4963-a747-765633ea53e1",
   "metadata": {
    "tags": []
   },
   "outputs": [],
   "source": [
    "import polars as pl\n",
    "import plotly.express as px\n",
    "import pyarrow\n",
    "import numpy as np\n",
    "import scipy.stats"
   ]
  },
  {
   "cell_type": "code",
   "execution_count": 2,
   "id": "86b1cd3e-5dbb-41f4-a1a1-739bda144552",
   "metadata": {
    "tags": []
   },
   "outputs": [],
   "source": [
    "total_genome_length = 1148597545"
   ]
  },
  {
   "cell_type": "code",
   "execution_count": 54,
   "id": "3764ddd5-ee97-4e40-8476-3912131158ff",
   "metadata": {
    "tags": []
   },
   "outputs": [],
   "source": [
    "# We only want the \"RG\" lines for ROH from bcftools\n",
    "\n",
    "#!grep \"^RG\" ../CircosPlot/data/bcftoolsroh > roh_data"
   ]
  },
  {
   "cell_type": "code",
   "execution_count": 65,
   "id": "03a52d10-8733-42ea-a75d-4b12db8974a9",
   "metadata": {
    "tags": []
   },
   "outputs": [
    {
     "data": {
      "text/html": [
       "<div><style>\n",
       ".dataframe > thead > tr > th,\n",
       ".dataframe > tbody > tr > td {\n",
       "  text-align: right;\n",
       "}\n",
       "</style>\n",
       "<small>shape: (5, 8)</small><table border=\"1\" class=\"dataframe\"><thead><tr><th>Type</th><th>Sample</th><th>Chr</th><th>Start</th><th>End</th><th>Length</th><th>NumMarkers</th><th>Quality</th></tr><tr><td>str</td><td>str</td><td>str</td><td>i64</td><td>i64</td><td>i64</td><td>i64</td><td>f64</td></tr></thead><tbody><tr><td>&quot;RG&quot;</td><td>&quot;Adelaide&quot;</td><td>&quot;S1&quot;</td><td>715348</td><td>789971</td><td>74624</td><td>261</td><td>61.9</td></tr><tr><td>&quot;RG&quot;</td><td>&quot;Adelaide&quot;</td><td>&quot;S1&quot;</td><td>967118</td><td>1001915</td><td>34798</td><td>147</td><td>12.8</td></tr><tr><td>&quot;RG&quot;</td><td>&quot;Adelaide&quot;</td><td>&quot;S1&quot;</td><td>1228034</td><td>1240431</td><td>12398</td><td>104</td><td>29.6</td></tr><tr><td>&quot;RG&quot;</td><td>&quot;Adelaide&quot;</td><td>&quot;S1&quot;</td><td>1316518</td><td>1347128</td><td>30611</td><td>126</td><td>53.1</td></tr><tr><td>&quot;RG&quot;</td><td>&quot;Adelaide&quot;</td><td>&quot;S1&quot;</td><td>2251310</td><td>2304273</td><td>52964</td><td>234</td><td>57.8</td></tr></tbody></table></div>"
      ],
      "text/plain": [
       "shape: (5, 8)\n",
       "┌──────┬──────────┬─────┬─────────┬─────────┬────────┬────────────┬─────────┐\n",
       "│ Type ┆ Sample   ┆ Chr ┆ Start   ┆ End     ┆ Length ┆ NumMarkers ┆ Quality │\n",
       "│ ---  ┆ ---      ┆ --- ┆ ---     ┆ ---     ┆ ---    ┆ ---        ┆ ---     │\n",
       "│ str  ┆ str      ┆ str ┆ i64     ┆ i64     ┆ i64    ┆ i64        ┆ f64     │\n",
       "╞══════╪══════════╪═════╪═════════╪═════════╪════════╪════════════╪═════════╡\n",
       "│ RG   ┆ Adelaide ┆ S1  ┆ 715348  ┆ 789971  ┆ 74624  ┆ 261        ┆ 61.9    │\n",
       "│ RG   ┆ Adelaide ┆ S1  ┆ 967118  ┆ 1001915 ┆ 34798  ┆ 147        ┆ 12.8    │\n",
       "│ RG   ┆ Adelaide ┆ S1  ┆ 1228034 ┆ 1240431 ┆ 12398  ┆ 104        ┆ 29.6    │\n",
       "│ RG   ┆ Adelaide ┆ S1  ┆ 1316518 ┆ 1347128 ┆ 30611  ┆ 126        ┆ 53.1    │\n",
       "│ RG   ┆ Adelaide ┆ S1  ┆ 2251310 ┆ 2304273 ┆ 52964  ┆ 234        ┆ 57.8    │\n",
       "└──────┴──────────┴─────┴─────────┴─────────┴────────┴────────────┴─────────┘"
      ]
     },
     "execution_count": 65,
     "metadata": {},
     "output_type": "execute_result"
    }
   ],
   "source": [
    "data = pl.read_csv(\"roh_data\", comment_char = \"#\", separator = \"\\t\", has_header=False, new_columns = [\"Type\", \"Sample\", \"Chr\", \"Start\", \"End\", \"Length\", \"NumMarkers\", \"Quality\"])\n",
    "data.head()"
   ]
  },
  {
   "cell_type": "code",
   "execution_count": 66,
   "id": "f3bbb430-8f08-4e36-b502-8e57fb18d661",
   "metadata": {
    "tags": []
   },
   "outputs": [],
   "source": [
    "founders = pl.read_csv(\"../CircosPlot/founder_names\", has_header=False, new_columns=[\"ID\"])\n",
    "offspring = pl.read_csv(\"../CircosPlot/offspring_names\", has_header=False, new_columns=[\"ID\"])\n",
    "founders = list(founders[\"ID\"])\n",
    "offspring = list(offspring[\"ID\"])\n",
    "#len(founders)"
   ]
  },
  {
   "cell_type": "code",
   "execution_count": 67,
   "id": "edc7ce3a-8f51-4848-adbe-39b73594e0c4",
   "metadata": {
    "tags": []
   },
   "outputs": [
    {
     "data": {
      "text/html": [
       "<div><style>\n",
       ".dataframe > thead > tr > th,\n",
       ".dataframe > tbody > tr > td {\n",
       "  text-align: right;\n",
       "}\n",
       "</style>\n",
       "<small>shape: (188169, 9)</small><table border=\"1\" class=\"dataframe\"><thead><tr><th>Type</th><th>Sample</th><th>Chr</th><th>Start</th><th>End</th><th>Length</th><th>NumMarkers</th><th>Quality</th><th>Founder</th></tr><tr><td>str</td><td>str</td><td>str</td><td>i64</td><td>i64</td><td>i64</td><td>i64</td><td>f64</td><td>bool</td></tr></thead><tbody><tr><td>&quot;RG&quot;</td><td>&quot;Adelaide&quot;</td><td>&quot;S1&quot;</td><td>715348</td><td>789971</td><td>74624</td><td>261</td><td>61.9</td><td>false</td></tr><tr><td>&quot;RG&quot;</td><td>&quot;Adelaide&quot;</td><td>&quot;S1&quot;</td><td>967118</td><td>1001915</td><td>34798</td><td>147</td><td>12.8</td><td>false</td></tr><tr><td>&quot;RG&quot;</td><td>&quot;Adelaide&quot;</td><td>&quot;S1&quot;</td><td>1228034</td><td>1240431</td><td>12398</td><td>104</td><td>29.6</td><td>false</td></tr><tr><td>&quot;RG&quot;</td><td>&quot;Adelaide&quot;</td><td>&quot;S1&quot;</td><td>1316518</td><td>1347128</td><td>30611</td><td>126</td><td>53.1</td><td>false</td></tr><tr><td>&quot;RG&quot;</td><td>&quot;Adelaide&quot;</td><td>&quot;S1&quot;</td><td>2251310</td><td>2304273</td><td>52964</td><td>234</td><td>57.8</td><td>false</td></tr><tr><td>&quot;RG&quot;</td><td>&quot;Adelaide&quot;</td><td>&quot;S1&quot;</td><td>2548361</td><td>2724203</td><td>175843</td><td>450</td><td>26.3</td><td>false</td></tr><tr><td>&quot;RG&quot;</td><td>&quot;Adelaide&quot;</td><td>&quot;S1&quot;</td><td>3510914</td><td>3905758</td><td>394845</td><td>1244</td><td>87.0</td><td>false</td></tr><tr><td>&quot;RG&quot;</td><td>&quot;Adelaide&quot;</td><td>&quot;S1&quot;</td><td>4145398</td><td>4284244</td><td>138847</td><td>445</td><td>51.1</td><td>false</td></tr><tr><td>&quot;RG&quot;</td><td>&quot;Adelaide&quot;</td><td>&quot;S1&quot;</td><td>4315410</td><td>4319257</td><td>3848</td><td>42</td><td>21.5</td><td>false</td></tr><tr><td>&quot;RG&quot;</td><td>&quot;Adelaide&quot;</td><td>&quot;S1&quot;</td><td>5752562</td><td>6274726</td><td>522165</td><td>444</td><td>43.7</td><td>false</td></tr><tr><td>&quot;RG&quot;</td><td>&quot;Adelaide&quot;</td><td>&quot;S1&quot;</td><td>6860730</td><td>7038455</td><td>177726</td><td>194</td><td>57.9</td><td>false</td></tr><tr><td>&quot;RG&quot;</td><td>&quot;Adelaide&quot;</td><td>&quot;S1&quot;</td><td>7077471</td><td>7317636</td><td>240166</td><td>294</td><td>69.8</td><td>false</td></tr><tr><td>&hellip;</td><td>&hellip;</td><td>&hellip;</td><td>&hellip;</td><td>&hellip;</td><td>&hellip;</td><td>&hellip;</td><td>&hellip;</td><td>&hellip;</td></tr><tr><td>&quot;RG&quot;</td><td>&quot;Te_Here&quot;</td><td>&quot;NW_022045641.1...</td><td>7695</td><td>25532</td><td>17838</td><td>31</td><td>21.3</td><td>false</td></tr><tr><td>&quot;RG&quot;</td><td>&quot;Tia&quot;</td><td>&quot;NW_022045641.1...</td><td>7695</td><td>25532</td><td>17838</td><td>31</td><td>15.8</td><td>false</td></tr><tr><td>&quot;RG&quot;</td><td>&quot;Tiaka&quot;</td><td>&quot;NW_022045641.1...</td><td>377</td><td>25532</td><td>25156</td><td>57</td><td>46.8</td><td>false</td></tr><tr><td>&quot;RG&quot;</td><td>&quot;Tiwai&quot;</td><td>&quot;NW_022045641.1...</td><td>377</td><td>25532</td><td>25156</td><td>51</td><td>38.7</td><td>false</td></tr><tr><td>&quot;RG&quot;</td><td>&quot;Trevor&quot;</td><td>&quot;NW_022045641.1...</td><td>377</td><td>25532</td><td>25156</td><td>56</td><td>25.2</td><td>false</td></tr><tr><td>&quot;RG&quot;</td><td>&quot;Tukaha&quot;</td><td>&quot;NW_022045641.1...</td><td>14801</td><td>25532</td><td>10732</td><td>17</td><td>8.8</td><td>false</td></tr><tr><td>&quot;RG&quot;</td><td>&quot;Waa&quot;</td><td>&quot;NW_022045641.1...</td><td>7695</td><td>25532</td><td>17838</td><td>31</td><td>33.5</td><td>false</td></tr><tr><td>&quot;RG&quot;</td><td>&quot;Wendy&quot;</td><td>&quot;NW_022045641.1...</td><td>646</td><td>25532</td><td>24887</td><td>50</td><td>16.8</td><td>false</td></tr><tr><td>&quot;RG&quot;</td><td>&quot;Wharetutu&quot;</td><td>&quot;NW_022045641.1...</td><td>377</td><td>25532</td><td>25156</td><td>57</td><td>68.2</td><td>false</td></tr><tr><td>&quot;RG&quot;</td><td>&quot;Whiskas&quot;</td><td>&quot;NW_022045641.1...</td><td>377</td><td>25532</td><td>25156</td><td>53</td><td>35.1</td><td>true</td></tr><tr><td>&quot;RG&quot;</td><td>&quot;Wolf&quot;</td><td>&quot;NW_022045641.1...</td><td>377</td><td>25532</td><td>25156</td><td>57</td><td>34.5</td><td>false</td></tr><tr><td>&quot;RG&quot;</td><td>&quot;Yasmine&quot;</td><td>&quot;NW_022045641.1...</td><td>14801</td><td>25532</td><td>10732</td><td>17</td><td>7.2</td><td>false</td></tr></tbody></table></div>"
      ],
      "text/plain": [
       "shape: (188169, 9)\n",
       "┌──────┬───────────┬─────────────────────┬─────────┬───┬────────┬────────────┬─────────┬─────────┐\n",
       "│ Type ┆ Sample    ┆ Chr                 ┆ Start   ┆ … ┆ Length ┆ NumMarkers ┆ Quality ┆ Founder │\n",
       "│ ---  ┆ ---       ┆ ---                 ┆ ---     ┆   ┆ ---    ┆ ---        ┆ ---     ┆ ---     │\n",
       "│ str  ┆ str       ┆ str                 ┆ i64     ┆   ┆ i64    ┆ i64        ┆ f64     ┆ bool    │\n",
       "╞══════╪═══════════╪═════════════════════╪═════════╪═══╪════════╪════════════╪═════════╪═════════╡\n",
       "│ RG   ┆ Adelaide  ┆ S1                  ┆ 715348  ┆ … ┆ 74624  ┆ 261        ┆ 61.9    ┆ false   │\n",
       "│ RG   ┆ Adelaide  ┆ S1                  ┆ 967118  ┆ … ┆ 34798  ┆ 147        ┆ 12.8    ┆ false   │\n",
       "│ RG   ┆ Adelaide  ┆ S1                  ┆ 1228034 ┆ … ┆ 12398  ┆ 104        ┆ 29.6    ┆ false   │\n",
       "│ RG   ┆ Adelaide  ┆ S1                  ┆ 1316518 ┆ … ┆ 30611  ┆ 126        ┆ 53.1    ┆ false   │\n",
       "│ …    ┆ …         ┆ …                   ┆ …       ┆ … ┆ …      ┆ …          ┆ …       ┆ …       │\n",
       "│ RG   ┆ Wharetutu ┆ NW_022045641.1_ctg1 ┆ 377     ┆ … ┆ 25156  ┆ 57         ┆ 68.2    ┆ false   │\n",
       "│ RG   ┆ Whiskas   ┆ NW_022045641.1_ctg1 ┆ 377     ┆ … ┆ 25156  ┆ 53         ┆ 35.1    ┆ true    │\n",
       "│ RG   ┆ Wolf      ┆ NW_022045641.1_ctg1 ┆ 377     ┆ … ┆ 25156  ┆ 57         ┆ 34.5    ┆ false   │\n",
       "│ RG   ┆ Yasmine   ┆ NW_022045641.1_ctg1 ┆ 14801   ┆ … ┆ 10732  ┆ 17         ┆ 7.2     ┆ false   │\n",
       "└──────┴───────────┴─────────────────────┴─────────┴───┴────────┴────────────┴─────────┴─────────┘"
      ]
     },
     "execution_count": 67,
     "metadata": {},
     "output_type": "execute_result"
    }
   ],
   "source": [
    "data = data.with_columns([\n",
    "    (pl.col(\"Sample\").is_in(founders)).alias(\"Founder\")\n",
    "])\n",
    "\n",
    "#founders_data = data.filter(pl.col(\"Sample\").is_in(founders))\n",
    "#offspring_data = data.filter(pl.col(\"Sample\").is_in(offspring))\n",
    "#founders_data.head()\n",
    "data"
   ]
  },
  {
   "cell_type": "code",
   "execution_count": 58,
   "id": "34df6ccd-4d94-48ef-aaf5-6c9f4a1a055b",
   "metadata": {
    "tags": []
   },
   "outputs": [
    {
     "data": {
      "text/html": [
       "<div><style>\n",
       ".dataframe > thead > tr > th,\n",
       ".dataframe > tbody > tr > td {\n",
       "  text-align: right;\n",
       "}\n",
       "</style>\n",
       "<small>shape: (5, 4)</small><table border=\"1\" class=\"dataframe\"><thead><tr><th>Sample</th><th>Length</th><th>count</th><th>Founder</th></tr><tr><td>str</td><td>f64</td><td>u32</td><td>bool</td></tr></thead><tbody><tr><td>&quot;Tumeke&quot;</td><td>0.415237</td><td>1137</td><td>false</td></tr><tr><td>&quot;Aranga&quot;</td><td>0.455237</td><td>1019</td><td>false</td></tr><tr><td>&quot;Awhero&quot;</td><td>0.323235</td><td>1355</td><td>false</td></tr><tr><td>&quot;Te_Here&quot;</td><td>0.452668</td><td>1062</td><td>false</td></tr><tr><td>&quot;Hauturu&quot;</td><td>0.433597</td><td>935</td><td>false</td></tr></tbody></table></div>"
      ],
      "text/plain": [
       "shape: (5, 4)\n",
       "┌─────────┬──────────┬───────┬─────────┐\n",
       "│ Sample  ┆ Length   ┆ count ┆ Founder │\n",
       "│ ---     ┆ ---      ┆ ---   ┆ ---     │\n",
       "│ str     ┆ f64      ┆ u32   ┆ bool    │\n",
       "╞═════════╪══════════╪═══════╪═════════╡\n",
       "│ Tumeke  ┆ 0.415237 ┆ 1137  ┆ false   │\n",
       "│ Aranga  ┆ 0.455237 ┆ 1019  ┆ false   │\n",
       "│ Awhero  ┆ 0.323235 ┆ 1355  ┆ false   │\n",
       "│ Te_Here ┆ 0.452668 ┆ 1062  ┆ false   │\n",
       "│ Hauturu ┆ 0.433597 ┆ 935   ┆ false   │\n",
       "└─────────┴──────────┴───────┴─────────┘"
      ]
     },
     "execution_count": 58,
     "metadata": {},
     "output_type": "execute_result"
    }
   ],
   "source": [
    "data_agg = data.groupby(\"Sample\").agg([pl.sum(\"Length\")/total_genome_length, pl.count(), pl.first(\"Founder\")])\n",
    "data_agg.head()"
   ]
  },
  {
   "cell_type": "code",
   "execution_count": 59,
   "id": "49299a23-a425-412b-86f9-1c4a93e28e77",
   "metadata": {
    "tags": []
   },
   "outputs": [
    {
     "data": {
      "application/vnd.plotly.v1+json": {
       "config": {
        "plotlyServerURL": "https://plot.ly"
       },
       "data": [
        {
         "alignmentgroup": "True",
         "bingroup": "x",
         "histnorm": "probability density",
         "hovertemplate": "Founder=False<br>Length=%{x}<br>probability density=%{y}<extra></extra>",
         "legendgroup": "False",
         "marker": {
          "color": "#636efa",
          "pattern": {
           "shape": ""
          }
         },
         "name": "False",
         "nbinsx": 80,
         "offsetgroup": "False",
         "orientation": "v",
         "showlegend": true,
         "type": "histogram",
         "x": [
          0.41523657966724975,
          0.45523658245325604,
          0.32323496825861664,
          0.45266826510586006,
          0.4335974973723281,
          0.4218794590928714,
          0.4259206883469353,
          0.12434364292498988,
          0.47915254076222147,
          0.4102801011994153,
          0.41677491135504735,
          0.35448198176324675,
          0.20065203430327722,
          0.47112659029756154,
          0.4202889855558589,
          0.4441613045585954,
          0.39235342784926464,
          0.44759029499753983,
          0.34984561454900204,
          0.3087886479854874,
          0.3797828281097362,
          0.3366173109833697,
          0.3848312404324354,
          0.3277130354653509,
          0.5763349981737946,
          0.42708723794111886,
          0.4581574749926877,
          0.3087308183302795,
          0.2803825294611787,
          0.3656322119337283,
          0.18093373079602046,
          0.3908474765197239,
          0.40542175457984286,
          0.41534344303339077,
          0.4493214609822277,
          0.30902918393404716,
          0.36476053063477515,
          0.4575120496187374,
          0.4091165665864278,
          0.40021850299183775,
          0.4607350000909152,
          0.36608019913537254,
          0.36594337140081556,
          0.4646640986856715,
          0.5285071700201135,
          0.3957637389865743,
          0.3048546782328357,
          0.5219198618433404,
          0.2889912297348677,
          0.39303249947308566,
          0.41936527123606204,
          0.4208678584629919,
          0.3748050314699219,
          0.3182760128570534,
          0.11301283688535134,
          0.4574442417078299,
          0.5219688955542735,
          0.46745306947352044,
          0.4156244631360413,
          0.387860404141818,
          0.3541620829426377,
          0.3716808701693682,
          0.4759897105648088,
          0.3884634857024703,
          0.480418457624337,
          0.4156375538831576,
          0.4661833653840867,
          0.36051806030980155,
          0.3213293312410832,
          0.3973359119446838,
          0.5276143185557653,
          0.5604785843417417,
          0.42301874065036416,
          0.46070034565501355,
          0.524033706688795,
          0.498135875782322,
          0.39941451729291305,
          0.4253865708898063,
          0.41371217104595154,
          0.45880884239570613,
          0.34299417991529835,
          0.4963085507900855,
          0.33177158148984204,
          0.5679251961138398,
          0.4236883067689301,
          0.39614774816535064,
          0.43063995230809937,
          0.4151358594450069,
          0.44734673884402215,
          0.4261242017542359,
          0.4431030026274347,
          0.37461049074417097,
          0.42671427875984186,
          0.5412401826089572,
          0.4686753513825419,
          0.4524996142143069,
          0.47088172559170843,
          0.4858367497207214,
          0.43072393211496895,
          0.35472191436731654,
          0.5688719803070796,
          0.4449706272008443,
          0.3780595508760207,
          0.4027864642528032,
          0.36991198427121835,
          0.3299800558079723,
          0.39702067446087047,
          0.41043223107359156,
          0.3204143223203563,
          0.3314741979532962,
          0.38763805472002816,
          0.3639694119318355,
          0.44571680936337016,
          0.2354715288896077,
          0.3286068837975794,
          0.3068296040977521,
          0.42394051260139165,
          0.49175057569881886,
          0.5097711322376194,
          0.4077595177168866,
          0.4276860133807791,
          0.4239760576886833,
          0.32247576848163995,
          0.47499444028499993,
          0.42246608754505044,
          0.5033708277689206,
          0.5245551739360543,
          0.4061941460966643
         ],
         "xaxis": "x",
         "yaxis": "y"
        },
        {
         "alignmentgroup": "True",
         "bingroup": "x",
         "histnorm": "probability density",
         "hovertemplate": "Founder=True<br>Length=%{x}<br>probability density=%{y}<extra></extra>",
         "legendgroup": "True",
         "marker": {
          "color": "#EF553B",
          "pattern": {
           "shape": ""
          }
         },
         "name": "True",
         "nbinsx": 80,
         "offsetgroup": "True",
         "orientation": "v",
         "showlegend": true,
         "type": "histogram",
         "x": [
          0.47000883325064047,
          0.4170042928308714,
          0.40927492144343736,
          0.4588662793981507,
          0.36068677301586954,
          0.5372049067021121,
          0.3668216189683742,
          0.38318865464752494,
          0.440123880815016,
          0.3624525055031351,
          0.423094843895039,
          0.5398531920073014,
          0.3066310419460282,
          0.3592732056553368,
          0.304288492972532,
          0.4796323746277901,
          0.3589911651778779,
          0.4866298525825249,
          0.543839389801238,
          0.47515714131184217,
          0.4170369900973452,
          0.3480579692515362,
          0.45998053826590757,
          0.4788095816450661,
          0.39260862689724796,
          0.4334221261111959,
          0.37636523069531724,
          0.43145431413924884,
          0.41351401808890337,
          0.4221410711791135,
          0.29614129290168384,
          0.5425213859394067,
          0.40081123802158225,
          0.6211333892412246,
          0.3388612414281279,
          0.33000622772530824,
          0.36452744028806017,
          0.4865252380458466,
          0.3944076904674213,
          0.4457351970049701,
          0.5118562742531371
         ],
         "xaxis": "x",
         "yaxis": "y"
        }
       ],
       "layout": {
        "autosize": true,
        "barmode": "relative",
        "legend": {
         "title": {
          "text": "Founder"
         },
         "tracegroupgap": 0
        },
        "margin": {
         "t": 60
        },
        "template": {
         "data": {
          "bar": [
           {
            "error_x": {
             "color": "#2a3f5f"
            },
            "error_y": {
             "color": "#2a3f5f"
            },
            "marker": {
             "line": {
              "color": "#E5ECF6",
              "width": 0.5
             },
             "pattern": {
              "fillmode": "overlay",
              "size": 10,
              "solidity": 0.2
             }
            },
            "type": "bar"
           }
          ],
          "barpolar": [
           {
            "marker": {
             "line": {
              "color": "#E5ECF6",
              "width": 0.5
             },
             "pattern": {
              "fillmode": "overlay",
              "size": 10,
              "solidity": 0.2
             }
            },
            "type": "barpolar"
           }
          ],
          "carpet": [
           {
            "aaxis": {
             "endlinecolor": "#2a3f5f",
             "gridcolor": "white",
             "linecolor": "white",
             "minorgridcolor": "white",
             "startlinecolor": "#2a3f5f"
            },
            "baxis": {
             "endlinecolor": "#2a3f5f",
             "gridcolor": "white",
             "linecolor": "white",
             "minorgridcolor": "white",
             "startlinecolor": "#2a3f5f"
            },
            "type": "carpet"
           }
          ],
          "choropleth": [
           {
            "colorbar": {
             "outlinewidth": 0,
             "ticks": ""
            },
            "type": "choropleth"
           }
          ],
          "contour": [
           {
            "colorbar": {
             "outlinewidth": 0,
             "ticks": ""
            },
            "colorscale": [
             [
              0,
              "#0d0887"
             ],
             [
              0.1111111111111111,
              "#46039f"
             ],
             [
              0.2222222222222222,
              "#7201a8"
             ],
             [
              0.3333333333333333,
              "#9c179e"
             ],
             [
              0.4444444444444444,
              "#bd3786"
             ],
             [
              0.5555555555555556,
              "#d8576b"
             ],
             [
              0.6666666666666666,
              "#ed7953"
             ],
             [
              0.7777777777777778,
              "#fb9f3a"
             ],
             [
              0.8888888888888888,
              "#fdca26"
             ],
             [
              1,
              "#f0f921"
             ]
            ],
            "type": "contour"
           }
          ],
          "contourcarpet": [
           {
            "colorbar": {
             "outlinewidth": 0,
             "ticks": ""
            },
            "type": "contourcarpet"
           }
          ],
          "heatmap": [
           {
            "colorbar": {
             "outlinewidth": 0,
             "ticks": ""
            },
            "colorscale": [
             [
              0,
              "#0d0887"
             ],
             [
              0.1111111111111111,
              "#46039f"
             ],
             [
              0.2222222222222222,
              "#7201a8"
             ],
             [
              0.3333333333333333,
              "#9c179e"
             ],
             [
              0.4444444444444444,
              "#bd3786"
             ],
             [
              0.5555555555555556,
              "#d8576b"
             ],
             [
              0.6666666666666666,
              "#ed7953"
             ],
             [
              0.7777777777777778,
              "#fb9f3a"
             ],
             [
              0.8888888888888888,
              "#fdca26"
             ],
             [
              1,
              "#f0f921"
             ]
            ],
            "type": "heatmap"
           }
          ],
          "heatmapgl": [
           {
            "colorbar": {
             "outlinewidth": 0,
             "ticks": ""
            },
            "colorscale": [
             [
              0,
              "#0d0887"
             ],
             [
              0.1111111111111111,
              "#46039f"
             ],
             [
              0.2222222222222222,
              "#7201a8"
             ],
             [
              0.3333333333333333,
              "#9c179e"
             ],
             [
              0.4444444444444444,
              "#bd3786"
             ],
             [
              0.5555555555555556,
              "#d8576b"
             ],
             [
              0.6666666666666666,
              "#ed7953"
             ],
             [
              0.7777777777777778,
              "#fb9f3a"
             ],
             [
              0.8888888888888888,
              "#fdca26"
             ],
             [
              1,
              "#f0f921"
             ]
            ],
            "type": "heatmapgl"
           }
          ],
          "histogram": [
           {
            "marker": {
             "pattern": {
              "fillmode": "overlay",
              "size": 10,
              "solidity": 0.2
             }
            },
            "type": "histogram"
           }
          ],
          "histogram2d": [
           {
            "colorbar": {
             "outlinewidth": 0,
             "ticks": ""
            },
            "colorscale": [
             [
              0,
              "#0d0887"
             ],
             [
              0.1111111111111111,
              "#46039f"
             ],
             [
              0.2222222222222222,
              "#7201a8"
             ],
             [
              0.3333333333333333,
              "#9c179e"
             ],
             [
              0.4444444444444444,
              "#bd3786"
             ],
             [
              0.5555555555555556,
              "#d8576b"
             ],
             [
              0.6666666666666666,
              "#ed7953"
             ],
             [
              0.7777777777777778,
              "#fb9f3a"
             ],
             [
              0.8888888888888888,
              "#fdca26"
             ],
             [
              1,
              "#f0f921"
             ]
            ],
            "type": "histogram2d"
           }
          ],
          "histogram2dcontour": [
           {
            "colorbar": {
             "outlinewidth": 0,
             "ticks": ""
            },
            "colorscale": [
             [
              0,
              "#0d0887"
             ],
             [
              0.1111111111111111,
              "#46039f"
             ],
             [
              0.2222222222222222,
              "#7201a8"
             ],
             [
              0.3333333333333333,
              "#9c179e"
             ],
             [
              0.4444444444444444,
              "#bd3786"
             ],
             [
              0.5555555555555556,
              "#d8576b"
             ],
             [
              0.6666666666666666,
              "#ed7953"
             ],
             [
              0.7777777777777778,
              "#fb9f3a"
             ],
             [
              0.8888888888888888,
              "#fdca26"
             ],
             [
              1,
              "#f0f921"
             ]
            ],
            "type": "histogram2dcontour"
           }
          ],
          "mesh3d": [
           {
            "colorbar": {
             "outlinewidth": 0,
             "ticks": ""
            },
            "type": "mesh3d"
           }
          ],
          "parcoords": [
           {
            "line": {
             "colorbar": {
              "outlinewidth": 0,
              "ticks": ""
             }
            },
            "type": "parcoords"
           }
          ],
          "pie": [
           {
            "automargin": true,
            "type": "pie"
           }
          ],
          "scatter": [
           {
            "fillpattern": {
             "fillmode": "overlay",
             "size": 10,
             "solidity": 0.2
            },
            "type": "scatter"
           }
          ],
          "scatter3d": [
           {
            "line": {
             "colorbar": {
              "outlinewidth": 0,
              "ticks": ""
             }
            },
            "marker": {
             "colorbar": {
              "outlinewidth": 0,
              "ticks": ""
             }
            },
            "type": "scatter3d"
           }
          ],
          "scattercarpet": [
           {
            "marker": {
             "colorbar": {
              "outlinewidth": 0,
              "ticks": ""
             }
            },
            "type": "scattercarpet"
           }
          ],
          "scattergeo": [
           {
            "marker": {
             "colorbar": {
              "outlinewidth": 0,
              "ticks": ""
             }
            },
            "type": "scattergeo"
           }
          ],
          "scattergl": [
           {
            "marker": {
             "colorbar": {
              "outlinewidth": 0,
              "ticks": ""
             }
            },
            "type": "scattergl"
           }
          ],
          "scattermapbox": [
           {
            "marker": {
             "colorbar": {
              "outlinewidth": 0,
              "ticks": ""
             }
            },
            "type": "scattermapbox"
           }
          ],
          "scatterpolar": [
           {
            "marker": {
             "colorbar": {
              "outlinewidth": 0,
              "ticks": ""
             }
            },
            "type": "scatterpolar"
           }
          ],
          "scatterpolargl": [
           {
            "marker": {
             "colorbar": {
              "outlinewidth": 0,
              "ticks": ""
             }
            },
            "type": "scatterpolargl"
           }
          ],
          "scatterternary": [
           {
            "marker": {
             "colorbar": {
              "outlinewidth": 0,
              "ticks": ""
             }
            },
            "type": "scatterternary"
           }
          ],
          "surface": [
           {
            "colorbar": {
             "outlinewidth": 0,
             "ticks": ""
            },
            "colorscale": [
             [
              0,
              "#0d0887"
             ],
             [
              0.1111111111111111,
              "#46039f"
             ],
             [
              0.2222222222222222,
              "#7201a8"
             ],
             [
              0.3333333333333333,
              "#9c179e"
             ],
             [
              0.4444444444444444,
              "#bd3786"
             ],
             [
              0.5555555555555556,
              "#d8576b"
             ],
             [
              0.6666666666666666,
              "#ed7953"
             ],
             [
              0.7777777777777778,
              "#fb9f3a"
             ],
             [
              0.8888888888888888,
              "#fdca26"
             ],
             [
              1,
              "#f0f921"
             ]
            ],
            "type": "surface"
           }
          ],
          "table": [
           {
            "cells": {
             "fill": {
              "color": "#EBF0F8"
             },
             "line": {
              "color": "white"
             }
            },
            "header": {
             "fill": {
              "color": "#C8D4E3"
             },
             "line": {
              "color": "white"
             }
            },
            "type": "table"
           }
          ]
         },
         "layout": {
          "annotationdefaults": {
           "arrowcolor": "#2a3f5f",
           "arrowhead": 0,
           "arrowwidth": 1
          },
          "autotypenumbers": "strict",
          "coloraxis": {
           "colorbar": {
            "outlinewidth": 0,
            "ticks": ""
           }
          },
          "colorscale": {
           "diverging": [
            [
             0,
             "#8e0152"
            ],
            [
             0.1,
             "#c51b7d"
            ],
            [
             0.2,
             "#de77ae"
            ],
            [
             0.3,
             "#f1b6da"
            ],
            [
             0.4,
             "#fde0ef"
            ],
            [
             0.5,
             "#f7f7f7"
            ],
            [
             0.6,
             "#e6f5d0"
            ],
            [
             0.7,
             "#b8e186"
            ],
            [
             0.8,
             "#7fbc41"
            ],
            [
             0.9,
             "#4d9221"
            ],
            [
             1,
             "#276419"
            ]
           ],
           "sequential": [
            [
             0,
             "#0d0887"
            ],
            [
             0.1111111111111111,
             "#46039f"
            ],
            [
             0.2222222222222222,
             "#7201a8"
            ],
            [
             0.3333333333333333,
             "#9c179e"
            ],
            [
             0.4444444444444444,
             "#bd3786"
            ],
            [
             0.5555555555555556,
             "#d8576b"
            ],
            [
             0.6666666666666666,
             "#ed7953"
            ],
            [
             0.7777777777777778,
             "#fb9f3a"
            ],
            [
             0.8888888888888888,
             "#fdca26"
            ],
            [
             1,
             "#f0f921"
            ]
           ],
           "sequentialminus": [
            [
             0,
             "#0d0887"
            ],
            [
             0.1111111111111111,
             "#46039f"
            ],
            [
             0.2222222222222222,
             "#7201a8"
            ],
            [
             0.3333333333333333,
             "#9c179e"
            ],
            [
             0.4444444444444444,
             "#bd3786"
            ],
            [
             0.5555555555555556,
             "#d8576b"
            ],
            [
             0.6666666666666666,
             "#ed7953"
            ],
            [
             0.7777777777777778,
             "#fb9f3a"
            ],
            [
             0.8888888888888888,
             "#fdca26"
            ],
            [
             1,
             "#f0f921"
            ]
           ]
          },
          "colorway": [
           "#636efa",
           "#EF553B",
           "#00cc96",
           "#ab63fa",
           "#FFA15A",
           "#19d3f3",
           "#FF6692",
           "#B6E880",
           "#FF97FF",
           "#FECB52"
          ],
          "font": {
           "color": "#2a3f5f"
          },
          "geo": {
           "bgcolor": "white",
           "lakecolor": "white",
           "landcolor": "#E5ECF6",
           "showlakes": true,
           "showland": true,
           "subunitcolor": "white"
          },
          "hoverlabel": {
           "align": "left"
          },
          "hovermode": "closest",
          "mapbox": {
           "style": "light"
          },
          "paper_bgcolor": "white",
          "plot_bgcolor": "#E5ECF6",
          "polar": {
           "angularaxis": {
            "gridcolor": "white",
            "linecolor": "white",
            "ticks": ""
           },
           "bgcolor": "#E5ECF6",
           "radialaxis": {
            "gridcolor": "white",
            "linecolor": "white",
            "ticks": ""
           }
          },
          "scene": {
           "xaxis": {
            "backgroundcolor": "#E5ECF6",
            "gridcolor": "white",
            "gridwidth": 2,
            "linecolor": "white",
            "showbackground": true,
            "ticks": "",
            "zerolinecolor": "white"
           },
           "yaxis": {
            "backgroundcolor": "#E5ECF6",
            "gridcolor": "white",
            "gridwidth": 2,
            "linecolor": "white",
            "showbackground": true,
            "ticks": "",
            "zerolinecolor": "white"
           },
           "zaxis": {
            "backgroundcolor": "#E5ECF6",
            "gridcolor": "white",
            "gridwidth": 2,
            "linecolor": "white",
            "showbackground": true,
            "ticks": "",
            "zerolinecolor": "white"
           }
          },
          "shapedefaults": {
           "line": {
            "color": "#2a3f5f"
           }
          },
          "ternary": {
           "aaxis": {
            "gridcolor": "white",
            "linecolor": "white",
            "ticks": ""
           },
           "baxis": {
            "gridcolor": "white",
            "linecolor": "white",
            "ticks": ""
           },
           "bgcolor": "#E5ECF6",
           "caxis": {
            "gridcolor": "white",
            "linecolor": "white",
            "ticks": ""
           }
          },
          "title": {
           "x": 0.05
          },
          "xaxis": {
           "automargin": true,
           "gridcolor": "white",
           "linecolor": "white",
           "ticks": "",
           "title": {
            "standoff": 15
           },
           "zerolinecolor": "white",
           "zerolinewidth": 2
          },
          "yaxis": {
           "automargin": true,
           "gridcolor": "white",
           "linecolor": "white",
           "ticks": "",
           "title": {
            "standoff": 15
           },
           "zerolinecolor": "white",
           "zerolinewidth": 2
          }
         }
        },
        "xaxis": {
         "anchor": "y",
         "autorange": true,
         "domain": [
          0,
          1
         ],
         "range": [
          0.11000000000000004,
          0.6299999999999999
         ],
         "title": {
          "text": "Length"
         },
         "type": "linear"
        },
        "yaxis": {
         "anchor": "x",
         "autorange": true,
         "domain": [
          0,
          1
         ],
         "range": [
          0,
          16.64794608472399
         ],
         "title": {
          "text": "probability density"
         }
        }
       }
      },
      "image/png": "[encoded data removed]",
      "text/html": [
       "<div>                            <div id=\"b33e2c81-a486-49e7-aaa2-979d9cd47b52\" class=\"plotly-graph-div\" style=\"height:525px; width:100%;\"></div>            <script type=\"text/javascript\">                require([\"plotly\"], function(Plotly) {                    window.PLOTLYENV=window.PLOTLYENV || {};                                    if (document.getElementById(\"b33e2c81-a486-49e7-aaa2-979d9cd47b52\")) {                    Plotly.newPlot(                        \"b33e2c81-a486-49e7-aaa2-979d9cd47b52\",                        [{\"alignmentgroup\":\"True\",\"bingroup\":\"x\",\"histnorm\":\"probability density\",\"hovertemplate\":\"Founder=False<br>Length=%{x}<br>probability density=%{y}<extra></extra>\",\"legendgroup\":\"False\",\"marker\":{\"color\":\"#636efa\",\"pattern\":{\"shape\":\"\"}},\"name\":\"False\",\"nbinsx\":80,\"offsetgroup\":\"False\",\"orientation\":\"v\",\"showlegend\":true,\"x\":[0.41523657966724975,0.45523658245325604,0.32323496825861664,0.45266826510586006,0.4335974973723281,0.4218794590928714,0.4259206883469353,0.12434364292498988,0.47915254076222147,0.4102801011994153,0.41677491135504735,0.35448198176324675,0.20065203430327722,0.47112659029756154,0.4202889855558589,0.4441613045585954,0.39235342784926464,0.44759029499753983,0.34984561454900204,0.3087886479854874,0.3797828281097362,0.3366173109833697,0.3848312404324354,0.3277130354653509,0.5763349981737946,0.42708723794111886,0.4581574749926877,0.3087308183302795,0.2803825294611787,0.3656322119337283,0.18093373079602046,0.3908474765197239,0.40542175457984286,0.41534344303339077,0.4493214609822277,0.30902918393404716,0.36476053063477515,0.4575120496187374,0.4091165665864278,0.40021850299183775,0.4607350000909152,0.36608019913537254,0.36594337140081556,0.4646640986856715,0.5285071700201135,0.3957637389865743,0.3048546782328357,0.5219198618433404,0.2889912297348677,0.39303249947308566,0.41936527123606204,0.4208678584629919,0.3748050314699219,0.3182760128570534,0.11301283688535134,0.4574442417078299,0.5219688955542735,0.46745306947352044,0.4156244631360413,0.387860404141818,0.3541620829426377,0.3716808701693682,0.4759897105648088,0.3884634857024703,0.480418457624337,0.4156375538831576,0.4661833653840867,0.36051806030980155,0.3213293312410832,0.3973359119446838,0.5276143185557653,0.5604785843417417,0.42301874065036416,0.46070034565501355,0.524033706688795,0.498135875782322,0.39941451729291305,0.4253865708898063,0.41371217104595154,0.45880884239570613,0.34299417991529835,0.4963085507900855,0.33177158148984204,0.5679251961138398,0.4236883067689301,0.39614774816535064,0.43063995230809937,0.4151358594450069,0.44734673884402215,0.4261242017542359,0.4431030026274347,0.37461049074417097,0.42671427875984186,0.5412401826089572,0.4686753513825419,0.4524996142143069,0.47088172559170843,0.4858367497207214,0.43072393211496895,0.35472191436731654,0.5688719803070796,0.4449706272008443,0.3780595508760207,0.4027864642528032,0.36991198427121835,0.3299800558079723,0.39702067446087047,0.41043223107359156,0.3204143223203563,0.3314741979532962,0.38763805472002816,0.3639694119318355,0.44571680936337016,0.2354715288896077,0.3286068837975794,0.3068296040977521,0.42394051260139165,0.49175057569881886,0.5097711322376194,0.4077595177168866,0.4276860133807791,0.4239760576886833,0.32247576848163995,0.47499444028499993,0.42246608754505044,0.5033708277689206,0.5245551739360543,0.4061941460966643],\"xaxis\":\"x\",\"yaxis\":\"y\",\"type\":\"histogram\"},{\"alignmentgroup\":\"True\",\"bingroup\":\"x\",\"histnorm\":\"probability density\",\"hovertemplate\":\"Founder=True<br>Length=%{x}<br>probability density=%{y}<extra></extra>\",\"legendgroup\":\"True\",\"marker\":{\"color\":\"#EF553B\",\"pattern\":{\"shape\":\"\"}},\"name\":\"True\",\"nbinsx\":80,\"offsetgroup\":\"True\",\"orientation\":\"v\",\"showlegend\":true,\"x\":[0.47000883325064047,0.4170042928308714,0.40927492144343736,0.4588662793981507,0.36068677301586954,0.5372049067021121,0.3668216189683742,0.38318865464752494,0.440123880815016,0.3624525055031351,0.423094843895039,0.5398531920073014,0.3066310419460282,0.3592732056553368,0.304288492972532,0.4796323746277901,0.3589911651778779,0.4866298525825249,0.543839389801238,0.47515714131184217,0.4170369900973452,0.3480579692515362,0.45998053826590757,0.4788095816450661,0.39260862689724796,0.4334221261111959,0.37636523069531724,0.43145431413924884,0.41351401808890337,0.4221410711791135,0.29614129290168384,0.5425213859394067,0.40081123802158225,0.6211333892412246,0.3388612414281279,0.33000622772530824,0.36452744028806017,0.4865252380458466,0.3944076904674213,0.4457351970049701,0.5118562742531371],\"xaxis\":\"x\",\"yaxis\":\"y\",\"type\":\"histogram\"}],                        {\"template\":{\"data\":{\"histogram2dcontour\":[{\"type\":\"histogram2dcontour\",\"colorbar\":{\"outlinewidth\":0,\"ticks\":\"\"},\"colorscale\":[[0.0,\"#0d0887\"],[0.1111111111111111,\"#46039f\"],[0.2222222222222222,\"#7201a8\"],[0.3333333333333333,\"#9c179e\"],[0.4444444444444444,\"#bd3786\"],[0.5555555555555556,\"#d8576b\"],[0.6666666666666666,\"#ed7953\"],[0.7777777777777778,\"#fb9f3a\"],[0.8888888888888888,\"#fdca26\"],[1.0,\"#f0f921\"]]}],\"choropleth\":[{\"type\":\"choropleth\",\"colorbar\":{\"outlinewidth\":0,\"ticks\":\"\"}}],\"histogram2d\":[{\"type\":\"histogram2d\",\"colorbar\":{\"outlinewidth\":0,\"ticks\":\"\"},\"colorscale\":[[0.0,\"#0d0887\"],[0.1111111111111111,\"#46039f\"],[0.2222222222222222,\"#7201a8\"],[0.3333333333333333,\"#9c179e\"],[0.4444444444444444,\"#bd3786\"],[0.5555555555555556,\"#d8576b\"],[0.6666666666666666,\"#ed7953\"],[0.7777777777777778,\"#fb9f3a\"],[0.8888888888888888,\"#fdca26\"],[1.0,\"#f0f921\"]]}],\"heatmap\":[{\"type\":\"heatmap\",\"colorbar\":{\"outlinewidth\":0,\"ticks\":\"\"},\"colorscale\":[[0.0,\"#0d0887\"],[0.1111111111111111,\"#46039f\"],[0.2222222222222222,\"#7201a8\"],[0.3333333333333333,\"#9c179e\"],[0.4444444444444444,\"#bd3786\"],[0.5555555555555556,\"#d8576b\"],[0.6666666666666666,\"#ed7953\"],[0.7777777777777778,\"#fb9f3a\"],[0.8888888888888888,\"#fdca26\"],[1.0,\"#f0f921\"]]}],\"heatmapgl\":[{\"type\":\"heatmapgl\",\"colorbar\":{\"outlinewidth\":0,\"ticks\":\"\"},\"colorscale\":[[0.0,\"#0d0887\"],[0.1111111111111111,\"#46039f\"],[0.2222222222222222,\"#7201a8\"],[0.3333333333333333,\"#9c179e\"],[0.4444444444444444,\"#bd3786\"],[0.5555555555555556,\"#d8576b\"],[0.6666666666666666,\"#ed7953\"],[0.7777777777777778,\"#fb9f3a\"],[0.8888888888888888,\"#fdca26\"],[1.0,\"#f0f921\"]]}],\"contourcarpet\":[{\"type\":\"contourcarpet\",\"colorbar\":{\"outlinewidth\":0,\"ticks\":\"\"}}],\"contour\":[{\"type\":\"contour\",\"colorbar\":{\"outlinewidth\":0,\"ticks\":\"\"},\"colorscale\":[[0.0,\"#0d0887\"],[0.1111111111111111,\"#46039f\"],[0.2222222222222222,\"#7201a8\"],[0.3333333333333333,\"#9c179e\"],[0.4444444444444444,\"#bd3786\"],[0.5555555555555556,\"#d8576b\"],[0.6666666666666666,\"#ed7953\"],[0.7777777777777778,\"#fb9f3a\"],[0.8888888888888888,\"#fdca26\"],[1.0,\"#f0f921\"]]}],\"surface\":[{\"type\":\"surface\",\"colorbar\":{\"outlinewidth\":0,\"ticks\":\"\"},\"colorscale\":[[0.0,\"#0d0887\"],[0.1111111111111111,\"#46039f\"],[0.2222222222222222,\"#7201a8\"],[0.3333333333333333,\"#9c179e\"],[0.4444444444444444,\"#bd3786\"],[0.5555555555555556,\"#d8576b\"],[0.6666666666666666,\"#ed7953\"],[0.7777777777777778,\"#fb9f3a\"],[0.8888888888888888,\"#fdca26\"],[1.0,\"#f0f921\"]]}],\"mesh3d\":[{\"type\":\"mesh3d\",\"colorbar\":{\"outlinewidth\":0,\"ticks\":\"\"}}],\"scatter\":[{\"fillpattern\":{\"fillmode\":\"overlay\",\"size\":10,\"solidity\":0.2},\"type\":\"scatter\"}],\"parcoords\":[{\"type\":\"parcoords\",\"line\":{\"colorbar\":{\"outlinewidth\":0,\"ticks\":\"\"}}}],\"scatterpolargl\":[{\"type\":\"scatterpolargl\",\"marker\":{\"colorbar\":{\"outlinewidth\":0,\"ticks\":\"\"}}}],\"bar\":[{\"error_x\":{\"color\":\"#2a3f5f\"},\"error_y\":{\"color\":\"#2a3f5f\"},\"marker\":{\"line\":{\"color\":\"#E5ECF6\",\"width\":0.5},\"pattern\":{\"fillmode\":\"overlay\",\"size\":10,\"solidity\":0.2}},\"type\":\"bar\"}],\"scattergeo\":[{\"type\":\"scattergeo\",\"marker\":{\"colorbar\":{\"outlinewidth\":0,\"ticks\":\"\"}}}],\"scatterpolar\":[{\"type\":\"scatterpolar\",\"marker\":{\"colorbar\":{\"outlinewidth\":0,\"ticks\":\"\"}}}],\"histogram\":[{\"marker\":{\"pattern\":{\"fillmode\":\"overlay\",\"size\":10,\"solidity\":0.2}},\"type\":\"histogram\"}],\"scattergl\":[{\"type\":\"scattergl\",\"marker\":{\"colorbar\":{\"outlinewidth\":0,\"ticks\":\"\"}}}],\"scatter3d\":[{\"type\":\"scatter3d\",\"line\":{\"colorbar\":{\"outlinewidth\":0,\"ticks\":\"\"}},\"marker\":{\"colorbar\":{\"outlinewidth\":0,\"ticks\":\"\"}}}],\"scattermapbox\":[{\"type\":\"scattermapbox\",\"marker\":{\"colorbar\":{\"outlinewidth\":0,\"ticks\":\"\"}}}],\"scatterternary\":[{\"type\":\"scatterternary\",\"marker\":{\"colorbar\":{\"outlinewidth\":0,\"ticks\":\"\"}}}],\"scattercarpet\":[{\"type\":\"scattercarpet\",\"marker\":{\"colorbar\":{\"outlinewidth\":0,\"ticks\":\"\"}}}],\"carpet\":[{\"aaxis\":{\"endlinecolor\":\"#2a3f5f\",\"gridcolor\":\"white\",\"linecolor\":\"white\",\"minorgridcolor\":\"white\",\"startlinecolor\":\"#2a3f5f\"},\"baxis\":{\"endlinecolor\":\"#2a3f5f\",\"gridcolor\":\"white\",\"linecolor\":\"white\",\"minorgridcolor\":\"white\",\"startlinecolor\":\"#2a3f5f\"},\"type\":\"carpet\"}],\"table\":[{\"cells\":{\"fill\":{\"color\":\"#EBF0F8\"},\"line\":{\"color\":\"white\"}},\"header\":{\"fill\":{\"color\":\"#C8D4E3\"},\"line\":{\"color\":\"white\"}},\"type\":\"table\"}],\"barpolar\":[{\"marker\":{\"line\":{\"color\":\"#E5ECF6\",\"width\":0.5},\"pattern\":{\"fillmode\":\"overlay\",\"size\":10,\"solidity\":0.2}},\"type\":\"barpolar\"}],\"pie\":[{\"automargin\":true,\"type\":\"pie\"}]},\"layout\":{\"autotypenumbers\":\"strict\",\"colorway\":[\"#636efa\",\"#EF553B\",\"#00cc96\",\"#ab63fa\",\"#FFA15A\",\"#19d3f3\",\"#FF6692\",\"#B6E880\",\"#FF97FF\",\"#FECB52\"],\"font\":{\"color\":\"#2a3f5f\"},\"hovermode\":\"closest\",\"hoverlabel\":{\"align\":\"left\"},\"paper_bgcolor\":\"white\",\"plot_bgcolor\":\"#E5ECF6\",\"polar\":{\"bgcolor\":\"#E5ECF6\",\"angularaxis\":{\"gridcolor\":\"white\",\"linecolor\":\"white\",\"ticks\":\"\"},\"radialaxis\":{\"gridcolor\":\"white\",\"linecolor\":\"white\",\"ticks\":\"\"}},\"ternary\":{\"bgcolor\":\"#E5ECF6\",\"aaxis\":{\"gridcolor\":\"white\",\"linecolor\":\"white\",\"ticks\":\"\"},\"baxis\":{\"gridcolor\":\"white\",\"linecolor\":\"white\",\"ticks\":\"\"},\"caxis\":{\"gridcolor\":\"white\",\"linecolor\":\"white\",\"ticks\":\"\"}},\"coloraxis\":{\"colorbar\":{\"outlinewidth\":0,\"ticks\":\"\"}},\"colorscale\":{\"sequential\":[[0.0,\"#0d0887\"],[0.1111111111111111,\"#46039f\"],[0.2222222222222222,\"#7201a8\"],[0.3333333333333333,\"#9c179e\"],[0.4444444444444444,\"#bd3786\"],[0.5555555555555556,\"#d8576b\"],[0.6666666666666666,\"#ed7953\"],[0.7777777777777778,\"#fb9f3a\"],[0.8888888888888888,\"#fdca26\"],[1.0,\"#f0f921\"]],\"sequentialminus\":[[0.0,\"#0d0887\"],[0.1111111111111111,\"#46039f\"],[0.2222222222222222,\"#7201a8\"],[0.3333333333333333,\"#9c179e\"],[0.4444444444444444,\"#bd3786\"],[0.5555555555555556,\"#d8576b\"],[0.6666666666666666,\"#ed7953\"],[0.7777777777777778,\"#fb9f3a\"],[0.8888888888888888,\"#fdca26\"],[1.0,\"#f0f921\"]],\"diverging\":[[0,\"#8e0152\"],[0.1,\"#c51b7d\"],[0.2,\"#de77ae\"],[0.3,\"#f1b6da\"],[0.4,\"#fde0ef\"],[0.5,\"#f7f7f7\"],[0.6,\"#e6f5d0\"],[0.7,\"#b8e186\"],[0.8,\"#7fbc41\"],[0.9,\"#4d9221\"],[1,\"#276419\"]]},\"xaxis\":{\"gridcolor\":\"white\",\"linecolor\":\"white\",\"ticks\":\"\",\"title\":{\"standoff\":15},\"zerolinecolor\":\"white\",\"automargin\":true,\"zerolinewidth\":2},\"yaxis\":{\"gridcolor\":\"white\",\"linecolor\":\"white\",\"ticks\":\"\",\"title\":{\"standoff\":15},\"zerolinecolor\":\"white\",\"automargin\":true,\"zerolinewidth\":2},\"scene\":{\"xaxis\":{\"backgroundcolor\":\"#E5ECF6\",\"gridcolor\":\"white\",\"linecolor\":\"white\",\"showbackground\":true,\"ticks\":\"\",\"zerolinecolor\":\"white\",\"gridwidth\":2},\"yaxis\":{\"backgroundcolor\":\"#E5ECF6\",\"gridcolor\":\"white\",\"linecolor\":\"white\",\"showbackground\":true,\"ticks\":\"\",\"zerolinecolor\":\"white\",\"gridwidth\":2},\"zaxis\":{\"backgroundcolor\":\"#E5ECF6\",\"gridcolor\":\"white\",\"linecolor\":\"white\",\"showbackground\":true,\"ticks\":\"\",\"zerolinecolor\":\"white\",\"gridwidth\":2}},\"shapedefaults\":{\"line\":{\"color\":\"#2a3f5f\"}},\"annotationdefaults\":{\"arrowcolor\":\"#2a3f5f\",\"arrowhead\":0,\"arrowwidth\":1},\"geo\":{\"bgcolor\":\"white\",\"landcolor\":\"#E5ECF6\",\"subunitcolor\":\"white\",\"showland\":true,\"showlakes\":true,\"lakecolor\":\"white\"},\"title\":{\"x\":0.05},\"mapbox\":{\"style\":\"light\"}}},\"xaxis\":{\"anchor\":\"y\",\"domain\":[0.0,1.0],\"title\":{\"text\":\"Length\"}},\"yaxis\":{\"anchor\":\"x\",\"domain\":[0.0,1.0],\"title\":{\"text\":\"probability density\"}},\"legend\":{\"title\":{\"text\":\"Founder\"},\"tracegroupgap\":0},\"margin\":{\"t\":60},\"barmode\":\"relative\"},                        {\"responsive\": true}                    ).then(function(){\n",
       "                            \n",
       "var gd = document.getElementById('b33e2c81-a486-49e7-aaa2-979d9cd47b52');\n",
       "var x = new MutationObserver(function (mutations, observer) {{\n",
       "        var display = window.getComputedStyle(gd).display;\n",
       "        if (!display || display === 'none') {{\n",
       "            console.log([gd, 'removed!']);\n",
       "            Plotly.purge(gd);\n",
       "            observer.disconnect();\n",
       "        }}\n",
       "}});\n",
       "\n",
       "// Listen for the removal of the full notebook cells\n",
       "var notebookContainer = gd.closest('#notebook-container');\n",
       "if (notebookContainer) {{\n",
       "    x.observe(notebookContainer, {childList: true});\n",
       "}}\n",
       "\n",
       "// Listen for the clearing of the current output cell\n",
       "var outputEl = gd.closest('.output');\n",
       "if (outputEl) {{\n",
       "    x.observe(outputEl, {childList: true});\n",
       "}}\n",
       "\n",
       "                        })                };                });            </script>        </div>"
      ]
     },
     "metadata": {},
     "output_type": "display_data"
    }
   ],
   "source": [
    "px.histogram(data_agg.to_pandas(), color=\"Founder\", x=\"Length\", nbins=80, histnorm='probability density')"
   ]
  },
  {
   "cell_type": "code",
   "execution_count": 60,
   "id": "0b7e37f9-90c0-44d4-980b-2863d6b7a1ad",
   "metadata": {},
   "outputs": [
    {
     "data": {
      "application/vnd.plotly.v1+json": {
       "config": {
        "plotlyServerURL": "https://plot.ly"
       },
       "data": [
        {
         "alignmentgroup": "True",
         "bingroup": "x",
         "histnorm": "percent",
         "hovertemplate": "Founder=False<br>Length=%{x}<br>percent=%{y}<extra></extra>",
         "legendgroup": "False",
         "marker": {
          "color": "#636efa",
          "pattern": {
           "shape": ""
          }
         },
         "name": "False",
         "nbinsx": 80,
         "offsetgroup": "False",
         "orientation": "v",
         "showlegend": true,
         "type": "histogram",
         "x": [
          0.41523657966724975,
          0.45523658245325604,
          0.32323496825861664,
          0.45266826510586006,
          0.4335974973723281,
          0.4218794590928714,
          0.4259206883469353,
          0.12434364292498988,
          0.47915254076222147,
          0.4102801011994153,
          0.41677491135504735,
          0.35448198176324675,
          0.20065203430327722,
          0.47112659029756154,
          0.4202889855558589,
          0.4441613045585954,
          0.39235342784926464,
          0.44759029499753983,
          0.34984561454900204,
          0.3087886479854874,
          0.3797828281097362,
          0.3366173109833697,
          0.3848312404324354,
          0.3277130354653509,
          0.5763349981737946,
          0.42708723794111886,
          0.4581574749926877,
          0.3087308183302795,
          0.2803825294611787,
          0.3656322119337283,
          0.18093373079602046,
          0.3908474765197239,
          0.40542175457984286,
          0.41534344303339077,
          0.4493214609822277,
          0.30902918393404716,
          0.36476053063477515,
          0.4575120496187374,
          0.4091165665864278,
          0.40021850299183775,
          0.4607350000909152,
          0.36608019913537254,
          0.36594337140081556,
          0.4646640986856715,
          0.5285071700201135,
          0.3957637389865743,
          0.3048546782328357,
          0.5219198618433404,
          0.2889912297348677,
          0.39303249947308566,
          0.41936527123606204,
          0.4208678584629919,
          0.3748050314699219,
          0.3182760128570534,
          0.11301283688535134,
          0.4574442417078299,
          0.5219688955542735,
          0.46745306947352044,
          0.4156244631360413,
          0.387860404141818,
          0.3541620829426377,
          0.3716808701693682,
          0.4759897105648088,
          0.3884634857024703,
          0.480418457624337,
          0.4156375538831576,
          0.4661833653840867,
          0.36051806030980155,
          0.3213293312410832,
          0.3973359119446838,
          0.5276143185557653,
          0.5604785843417417,
          0.42301874065036416,
          0.46070034565501355,
          0.524033706688795,
          0.498135875782322,
          0.39941451729291305,
          0.4253865708898063,
          0.41371217104595154,
          0.45880884239570613,
          0.34299417991529835,
          0.4963085507900855,
          0.33177158148984204,
          0.5679251961138398,
          0.4236883067689301,
          0.39614774816535064,
          0.43063995230809937,
          0.4151358594450069,
          0.44734673884402215,
          0.4261242017542359,
          0.4431030026274347,
          0.37461049074417097,
          0.42671427875984186,
          0.5412401826089572,
          0.4686753513825419,
          0.4524996142143069,
          0.47088172559170843,
          0.4858367497207214,
          0.43072393211496895,
          0.35472191436731654,
          0.5688719803070796,
          0.4449706272008443,
          0.3780595508760207,
          0.4027864642528032,
          0.36991198427121835,
          0.3299800558079723,
          0.39702067446087047,
          0.41043223107359156,
          0.3204143223203563,
          0.3314741979532962,
          0.38763805472002816,
          0.3639694119318355,
          0.44571680936337016,
          0.2354715288896077,
          0.3286068837975794,
          0.3068296040977521,
          0.42394051260139165,
          0.49175057569881886,
          0.5097711322376194,
          0.4077595177168866,
          0.4276860133807791,
          0.4239760576886833,
          0.32247576848163995,
          0.47499444028499993,
          0.42246608754505044,
          0.5033708277689206,
          0.5245551739360543,
          0.4061941460966643
         ],
         "xaxis": "x",
         "yaxis": "y"
        },
        {
         "alignmentgroup": "True",
         "hovertemplate": "Founder=False<br>Length=%{x}<extra></extra>",
         "legendgroup": "False",
         "marker": {
          "color": "#636efa"
         },
         "name": "False",
         "notched": true,
         "offsetgroup": "False",
         "showlegend": false,
         "type": "box",
         "x": [
          0.41523657966724975,
          0.45523658245325604,
          0.32323496825861664,
          0.45266826510586006,
          0.4335974973723281,
          0.4218794590928714,
          0.4259206883469353,
          0.12434364292498988,
          0.47915254076222147,
          0.4102801011994153,
          0.41677491135504735,
          0.35448198176324675,
          0.20065203430327722,
          0.47112659029756154,
          0.4202889855558589,
          0.4441613045585954,
          0.39235342784926464,
          0.44759029499753983,
          0.34984561454900204,
          0.3087886479854874,
          0.3797828281097362,
          0.3366173109833697,
          0.3848312404324354,
          0.3277130354653509,
          0.5763349981737946,
          0.42708723794111886,
          0.4581574749926877,
          0.3087308183302795,
          0.2803825294611787,
          0.3656322119337283,
          0.18093373079602046,
          0.3908474765197239,
          0.40542175457984286,
          0.41534344303339077,
          0.4493214609822277,
          0.30902918393404716,
          0.36476053063477515,
          0.4575120496187374,
          0.4091165665864278,
          0.40021850299183775,
          0.4607350000909152,
          0.36608019913537254,
          0.36594337140081556,
          0.4646640986856715,
          0.5285071700201135,
          0.3957637389865743,
          0.3048546782328357,
          0.5219198618433404,
          0.2889912297348677,
          0.39303249947308566,
          0.41936527123606204,
          0.4208678584629919,
          0.3748050314699219,
          0.3182760128570534,
          0.11301283688535134,
          0.4574442417078299,
          0.5219688955542735,
          0.46745306947352044,
          0.4156244631360413,
          0.387860404141818,
          0.3541620829426377,
          0.3716808701693682,
          0.4759897105648088,
          0.3884634857024703,
          0.480418457624337,
          0.4156375538831576,
          0.4661833653840867,
          0.36051806030980155,
          0.3213293312410832,
          0.3973359119446838,
          0.5276143185557653,
          0.5604785843417417,
          0.42301874065036416,
          0.46070034565501355,
          0.524033706688795,
          0.498135875782322,
          0.39941451729291305,
          0.4253865708898063,
          0.41371217104595154,
          0.45880884239570613,
          0.34299417991529835,
          0.4963085507900855,
          0.33177158148984204,
          0.5679251961138398,
          0.4236883067689301,
          0.39614774816535064,
          0.43063995230809937,
          0.4151358594450069,
          0.44734673884402215,
          0.4261242017542359,
          0.4431030026274347,
          0.37461049074417097,
          0.42671427875984186,
          0.5412401826089572,
          0.4686753513825419,
          0.4524996142143069,
          0.47088172559170843,
          0.4858367497207214,
          0.43072393211496895,
          0.35472191436731654,
          0.5688719803070796,
          0.4449706272008443,
          0.3780595508760207,
          0.4027864642528032,
          0.36991198427121835,
          0.3299800558079723,
          0.39702067446087047,
          0.41043223107359156,
          0.3204143223203563,
          0.3314741979532962,
          0.38763805472002816,
          0.3639694119318355,
          0.44571680936337016,
          0.2354715288896077,
          0.3286068837975794,
          0.3068296040977521,
          0.42394051260139165,
          0.49175057569881886,
          0.5097711322376194,
          0.4077595177168866,
          0.4276860133807791,
          0.4239760576886833,
          0.32247576848163995,
          0.47499444028499993,
          0.42246608754505044,
          0.5033708277689206,
          0.5245551739360543,
          0.4061941460966643
         ],
         "xaxis": "x2",
         "yaxis": "y2"
        },
        {
         "alignmentgroup": "True",
         "bingroup": "x",
         "histnorm": "percent",
         "hovertemplate": "Founder=True<br>Length=%{x}<br>percent=%{y}<extra></extra>",
         "legendgroup": "True",
         "marker": {
          "color": "#EF553B",
          "pattern": {
           "shape": ""
          }
         },
         "name": "True",
         "nbinsx": 80,
         "offsetgroup": "True",
         "orientation": "v",
         "showlegend": true,
         "type": "histogram",
         "x": [
          0.47000883325064047,
          0.4170042928308714,
          0.40927492144343736,
          0.4588662793981507,
          0.36068677301586954,
          0.5372049067021121,
          0.3668216189683742,
          0.38318865464752494,
          0.440123880815016,
          0.3624525055031351,
          0.423094843895039,
          0.5398531920073014,
          0.3066310419460282,
          0.3592732056553368,
          0.304288492972532,
          0.4796323746277901,
          0.3589911651778779,
          0.4866298525825249,
          0.543839389801238,
          0.47515714131184217,
          0.4170369900973452,
          0.3480579692515362,
          0.45998053826590757,
          0.4788095816450661,
          0.39260862689724796,
          0.4334221261111959,
          0.37636523069531724,
          0.43145431413924884,
          0.41351401808890337,
          0.4221410711791135,
          0.29614129290168384,
          0.5425213859394067,
          0.40081123802158225,
          0.6211333892412246,
          0.3388612414281279,
          0.33000622772530824,
          0.36452744028806017,
          0.4865252380458466,
          0.3944076904674213,
          0.4457351970049701,
          0.5118562742531371
         ],
         "xaxis": "x",
         "yaxis": "y"
        },
        {
         "alignmentgroup": "True",
         "hovertemplate": "Founder=True<br>Length=%{x}<extra></extra>",
         "legendgroup": "True",
         "marker": {
          "color": "#EF553B"
         },
         "name": "True",
         "notched": true,
         "offsetgroup": "True",
         "showlegend": false,
         "type": "box",
         "x": [
          0.47000883325064047,
          0.4170042928308714,
          0.40927492144343736,
          0.4588662793981507,
          0.36068677301586954,
          0.5372049067021121,
          0.3668216189683742,
          0.38318865464752494,
          0.440123880815016,
          0.3624525055031351,
          0.423094843895039,
          0.5398531920073014,
          0.3066310419460282,
          0.3592732056553368,
          0.304288492972532,
          0.4796323746277901,
          0.3589911651778779,
          0.4866298525825249,
          0.543839389801238,
          0.47515714131184217,
          0.4170369900973452,
          0.3480579692515362,
          0.45998053826590757,
          0.4788095816450661,
          0.39260862689724796,
          0.4334221261111959,
          0.37636523069531724,
          0.43145431413924884,
          0.41351401808890337,
          0.4221410711791135,
          0.29614129290168384,
          0.5425213859394067,
          0.40081123802158225,
          0.6211333892412246,
          0.3388612414281279,
          0.33000622772530824,
          0.36452744028806017,
          0.4865252380458466,
          0.3944076904674213,
          0.4457351970049701,
          0.5118562742531371
         ],
         "xaxis": "x2",
         "yaxis": "y2"
        }
       ],
       "layout": {
        "autosize": true,
        "barmode": "relative",
        "legend": {
         "title": {
          "text": "Founder"
         },
         "tracegroupgap": 0
        },
        "margin": {
         "t": 60
        },
        "template": {
         "data": {
          "bar": [
           {
            "error_x": {
             "color": "#2a3f5f"
            },
            "error_y": {
             "color": "#2a3f5f"
            },
            "marker": {
             "line": {
              "color": "#E5ECF6",
              "width": 0.5
             },
             "pattern": {
              "fillmode": "overlay",
              "size": 10,
              "solidity": 0.2
             }
            },
            "type": "bar"
           }
          ],
          "barpolar": [
           {
            "marker": {
             "line": {
              "color": "#E5ECF6",
              "width": 0.5
             },
             "pattern": {
              "fillmode": "overlay",
              "size": 10,
              "solidity": 0.2
             }
            },
            "type": "barpolar"
           }
          ],
          "carpet": [
           {
            "aaxis": {
             "endlinecolor": "#2a3f5f",
             "gridcolor": "white",
             "linecolor": "white",
             "minorgridcolor": "white",
             "startlinecolor": "#2a3f5f"
            },
            "baxis": {
             "endlinecolor": "#2a3f5f",
             "gridcolor": "white",
             "linecolor": "white",
             "minorgridcolor": "white",
             "startlinecolor": "#2a3f5f"
            },
            "type": "carpet"
           }
          ],
          "choropleth": [
           {
            "colorbar": {
             "outlinewidth": 0,
             "ticks": ""
            },
            "type": "choropleth"
           }
          ],
          "contour": [
           {
            "colorbar": {
             "outlinewidth": 0,
             "ticks": ""
            },
            "colorscale": [
             [
              0,
              "#0d0887"
             ],
             [
              0.1111111111111111,
              "#46039f"
             ],
             [
              0.2222222222222222,
              "#7201a8"
             ],
             [
              0.3333333333333333,
              "#9c179e"
             ],
             [
              0.4444444444444444,
              "#bd3786"
             ],
             [
              0.5555555555555556,
              "#d8576b"
             ],
             [
              0.6666666666666666,
              "#ed7953"
             ],
             [
              0.7777777777777778,
              "#fb9f3a"
             ],
             [
              0.8888888888888888,
              "#fdca26"
             ],
             [
              1,
              "#f0f921"
             ]
            ],
            "type": "contour"
           }
          ],
          "contourcarpet": [
           {
            "colorbar": {
             "outlinewidth": 0,
             "ticks": ""
            },
            "type": "contourcarpet"
           }
          ],
          "heatmap": [
           {
            "colorbar": {
             "outlinewidth": 0,
             "ticks": ""
            },
            "colorscale": [
             [
              0,
              "#0d0887"
             ],
             [
              0.1111111111111111,
              "#46039f"
             ],
             [
              0.2222222222222222,
              "#7201a8"
             ],
             [
              0.3333333333333333,
              "#9c179e"
             ],
             [
              0.4444444444444444,
              "#bd3786"
             ],
             [
              0.5555555555555556,
              "#d8576b"
             ],
             [
              0.6666666666666666,
              "#ed7953"
             ],
             [
              0.7777777777777778,
              "#fb9f3a"
             ],
             [
              0.8888888888888888,
              "#fdca26"
             ],
             [
              1,
              "#f0f921"
             ]
            ],
            "type": "heatmap"
           }
          ],
          "heatmapgl": [
           {
            "colorbar": {
             "outlinewidth": 0,
             "ticks": ""
            },
            "colorscale": [
             [
              0,
              "#0d0887"
             ],
             [
              0.1111111111111111,
              "#46039f"
             ],
             [
              0.2222222222222222,
              "#7201a8"
             ],
             [
              0.3333333333333333,
              "#9c179e"
             ],
             [
              0.4444444444444444,
              "#bd3786"
             ],
             [
              0.5555555555555556,
              "#d8576b"
             ],
             [
              0.6666666666666666,
              "#ed7953"
             ],
             [
              0.7777777777777778,
              "#fb9f3a"
             ],
             [
              0.8888888888888888,
              "#fdca26"
             ],
             [
              1,
              "#f0f921"
             ]
            ],
            "type": "heatmapgl"
           }
          ],
          "histogram": [
           {
            "marker": {
             "pattern": {
              "fillmode": "overlay",
              "size": 10,
              "solidity": 0.2
             }
            },
            "type": "histogram"
           }
          ],
          "histogram2d": [
           {
            "colorbar": {
             "outlinewidth": 0,
             "ticks": ""
            },
            "colorscale": [
             [
              0,
              "#0d0887"
             ],
             [
              0.1111111111111111,
              "#46039f"
             ],
             [
              0.2222222222222222,
              "#7201a8"
             ],
             [
              0.3333333333333333,
              "#9c179e"
             ],
             [
              0.4444444444444444,
              "#bd3786"
             ],
             [
              0.5555555555555556,
              "#d8576b"
             ],
             [
              0.6666666666666666,
              "#ed7953"
             ],
             [
              0.7777777777777778,
              "#fb9f3a"
             ],
             [
              0.8888888888888888,
              "#fdca26"
             ],
             [
              1,
              "#f0f921"
             ]
            ],
            "type": "histogram2d"
           }
          ],
          "histogram2dcontour": [
           {
            "colorbar": {
             "outlinewidth": 0,
             "ticks": ""
            },
            "colorscale": [
             [
              0,
              "#0d0887"
             ],
             [
              0.1111111111111111,
              "#46039f"
             ],
             [
              0.2222222222222222,
              "#7201a8"
             ],
             [
              0.3333333333333333,
              "#9c179e"
             ],
             [
              0.4444444444444444,
              "#bd3786"
             ],
             [
              0.5555555555555556,
              "#d8576b"
             ],
             [
              0.6666666666666666,
              "#ed7953"
             ],
             [
              0.7777777777777778,
              "#fb9f3a"
             ],
             [
              0.8888888888888888,
              "#fdca26"
             ],
             [
              1,
              "#f0f921"
             ]
            ],
            "type": "histogram2dcontour"
           }
          ],
          "mesh3d": [
           {
            "colorbar": {
             "outlinewidth": 0,
             "ticks": ""
            },
            "type": "mesh3d"
           }
          ],
          "parcoords": [
           {
            "line": {
             "colorbar": {
              "outlinewidth": 0,
              "ticks": ""
             }
            },
            "type": "parcoords"
           }
          ],
          "pie": [
           {
            "automargin": true,
            "type": "pie"
           }
          ],
          "scatter": [
           {
            "fillpattern": {
             "fillmode": "overlay",
             "size": 10,
             "solidity": 0.2
            },
            "type": "scatter"
           }
          ],
          "scatter3d": [
           {
            "line": {
             "colorbar": {
              "outlinewidth": 0,
              "ticks": ""
             }
            },
            "marker": {
             "colorbar": {
              "outlinewidth": 0,
              "ticks": ""
             }
            },
            "type": "scatter3d"
           }
          ],
          "scattercarpet": [
           {
            "marker": {
             "colorbar": {
              "outlinewidth": 0,
              "ticks": ""
             }
            },
            "type": "scattercarpet"
           }
          ],
          "scattergeo": [
           {
            "marker": {
             "colorbar": {
              "outlinewidth": 0,
              "ticks": ""
             }
            },
            "type": "scattergeo"
           }
          ],
          "scattergl": [
           {
            "marker": {
             "colorbar": {
              "outlinewidth": 0,
              "ticks": ""
             }
            },
            "type": "scattergl"
           }
          ],
          "scattermapbox": [
           {
            "marker": {
             "colorbar": {
              "outlinewidth": 0,
              "ticks": ""
             }
            },
            "type": "scattermapbox"
           }
          ],
          "scatterpolar": [
           {
            "marker": {
             "colorbar": {
              "outlinewidth": 0,
              "ticks": ""
             }
            },
            "type": "scatterpolar"
           }
          ],
          "scatterpolargl": [
           {
            "marker": {
             "colorbar": {
              "outlinewidth": 0,
              "ticks": ""
             }
            },
            "type": "scatterpolargl"
           }
          ],
          "scatterternary": [
           {
            "marker": {
             "colorbar": {
              "outlinewidth": 0,
              "ticks": ""
             }
            },
            "type": "scatterternary"
           }
          ],
          "surface": [
           {
            "colorbar": {
             "outlinewidth": 0,
             "ticks": ""
            },
            "colorscale": [
             [
              0,
              "#0d0887"
             ],
             [
              0.1111111111111111,
              "#46039f"
             ],
             [
              0.2222222222222222,
              "#7201a8"
             ],
             [
              0.3333333333333333,
              "#9c179e"
             ],
             [
              0.4444444444444444,
              "#bd3786"
             ],
             [
              0.5555555555555556,
              "#d8576b"
             ],
             [
              0.6666666666666666,
              "#ed7953"
             ],
             [
              0.7777777777777778,
              "#fb9f3a"
             ],
             [
              0.8888888888888888,
              "#fdca26"
             ],
             [
              1,
              "#f0f921"
             ]
            ],
            "type": "surface"
           }
          ],
          "table": [
           {
            "cells": {
             "fill": {
              "color": "#EBF0F8"
             },
             "line": {
              "color": "white"
             }
            },
            "header": {
             "fill": {
              "color": "#C8D4E3"
             },
             "line": {
              "color": "white"
             }
            },
            "type": "table"
           }
          ]
         },
         "layout": {
          "annotationdefaults": {
           "arrowcolor": "#2a3f5f",
           "arrowhead": 0,
           "arrowwidth": 1
          },
          "autotypenumbers": "strict",
          "coloraxis": {
           "colorbar": {
            "outlinewidth": 0,
            "ticks": ""
           }
          },
          "colorscale": {
           "diverging": [
            [
             0,
             "#8e0152"
            ],
            [
             0.1,
             "#c51b7d"
            ],
            [
             0.2,
             "#de77ae"
            ],
            [
             0.3,
             "#f1b6da"
            ],
            [
             0.4,
             "#fde0ef"
            ],
            [
             0.5,
             "#f7f7f7"
            ],
            [
             0.6,
             "#e6f5d0"
            ],
            [
             0.7,
             "#b8e186"
            ],
            [
             0.8,
             "#7fbc41"
            ],
            [
             0.9,
             "#4d9221"
            ],
            [
             1,
             "#276419"
            ]
           ],
           "sequential": [
            [
             0,
             "#0d0887"
            ],
            [
             0.1111111111111111,
             "#46039f"
            ],
            [
             0.2222222222222222,
             "#7201a8"
            ],
            [
             0.3333333333333333,
             "#9c179e"
            ],
            [
             0.4444444444444444,
             "#bd3786"
            ],
            [
             0.5555555555555556,
             "#d8576b"
            ],
            [
             0.6666666666666666,
             "#ed7953"
            ],
            [
             0.7777777777777778,
             "#fb9f3a"
            ],
            [
             0.8888888888888888,
             "#fdca26"
            ],
            [
             1,
             "#f0f921"
            ]
           ],
           "sequentialminus": [
            [
             0,
             "#0d0887"
            ],
            [
             0.1111111111111111,
             "#46039f"
            ],
            [
             0.2222222222222222,
             "#7201a8"
            ],
            [
             0.3333333333333333,
             "#9c179e"
            ],
            [
             0.4444444444444444,
             "#bd3786"
            ],
            [
             0.5555555555555556,
             "#d8576b"
            ],
            [
             0.6666666666666666,
             "#ed7953"
            ],
            [
             0.7777777777777778,
             "#fb9f3a"
            ],
            [
             0.8888888888888888,
             "#fdca26"
            ],
            [
             1,
             "#f0f921"
            ]
           ]
          },
          "colorway": [
           "#636efa",
           "#EF553B",
           "#00cc96",
           "#ab63fa",
           "#FFA15A",
           "#19d3f3",
           "#FF6692",
           "#B6E880",
           "#FF97FF",
           "#FECB52"
          ],
          "font": {
           "color": "#2a3f5f"
          },
          "geo": {
           "bgcolor": "white",
           "lakecolor": "white",
           "landcolor": "#E5ECF6",
           "showlakes": true,
           "showland": true,
           "subunitcolor": "white"
          },
          "hoverlabel": {
           "align": "left"
          },
          "hovermode": "closest",
          "mapbox": {
           "style": "light"
          },
          "paper_bgcolor": "white",
          "plot_bgcolor": "#E5ECF6",
          "polar": {
           "angularaxis": {
            "gridcolor": "white",
            "linecolor": "white",
            "ticks": ""
           },
           "bgcolor": "#E5ECF6",
           "radialaxis": {
            "gridcolor": "white",
            "linecolor": "white",
            "ticks": ""
           }
          },
          "scene": {
           "xaxis": {
            "backgroundcolor": "#E5ECF6",
            "gridcolor": "white",
            "gridwidth": 2,
            "linecolor": "white",
            "showbackground": true,
            "ticks": "",
            "zerolinecolor": "white"
           },
           "yaxis": {
            "backgroundcolor": "#E5ECF6",
            "gridcolor": "white",
            "gridwidth": 2,
            "linecolor": "white",
            "showbackground": true,
            "ticks": "",
            "zerolinecolor": "white"
           },
           "zaxis": {
            "backgroundcolor": "#E5ECF6",
            "gridcolor": "white",
            "gridwidth": 2,
            "linecolor": "white",
            "showbackground": true,
            "ticks": "",
            "zerolinecolor": "white"
           }
          },
          "shapedefaults": {
           "line": {
            "color": "#2a3f5f"
           }
          },
          "ternary": {
           "aaxis": {
            "gridcolor": "white",
            "linecolor": "white",
            "ticks": ""
           },
           "baxis": {
            "gridcolor": "white",
            "linecolor": "white",
            "ticks": ""
           },
           "bgcolor": "#E5ECF6",
           "caxis": {
            "gridcolor": "white",
            "linecolor": "white",
            "ticks": ""
           }
          },
          "title": {
           "x": 0.05
          },
          "xaxis": {
           "automargin": true,
           "gridcolor": "white",
           "linecolor": "white",
           "ticks": "",
           "title": {
            "standoff": 15
           },
           "zerolinecolor": "white",
           "zerolinewidth": 2
          },
          "yaxis": {
           "automargin": true,
           "gridcolor": "white",
           "linecolor": "white",
           "ticks": "",
           "title": {
            "standoff": 15
           },
           "zerolinecolor": "white",
           "zerolinewidth": 2
          }
         }
        },
        "xaxis": {
         "anchor": "y",
         "autorange": true,
         "domain": [
          0,
          1
         ],
         "range": [
          0.08478391731002505,
          0.6493623088165509
         ],
         "title": {
          "text": "Length"
         },
         "type": "linear"
        },
        "xaxis2": {
         "anchor": "y2",
         "autorange": true,
         "domain": [
          0,
          1
         ],
         "matches": "x",
         "range": [
          0.08478391731002505,
          0.6493623088165509
         ],
         "showgrid": true,
         "showticklabels": false,
         "type": "linear"
        },
        "yaxis": {
         "anchor": "x",
         "autorange": true,
         "domain": [
          0,
          0.7326
         ],
         "range": [
          0,
          16.647946084724005
         ],
         "title": {
          "text": "percent"
         }
        },
        "yaxis2": {
         "anchor": "x2",
         "autorange": true,
         "domain": [
          0.7426,
          1
         ],
         "matches": "y2",
         "range": [
          -0.5,
          1.5
         ],
         "showgrid": false,
         "showline": false,
         "showticklabels": false,
         "ticks": "",
         "type": "category"
        }
       }
      },
      "image/png": "[encoded data removed]",
      "text/html": [
       "<div>                            <div id=\"d3e2b42a-9d5d-4928-b4f1-2183e119ec86\" class=\"plotly-graph-div\" style=\"height:525px; width:100%;\"></div>            <script type=\"text/javascript\">                require([\"plotly\"], function(Plotly) {                    window.PLOTLYENV=window.PLOTLYENV || {};                                    if (document.getElementById(\"d3e2b42a-9d5d-4928-b4f1-2183e119ec86\")) {                    Plotly.newPlot(                        \"d3e2b42a-9d5d-4928-b4f1-2183e119ec86\",                        [{\"alignmentgroup\":\"True\",\"bingroup\":\"x\",\"histnorm\":\"percent\",\"hovertemplate\":\"Founder=False<br>Length=%{x}<br>percent=%{y}<extra></extra>\",\"legendgroup\":\"False\",\"marker\":{\"color\":\"#636efa\",\"pattern\":{\"shape\":\"\"}},\"name\":\"False\",\"nbinsx\":80,\"offsetgroup\":\"False\",\"orientation\":\"v\",\"showlegend\":true,\"x\":[0.41523657966724975,0.45523658245325604,0.32323496825861664,0.45266826510586006,0.4335974973723281,0.4218794590928714,0.4259206883469353,0.12434364292498988,0.47915254076222147,0.4102801011994153,0.41677491135504735,0.35448198176324675,0.20065203430327722,0.47112659029756154,0.4202889855558589,0.4441613045585954,0.39235342784926464,0.44759029499753983,0.34984561454900204,0.3087886479854874,0.3797828281097362,0.3366173109833697,0.3848312404324354,0.3277130354653509,0.5763349981737946,0.42708723794111886,0.4581574749926877,0.3087308183302795,0.2803825294611787,0.3656322119337283,0.18093373079602046,0.3908474765197239,0.40542175457984286,0.41534344303339077,0.4493214609822277,0.30902918393404716,0.36476053063477515,0.4575120496187374,0.4091165665864278,0.40021850299183775,0.4607350000909152,0.36608019913537254,0.36594337140081556,0.4646640986856715,0.5285071700201135,0.3957637389865743,0.3048546782328357,0.5219198618433404,0.2889912297348677,0.39303249947308566,0.41936527123606204,0.4208678584629919,0.3748050314699219,0.3182760128570534,0.11301283688535134,0.4574442417078299,0.5219688955542735,0.46745306947352044,0.4156244631360413,0.387860404141818,0.3541620829426377,0.3716808701693682,0.4759897105648088,0.3884634857024703,0.480418457624337,0.4156375538831576,0.4661833653840867,0.36051806030980155,0.3213293312410832,0.3973359119446838,0.5276143185557653,0.5604785843417417,0.42301874065036416,0.46070034565501355,0.524033706688795,0.498135875782322,0.39941451729291305,0.4253865708898063,0.41371217104595154,0.45880884239570613,0.34299417991529835,0.4963085507900855,0.33177158148984204,0.5679251961138398,0.4236883067689301,0.39614774816535064,0.43063995230809937,0.4151358594450069,0.44734673884402215,0.4261242017542359,0.4431030026274347,0.37461049074417097,0.42671427875984186,0.5412401826089572,0.4686753513825419,0.4524996142143069,0.47088172559170843,0.4858367497207214,0.43072393211496895,0.35472191436731654,0.5688719803070796,0.4449706272008443,0.3780595508760207,0.4027864642528032,0.36991198427121835,0.3299800558079723,0.39702067446087047,0.41043223107359156,0.3204143223203563,0.3314741979532962,0.38763805472002816,0.3639694119318355,0.44571680936337016,0.2354715288896077,0.3286068837975794,0.3068296040977521,0.42394051260139165,0.49175057569881886,0.5097711322376194,0.4077595177168866,0.4276860133807791,0.4239760576886833,0.32247576848163995,0.47499444028499993,0.42246608754505044,0.5033708277689206,0.5245551739360543,0.4061941460966643],\"xaxis\":\"x\",\"yaxis\":\"y\",\"type\":\"histogram\"},{\"alignmentgroup\":\"True\",\"hovertemplate\":\"Founder=False<br>Length=%{x}<extra></extra>\",\"legendgroup\":\"False\",\"marker\":{\"color\":\"#636efa\"},\"name\":\"False\",\"notched\":true,\"offsetgroup\":\"False\",\"showlegend\":false,\"x\":[0.41523657966724975,0.45523658245325604,0.32323496825861664,0.45266826510586006,0.4335974973723281,0.4218794590928714,0.4259206883469353,0.12434364292498988,0.47915254076222147,0.4102801011994153,0.41677491135504735,0.35448198176324675,0.20065203430327722,0.47112659029756154,0.4202889855558589,0.4441613045585954,0.39235342784926464,0.44759029499753983,0.34984561454900204,0.3087886479854874,0.3797828281097362,0.3366173109833697,0.3848312404324354,0.3277130354653509,0.5763349981737946,0.42708723794111886,0.4581574749926877,0.3087308183302795,0.2803825294611787,0.3656322119337283,0.18093373079602046,0.3908474765197239,0.40542175457984286,0.41534344303339077,0.4493214609822277,0.30902918393404716,0.36476053063477515,0.4575120496187374,0.4091165665864278,0.40021850299183775,0.4607350000909152,0.36608019913537254,0.36594337140081556,0.4646640986856715,0.5285071700201135,0.3957637389865743,0.3048546782328357,0.5219198618433404,0.2889912297348677,0.39303249947308566,0.41936527123606204,0.4208678584629919,0.3748050314699219,0.3182760128570534,0.11301283688535134,0.4574442417078299,0.5219688955542735,0.46745306947352044,0.4156244631360413,0.387860404141818,0.3541620829426377,0.3716808701693682,0.4759897105648088,0.3884634857024703,0.480418457624337,0.4156375538831576,0.4661833653840867,0.36051806030980155,0.3213293312410832,0.3973359119446838,0.5276143185557653,0.5604785843417417,0.42301874065036416,0.46070034565501355,0.524033706688795,0.498135875782322,0.39941451729291305,0.4253865708898063,0.41371217104595154,0.45880884239570613,0.34299417991529835,0.4963085507900855,0.33177158148984204,0.5679251961138398,0.4236883067689301,0.39614774816535064,0.43063995230809937,0.4151358594450069,0.44734673884402215,0.4261242017542359,0.4431030026274347,0.37461049074417097,0.42671427875984186,0.5412401826089572,0.4686753513825419,0.4524996142143069,0.47088172559170843,0.4858367497207214,0.43072393211496895,0.35472191436731654,0.5688719803070796,0.4449706272008443,0.3780595508760207,0.4027864642528032,0.36991198427121835,0.3299800558079723,0.39702067446087047,0.41043223107359156,0.3204143223203563,0.3314741979532962,0.38763805472002816,0.3639694119318355,0.44571680936337016,0.2354715288896077,0.3286068837975794,0.3068296040977521,0.42394051260139165,0.49175057569881886,0.5097711322376194,0.4077595177168866,0.4276860133807791,0.4239760576886833,0.32247576848163995,0.47499444028499993,0.42246608754505044,0.5033708277689206,0.5245551739360543,0.4061941460966643],\"xaxis\":\"x2\",\"yaxis\":\"y2\",\"type\":\"box\"},{\"alignmentgroup\":\"True\",\"bingroup\":\"x\",\"histnorm\":\"percent\",\"hovertemplate\":\"Founder=True<br>Length=%{x}<br>percent=%{y}<extra></extra>\",\"legendgroup\":\"True\",\"marker\":{\"color\":\"#EF553B\",\"pattern\":{\"shape\":\"\"}},\"name\":\"True\",\"nbinsx\":80,\"offsetgroup\":\"True\",\"orientation\":\"v\",\"showlegend\":true,\"x\":[0.47000883325064047,0.4170042928308714,0.40927492144343736,0.4588662793981507,0.36068677301586954,0.5372049067021121,0.3668216189683742,0.38318865464752494,0.440123880815016,0.3624525055031351,0.423094843895039,0.5398531920073014,0.3066310419460282,0.3592732056553368,0.304288492972532,0.4796323746277901,0.3589911651778779,0.4866298525825249,0.543839389801238,0.47515714131184217,0.4170369900973452,0.3480579692515362,0.45998053826590757,0.4788095816450661,0.39260862689724796,0.4334221261111959,0.37636523069531724,0.43145431413924884,0.41351401808890337,0.4221410711791135,0.29614129290168384,0.5425213859394067,0.40081123802158225,0.6211333892412246,0.3388612414281279,0.33000622772530824,0.36452744028806017,0.4865252380458466,0.3944076904674213,0.4457351970049701,0.5118562742531371],\"xaxis\":\"x\",\"yaxis\":\"y\",\"type\":\"histogram\"},{\"alignmentgroup\":\"True\",\"hovertemplate\":\"Founder=True<br>Length=%{x}<extra></extra>\",\"legendgroup\":\"True\",\"marker\":{\"color\":\"#EF553B\"},\"name\":\"True\",\"notched\":true,\"offsetgroup\":\"True\",\"showlegend\":false,\"x\":[0.47000883325064047,0.4170042928308714,0.40927492144343736,0.4588662793981507,0.36068677301586954,0.5372049067021121,0.3668216189683742,0.38318865464752494,0.440123880815016,0.3624525055031351,0.423094843895039,0.5398531920073014,0.3066310419460282,0.3592732056553368,0.304288492972532,0.4796323746277901,0.3589911651778779,0.4866298525825249,0.543839389801238,0.47515714131184217,0.4170369900973452,0.3480579692515362,0.45998053826590757,0.4788095816450661,0.39260862689724796,0.4334221261111959,0.37636523069531724,0.43145431413924884,0.41351401808890337,0.4221410711791135,0.29614129290168384,0.5425213859394067,0.40081123802158225,0.6211333892412246,0.3388612414281279,0.33000622772530824,0.36452744028806017,0.4865252380458466,0.3944076904674213,0.4457351970049701,0.5118562742531371],\"xaxis\":\"x2\",\"yaxis\":\"y2\",\"type\":\"box\"}],                        {\"template\":{\"data\":{\"histogram2dcontour\":[{\"type\":\"histogram2dcontour\",\"colorbar\":{\"outlinewidth\":0,\"ticks\":\"\"},\"colorscale\":[[0.0,\"#0d0887\"],[0.1111111111111111,\"#46039f\"],[0.2222222222222222,\"#7201a8\"],[0.3333333333333333,\"#9c179e\"],[0.4444444444444444,\"#bd3786\"],[0.5555555555555556,\"#d8576b\"],[0.6666666666666666,\"#ed7953\"],[0.7777777777777778,\"#fb9f3a\"],[0.8888888888888888,\"#fdca26\"],[1.0,\"#f0f921\"]]}],\"choropleth\":[{\"type\":\"choropleth\",\"colorbar\":{\"outlinewidth\":0,\"ticks\":\"\"}}],\"histogram2d\":[{\"type\":\"histogram2d\",\"colorbar\":{\"outlinewidth\":0,\"ticks\":\"\"},\"colorscale\":[[0.0,\"#0d0887\"],[0.1111111111111111,\"#46039f\"],[0.2222222222222222,\"#7201a8\"],[0.3333333333333333,\"#9c179e\"],[0.4444444444444444,\"#bd3786\"],[0.5555555555555556,\"#d8576b\"],[0.6666666666666666,\"#ed7953\"],[0.7777777777777778,\"#fb9f3a\"],[0.8888888888888888,\"#fdca26\"],[1.0,\"#f0f921\"]]}],\"heatmap\":[{\"type\":\"heatmap\",\"colorbar\":{\"outlinewidth\":0,\"ticks\":\"\"},\"colorscale\":[[0.0,\"#0d0887\"],[0.1111111111111111,\"#46039f\"],[0.2222222222222222,\"#7201a8\"],[0.3333333333333333,\"#9c179e\"],[0.4444444444444444,\"#bd3786\"],[0.5555555555555556,\"#d8576b\"],[0.6666666666666666,\"#ed7953\"],[0.7777777777777778,\"#fb9f3a\"],[0.8888888888888888,\"#fdca26\"],[1.0,\"#f0f921\"]]}],\"heatmapgl\":[{\"type\":\"heatmapgl\",\"colorbar\":{\"outlinewidth\":0,\"ticks\":\"\"},\"colorscale\":[[0.0,\"#0d0887\"],[0.1111111111111111,\"#46039f\"],[0.2222222222222222,\"#7201a8\"],[0.3333333333333333,\"#9c179e\"],[0.4444444444444444,\"#bd3786\"],[0.5555555555555556,\"#d8576b\"],[0.6666666666666666,\"#ed7953\"],[0.7777777777777778,\"#fb9f3a\"],[0.8888888888888888,\"#fdca26\"],[1.0,\"#f0f921\"]]}],\"contourcarpet\":[{\"type\":\"contourcarpet\",\"colorbar\":{\"outlinewidth\":0,\"ticks\":\"\"}}],\"contour\":[{\"type\":\"contour\",\"colorbar\":{\"outlinewidth\":0,\"ticks\":\"\"},\"colorscale\":[[0.0,\"#0d0887\"],[0.1111111111111111,\"#46039f\"],[0.2222222222222222,\"#7201a8\"],[0.3333333333333333,\"#9c179e\"],[0.4444444444444444,\"#bd3786\"],[0.5555555555555556,\"#d8576b\"],[0.6666666666666666,\"#ed7953\"],[0.7777777777777778,\"#fb9f3a\"],[0.8888888888888888,\"#fdca26\"],[1.0,\"#f0f921\"]]}],\"surface\":[{\"type\":\"surface\",\"colorbar\":{\"outlinewidth\":0,\"ticks\":\"\"},\"colorscale\":[[0.0,\"#0d0887\"],[0.1111111111111111,\"#46039f\"],[0.2222222222222222,\"#7201a8\"],[0.3333333333333333,\"#9c179e\"],[0.4444444444444444,\"#bd3786\"],[0.5555555555555556,\"#d8576b\"],[0.6666666666666666,\"#ed7953\"],[0.7777777777777778,\"#fb9f3a\"],[0.8888888888888888,\"#fdca26\"],[1.0,\"#f0f921\"]]}],\"mesh3d\":[{\"type\":\"mesh3d\",\"colorbar\":{\"outlinewidth\":0,\"ticks\":\"\"}}],\"scatter\":[{\"fillpattern\":{\"fillmode\":\"overlay\",\"size\":10,\"solidity\":0.2},\"type\":\"scatter\"}],\"parcoords\":[{\"type\":\"parcoords\",\"line\":{\"colorbar\":{\"outlinewidth\":0,\"ticks\":\"\"}}}],\"scatterpolargl\":[{\"type\":\"scatterpolargl\",\"marker\":{\"colorbar\":{\"outlinewidth\":0,\"ticks\":\"\"}}}],\"bar\":[{\"error_x\":{\"color\":\"#2a3f5f\"},\"error_y\":{\"color\":\"#2a3f5f\"},\"marker\":{\"line\":{\"color\":\"#E5ECF6\",\"width\":0.5},\"pattern\":{\"fillmode\":\"overlay\",\"size\":10,\"solidity\":0.2}},\"type\":\"bar\"}],\"scattergeo\":[{\"type\":\"scattergeo\",\"marker\":{\"colorbar\":{\"outlinewidth\":0,\"ticks\":\"\"}}}],\"scatterpolar\":[{\"type\":\"scatterpolar\",\"marker\":{\"colorbar\":{\"outlinewidth\":0,\"ticks\":\"\"}}}],\"histogram\":[{\"marker\":{\"pattern\":{\"fillmode\":\"overlay\",\"size\":10,\"solidity\":0.2}},\"type\":\"histogram\"}],\"scattergl\":[{\"type\":\"scattergl\",\"marker\":{\"colorbar\":{\"outlinewidth\":0,\"ticks\":\"\"}}}],\"scatter3d\":[{\"type\":\"scatter3d\",\"line\":{\"colorbar\":{\"outlinewidth\":0,\"ticks\":\"\"}},\"marker\":{\"colorbar\":{\"outlinewidth\":0,\"ticks\":\"\"}}}],\"scattermapbox\":[{\"type\":\"scattermapbox\",\"marker\":{\"colorbar\":{\"outlinewidth\":0,\"ticks\":\"\"}}}],\"scatterternary\":[{\"type\":\"scatterternary\",\"marker\":{\"colorbar\":{\"outlinewidth\":0,\"ticks\":\"\"}}}],\"scattercarpet\":[{\"type\":\"scattercarpet\",\"marker\":{\"colorbar\":{\"outlinewidth\":0,\"ticks\":\"\"}}}],\"carpet\":[{\"aaxis\":{\"endlinecolor\":\"#2a3f5f\",\"gridcolor\":\"white\",\"linecolor\":\"white\",\"minorgridcolor\":\"white\",\"startlinecolor\":\"#2a3f5f\"},\"baxis\":{\"endlinecolor\":\"#2a3f5f\",\"gridcolor\":\"white\",\"linecolor\":\"white\",\"minorgridcolor\":\"white\",\"startlinecolor\":\"#2a3f5f\"},\"type\":\"carpet\"}],\"table\":[{\"cells\":{\"fill\":{\"color\":\"#EBF0F8\"},\"line\":{\"color\":\"white\"}},\"header\":{\"fill\":{\"color\":\"#C8D4E3\"},\"line\":{\"color\":\"white\"}},\"type\":\"table\"}],\"barpolar\":[{\"marker\":{\"line\":{\"color\":\"#E5ECF6\",\"width\":0.5},\"pattern\":{\"fillmode\":\"overlay\",\"size\":10,\"solidity\":0.2}},\"type\":\"barpolar\"}],\"pie\":[{\"automargin\":true,\"type\":\"pie\"}]},\"layout\":{\"autotypenumbers\":\"strict\",\"colorway\":[\"#636efa\",\"#EF553B\",\"#00cc96\",\"#ab63fa\",\"#FFA15A\",\"#19d3f3\",\"#FF6692\",\"#B6E880\",\"#FF97FF\",\"#FECB52\"],\"font\":{\"color\":\"#2a3f5f\"},\"hovermode\":\"closest\",\"hoverlabel\":{\"align\":\"left\"},\"paper_bgcolor\":\"white\",\"plot_bgcolor\":\"#E5ECF6\",\"polar\":{\"bgcolor\":\"#E5ECF6\",\"angularaxis\":{\"gridcolor\":\"white\",\"linecolor\":\"white\",\"ticks\":\"\"},\"radialaxis\":{\"gridcolor\":\"white\",\"linecolor\":\"white\",\"ticks\":\"\"}},\"ternary\":{\"bgcolor\":\"#E5ECF6\",\"aaxis\":{\"gridcolor\":\"white\",\"linecolor\":\"white\",\"ticks\":\"\"},\"baxis\":{\"gridcolor\":\"white\",\"linecolor\":\"white\",\"ticks\":\"\"},\"caxis\":{\"gridcolor\":\"white\",\"linecolor\":\"white\",\"ticks\":\"\"}},\"coloraxis\":{\"colorbar\":{\"outlinewidth\":0,\"ticks\":\"\"}},\"colorscale\":{\"sequential\":[[0.0,\"#0d0887\"],[0.1111111111111111,\"#46039f\"],[0.2222222222222222,\"#7201a8\"],[0.3333333333333333,\"#9c179e\"],[0.4444444444444444,\"#bd3786\"],[0.5555555555555556,\"#d8576b\"],[0.6666666666666666,\"#ed7953\"],[0.7777777777777778,\"#fb9f3a\"],[0.8888888888888888,\"#fdca26\"],[1.0,\"#f0f921\"]],\"sequentialminus\":[[0.0,\"#0d0887\"],[0.1111111111111111,\"#46039f\"],[0.2222222222222222,\"#7201a8\"],[0.3333333333333333,\"#9c179e\"],[0.4444444444444444,\"#bd3786\"],[0.5555555555555556,\"#d8576b\"],[0.6666666666666666,\"#ed7953\"],[0.7777777777777778,\"#fb9f3a\"],[0.8888888888888888,\"#fdca26\"],[1.0,\"#f0f921\"]],\"diverging\":[[0,\"#8e0152\"],[0.1,\"#c51b7d\"],[0.2,\"#de77ae\"],[0.3,\"#f1b6da\"],[0.4,\"#fde0ef\"],[0.5,\"#f7f7f7\"],[0.6,\"#e6f5d0\"],[0.7,\"#b8e186\"],[0.8,\"#7fbc41\"],[0.9,\"#4d9221\"],[1,\"#276419\"]]},\"xaxis\":{\"gridcolor\":\"white\",\"linecolor\":\"white\",\"ticks\":\"\",\"title\":{\"standoff\":15},\"zerolinecolor\":\"white\",\"automargin\":true,\"zerolinewidth\":2},\"yaxis\":{\"gridcolor\":\"white\",\"linecolor\":\"white\",\"ticks\":\"\",\"title\":{\"standoff\":15},\"zerolinecolor\":\"white\",\"automargin\":true,\"zerolinewidth\":2},\"scene\":{\"xaxis\":{\"backgroundcolor\":\"#E5ECF6\",\"gridcolor\":\"white\",\"linecolor\":\"white\",\"showbackground\":true,\"ticks\":\"\",\"zerolinecolor\":\"white\",\"gridwidth\":2},\"yaxis\":{\"backgroundcolor\":\"#E5ECF6\",\"gridcolor\":\"white\",\"linecolor\":\"white\",\"showbackground\":true,\"ticks\":\"\",\"zerolinecolor\":\"white\",\"gridwidth\":2},\"zaxis\":{\"backgroundcolor\":\"#E5ECF6\",\"gridcolor\":\"white\",\"linecolor\":\"white\",\"showbackground\":true,\"ticks\":\"\",\"zerolinecolor\":\"white\",\"gridwidth\":2}},\"shapedefaults\":{\"line\":{\"color\":\"#2a3f5f\"}},\"annotationdefaults\":{\"arrowcolor\":\"#2a3f5f\",\"arrowhead\":0,\"arrowwidth\":1},\"geo\":{\"bgcolor\":\"white\",\"landcolor\":\"#E5ECF6\",\"subunitcolor\":\"white\",\"showland\":true,\"showlakes\":true,\"lakecolor\":\"white\"},\"title\":{\"x\":0.05},\"mapbox\":{\"style\":\"light\"}}},\"xaxis\":{\"anchor\":\"y\",\"domain\":[0.0,1.0],\"title\":{\"text\":\"Length\"}},\"yaxis\":{\"anchor\":\"x\",\"domain\":[0.0,0.7326],\"title\":{\"text\":\"percent\"}},\"xaxis2\":{\"anchor\":\"y2\",\"domain\":[0.0,1.0],\"matches\":\"x\",\"showticklabels\":false,\"showgrid\":true},\"yaxis2\":{\"anchor\":\"x2\",\"domain\":[0.7426,1.0],\"matches\":\"y2\",\"showticklabels\":false,\"showline\":false,\"ticks\":\"\",\"showgrid\":false},\"legend\":{\"title\":{\"text\":\"Founder\"},\"tracegroupgap\":0},\"margin\":{\"t\":60},\"barmode\":\"relative\"},                        {\"responsive\": true}                    ).then(function(){\n",
       "                            \n",
       "var gd = document.getElementById('d3e2b42a-9d5d-4928-b4f1-2183e119ec86');\n",
       "var x = new MutationObserver(function (mutations, observer) {{\n",
       "        var display = window.getComputedStyle(gd).display;\n",
       "        if (!display || display === 'none') {{\n",
       "            console.log([gd, 'removed!']);\n",
       "            Plotly.purge(gd);\n",
       "            observer.disconnect();\n",
       "        }}\n",
       "}});\n",
       "\n",
       "// Listen for the removal of the full notebook cells\n",
       "var notebookContainer = gd.closest('#notebook-container');\n",
       "if (notebookContainer) {{\n",
       "    x.observe(notebookContainer, {childList: true});\n",
       "}}\n",
       "\n",
       "// Listen for the clearing of the current output cell\n",
       "var outputEl = gd.closest('.output');\n",
       "if (outputEl) {{\n",
       "    x.observe(outputEl, {childList: true});\n",
       "}}\n",
       "\n",
       "                        })                };                });            </script>        </div>"
      ]
     },
     "metadata": {},
     "output_type": "display_data"
    }
   ],
   "source": [
    "px.histogram(data_agg.to_pandas(), color=\"Founder\", x=\"Length\", nbins=80, histnorm='percent', marginal=\"box\")"
   ]
  },
  {
   "cell_type": "markdown",
   "id": "33bd6e8c-5e80-471f-ae9b-4bdc3b824b12",
   "metadata": {},
   "source": [
    "# Get Lengths"
   ]
  },
  {
   "cell_type": "code",
   "execution_count": 61,
   "id": "e889b284-05d0-41da-81a6-d0292f746a29",
   "metadata": {
    "tags": []
   },
   "outputs": [
    {
     "data": {
      "text/plain": [
       "[307, 442093.3708663509, 115478915, 87906.5]"
      ]
     },
     "execution_count": 61,
     "metadata": {},
     "output_type": "execute_result"
    }
   ],
   "source": [
    "founders_length = data.filter(pl.col(\"Founder\") == True)[\"Length\"].to_list()\n",
    "[min(founders_length), np.mean(founders_length), max(founders_length), np.median(founders_length)]"
   ]
  },
  {
   "cell_type": "code",
   "execution_count": 62,
   "id": "2882242b-5232-403c-8c31-e5db0d110323",
   "metadata": {
    "tags": []
   },
   "outputs": [
    {
     "data": {
      "text/plain": [
       "[372, 419093.9188060787, 73089506, 91152.0]"
      ]
     },
     "execution_count": 62,
     "metadata": {},
     "output_type": "execute_result"
    }
   ],
   "source": [
    "offspring_length = data.filter(pl.col(\"Founder\") == False)[\"Length\"].to_list()\n",
    "[min(offspring_length), np.mean(offspring_length), max(offspring_length), np.median(offspring_length)]"
   ]
  },
  {
   "cell_type": "code",
   "execution_count": 63,
   "id": "2a5c8830-69c5-480f-8f8c-6128b4010cc8",
   "metadata": {
    "tags": []
   },
   "outputs": [
    {
     "data": {
      "text/plain": [
       "41"
      ]
     },
     "execution_count": 63,
     "metadata": {},
     "output_type": "execute_result"
    }
   ],
   "source": [
    "len(set(data.filter(pl.col(\"Founder\") == True)['Sample'].to_list()))"
   ]
  },
  {
   "cell_type": "code",
   "execution_count": 64,
   "id": "aaf584cc-2d8d-48e3-85e0-cb84f183555d",
   "metadata": {
    "tags": []
   },
   "outputs": [
    {
     "data": {
      "text/plain": [
       "128"
      ]
     },
     "execution_count": 64,
     "metadata": {},
     "output_type": "execute_result"
    }
   ],
   "source": [
    "len(set(data.filter(pl.col(\"Founder\") == False)['Sample'].to_list()))"
   ]
  },
  {
   "cell_type": "markdown",
   "id": "b3391910-7432-4586-836e-81d7058bd4bd",
   "metadata": {},
   "source": [
    "# Run F-test"
   ]
  },
  {
   "cell_type": "code",
   "execution_count": 68,
   "id": "93d381f4-a910-40c4-be12-a6d398ebc81d",
   "metadata": {
    "tags": []
   },
   "outputs": [],
   "source": [
    "founder_roh = data_agg.filter(pl.col(\"Founder\") == True)[\"Length\"].to_list()\n",
    "offspring_roh = data_agg.filter(pl.col(\"Founder\") == False)[\"Length\"].to_list()"
   ]
  },
  {
   "cell_type": "code",
   "execution_count": 72,
   "id": "be2e8ad8-8c53-4015-be0a-094fdd224179",
   "metadata": {},
   "outputs": [
    {
     "data": {
      "text/plain": [
       "Ttest_indResult(statistic=1.1700644591078977, pvalue=0.24364213449491934)"
      ]
     },
     "execution_count": 72,
     "metadata": {},
     "output_type": "execute_result"
    }
   ],
   "source": [
    "scipy.stats.ttest_ind(founder_roh, offspring_roh)"
   ]
  },
  {
   "cell_type": "code",
   "execution_count": 77,
   "id": "eaeb931b-a541-4b57-8700-8c954282381b",
   "metadata": {
    "tags": []
   },
   "outputs": [
    {
     "data": {
      "text/plain": [
       "Ttest_indResult(statistic=2.1024577603532144, pvalue=0.03551452108929415)"
      ]
     },
     "execution_count": 77,
     "metadata": {},
     "output_type": "execute_result"
    }
   ],
   "source": [
    "scipy.stats.ttest_ind(data.filter(pl.col(\"Founder\") == True)['Length'].to_list(), data.filter(pl.col(\"Founder\") == False)['Length'].to_list())"
   ]
  },
  {
   "cell_type": "code",
   "execution_count": 78,
   "id": "856f28f7-d269-4e0b-96bd-4586c7b6ab0c",
   "metadata": {
    "tags": []
   },
   "outputs": [
    {
     "data": {
      "text/plain": [
       "F_onewayResult(statistic=4.420328634069455, pvalue=0.03551452109933318)"
      ]
     },
     "execution_count": 78,
     "metadata": {},
     "output_type": "execute_result"
    }
   ],
   "source": [
    "scipy.stats.f_oneway(data.filter(pl.col(\"Founder\") == True)['Length'].to_list(), data.filter(pl.col(\"Founder\") == False)['Length'].to_list())"
   ]
  },
  {
   "cell_type": "code",
   "execution_count": 82,
   "id": "5720b62f-0367-4ce4-a825-de9067c36906",
   "metadata": {
    "tags": []
   },
   "outputs": [],
   "source": [
    "#px.histogram(data.to_pandas(), color=\"Founder\", x=\"Length\", nbins=80, histnorm='percent', marginal=\"box\")"
   ]
  },
  {
   "cell_type": "code",
   "execution_count": null,
   "id": "37bc4f9e-63cd-4f90-ae7e-e86d10d5e95a",
   "metadata": {},
   "outputs": [],
   "source": []
  }
 ],
 "metadata": {
  "kernelspec": {
   "display_name": "Python 3 (ipykernel)",
   "language": "python",
   "name": "python3"
  },
  "language_info": {
   "codemirror_mode": {
    "name": "ipython",
    "version": 3
   },
   "file_extension": ".py",
   "mimetype": "text/x-python",
   "name": "python",
   "nbconvert_exporter": "python",
   "pygments_lexer": "ipython3",
   "version": "3.9.16"
  }
 },
 "nbformat": 4,
 "nbformat_minor": 5
}
