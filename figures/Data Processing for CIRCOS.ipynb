{
 "cells": [
  {
   "cell_type": "code",
   "execution_count": 1,
   "metadata": {},
   "outputs": [],
   "source": [
    "import numpy as np\n",
    "import pandas as pd\n",
    "from collections import defaultdict, Counter\n",
    "import itertools\n",
    "import plotly.express as px\n",
    "from numba import jit, njit"
   ]
  },
  {
   "cell_type": "code",
   "execution_count": 2,
   "metadata": {},
   "outputs": [
    {
     "data": {
      "text/html": [
       "<div>\n",
       "<style scoped>\n",
       "    .dataframe tbody tr th:only-of-type {\n",
       "        vertical-align: middle;\n",
       "    }\n",
       "\n",
       "    .dataframe tbody tr th {\n",
       "        vertical-align: top;\n",
       "    }\n",
       "\n",
       "    .dataframe thead th {\n",
       "        text-align: right;\n",
       "    }\n",
       "</style>\n",
       "<table border=\"1\" class=\"dataframe\">\n",
       "  <thead>\n",
       "    <tr style=\"text-align: right;\">\n",
       "      <th></th>\n",
       "      <th>CHROM</th>\n",
       "      <th>BIN_START</th>\n",
       "      <th>BIN_END</th>\n",
       "      <th>N_VARIANTS</th>\n",
       "      <th>WEIGHTED_FST</th>\n",
       "      <th>MEAN_FST</th>\n",
       "    </tr>\n",
       "  </thead>\n",
       "  <tbody>\n",
       "    <tr>\n",
       "      <th>0</th>\n",
       "      <td>S1</td>\n",
       "      <td>1</td>\n",
       "      <td>10000</td>\n",
       "      <td>5</td>\n",
       "      <td>-0.002201</td>\n",
       "      <td>-0.006797</td>\n",
       "    </tr>\n",
       "    <tr>\n",
       "      <th>1</th>\n",
       "      <td>S1</td>\n",
       "      <td>10001</td>\n",
       "      <td>20000</td>\n",
       "      <td>10</td>\n",
       "      <td>-0.004263</td>\n",
       "      <td>-0.007271</td>\n",
       "    </tr>\n",
       "    <tr>\n",
       "      <th>2</th>\n",
       "      <td>S1</td>\n",
       "      <td>20001</td>\n",
       "      <td>30000</td>\n",
       "      <td>8</td>\n",
       "      <td>-0.010048</td>\n",
       "      <td>-0.010047</td>\n",
       "    </tr>\n",
       "    <tr>\n",
       "      <th>3</th>\n",
       "      <td>S1</td>\n",
       "      <td>30001</td>\n",
       "      <td>40000</td>\n",
       "      <td>7</td>\n",
       "      <td>-0.009264</td>\n",
       "      <td>-0.008416</td>\n",
       "    </tr>\n",
       "    <tr>\n",
       "      <th>4</th>\n",
       "      <td>S1</td>\n",
       "      <td>40001</td>\n",
       "      <td>50000</td>\n",
       "      <td>8</td>\n",
       "      <td>-0.009499</td>\n",
       "      <td>-0.008741</td>\n",
       "    </tr>\n",
       "  </tbody>\n",
       "</table>\n",
       "</div>"
      ],
      "text/plain": [
       "  CHROM  BIN_START  BIN_END  N_VARIANTS  WEIGHTED_FST  MEAN_FST\n",
       "0    S1          1    10000           5     -0.002201 -0.006797\n",
       "1    S1      10001    20000          10     -0.004263 -0.007271\n",
       "2    S1      20001    30000           8     -0.010048 -0.010047\n",
       "3    S1      30001    40000           7     -0.009264 -0.008416\n",
       "4    S1      40001    50000           8     -0.009499 -0.008741"
      ]
     },
     "execution_count": 2,
     "metadata": {},
     "output_type": "execute_result"
    }
   ],
   "source": [
    "fst = pd.read_csv(\"Fst_founders_offspring.windowed.weir.fst\", sep=\"\\t\")\n",
    "fst.head()"
   ]
  },
  {
   "cell_type": "code",
   "execution_count": 3,
   "metadata": {},
   "outputs": [],
   "source": [
    "with open(\"founders_vs_offspring_fst.scatter\", \"w\") as writer:\n",
    "    \n",
    "    for j,k in fst.iterrows():\n",
    "        writer.write(\"\\t\".join(map(str, [k['CHROM'], k['BIN_START'], k['BIN_END'], k['MEAN_FST']])))\n",
    "        writer.write(\"\\n\")\n",
    "    #print(k)"
   ]
  },
  {
   "cell_type": "code",
   "execution_count": 4,
   "metadata": {},
   "outputs": [
    {
     "data": {
      "text/plain": [
       "[-0.0158165, 0.202192]"
      ]
     },
     "execution_count": 4,
     "metadata": {},
     "output_type": "execute_result"
    }
   ],
   "source": [
    "[np.min(fst['MEAN_FST']), np.max(fst['MEAN_FST'])]"
   ]
  },
  {
   "cell_type": "code",
   "execution_count": 5,
   "metadata": {},
   "outputs": [
    {
     "data": {
      "text/plain": [
       "[0.0, 7.97]"
      ]
     },
     "execution_count": 5,
     "metadata": {},
     "output_type": "execute_result"
    }
   ],
   "source": [
    "snpden = pd.read_csv(\"snpden.hist\", sep=\"\\s+\", header=None)\n",
    "[np.min(snpden[3]), np.max(snpden[3])]"
   ]
  },
  {
   "cell_type": "code",
   "execution_count": 6,
   "metadata": {},
   "outputs": [
    {
     "data": {
      "text/html": [
       "<div>\n",
       "<style scoped>\n",
       "    .dataframe tbody tr th:only-of-type {\n",
       "        vertical-align: middle;\n",
       "    }\n",
       "\n",
       "    .dataframe tbody tr th {\n",
       "        vertical-align: top;\n",
       "    }\n",
       "\n",
       "    .dataframe thead th {\n",
       "        text-align: right;\n",
       "    }\n",
       "</style>\n",
       "<table border=\"1\" class=\"dataframe\">\n",
       "  <thead>\n",
       "    <tr style=\"text-align: right;\">\n",
       "      <th></th>\n",
       "      <th>0</th>\n",
       "      <th>1</th>\n",
       "      <th>2</th>\n",
       "      <th>3</th>\n",
       "      <th>4</th>\n",
       "      <th>5</th>\n",
       "      <th>6</th>\n",
       "      <th>7</th>\n",
       "    </tr>\n",
       "  </thead>\n",
       "  <tbody>\n",
       "    <tr>\n",
       "      <th>0</th>\n",
       "      <td>RG</td>\n",
       "      <td>Alice</td>\n",
       "      <td>S1</td>\n",
       "      <td>384015</td>\n",
       "      <td>429504</td>\n",
       "      <td>45490</td>\n",
       "      <td>182</td>\n",
       "      <td>48.4</td>\n",
       "    </tr>\n",
       "    <tr>\n",
       "      <th>1</th>\n",
       "      <td>RG</td>\n",
       "      <td>Alice</td>\n",
       "      <td>S1</td>\n",
       "      <td>820118</td>\n",
       "      <td>864314</td>\n",
       "      <td>44197</td>\n",
       "      <td>173</td>\n",
       "      <td>13.6</td>\n",
       "    </tr>\n",
       "    <tr>\n",
       "      <th>2</th>\n",
       "      <td>RG</td>\n",
       "      <td>Alice</td>\n",
       "      <td>S1</td>\n",
       "      <td>1203503</td>\n",
       "      <td>1222181</td>\n",
       "      <td>18679</td>\n",
       "      <td>99</td>\n",
       "      <td>60.1</td>\n",
       "    </tr>\n",
       "    <tr>\n",
       "      <th>3</th>\n",
       "      <td>RG</td>\n",
       "      <td>Alice</td>\n",
       "      <td>S1</td>\n",
       "      <td>1228034</td>\n",
       "      <td>1230235</td>\n",
       "      <td>2202</td>\n",
       "      <td>37</td>\n",
       "      <td>30.4</td>\n",
       "    </tr>\n",
       "    <tr>\n",
       "      <th>4</th>\n",
       "      <td>RG</td>\n",
       "      <td>Alice</td>\n",
       "      <td>S1</td>\n",
       "      <td>1267444</td>\n",
       "      <td>1289236</td>\n",
       "      <td>21793</td>\n",
       "      <td>108</td>\n",
       "      <td>19.8</td>\n",
       "    </tr>\n",
       "  </tbody>\n",
       "</table>\n",
       "</div>"
      ],
      "text/plain": [
       "    0      1   2        3        4      5    6     7\n",
       "0  RG  Alice  S1   384015   429504  45490  182  48.4\n",
       "1  RG  Alice  S1   820118   864314  44197  173  13.6\n",
       "2  RG  Alice  S1  1203503  1222181  18679   99  60.1\n",
       "3  RG  Alice  S1  1228034  1230235   2202   37  30.4\n",
       "4  RG  Alice  S1  1267444  1289236  21793  108  19.8"
      ]
     },
     "execution_count": 6,
     "metadata": {},
     "output_type": "execute_result"
    }
   ],
   "source": [
    "roh_data = pd.read_csv(\"data/bcftoolsroh_founders\", sep=\"\\t\", header=None, skiprows=4)\n",
    "roh_data.head()"
   ]
  },
  {
   "cell_type": "code",
   "execution_count": 7,
   "metadata": {},
   "outputs": [],
   "source": [
    "roh = defaultdict(int)\n",
    "\n",
    "for j,row in roh_data.iterrows():\n",
    "    roh[(row[2], row[3], row[4])] += 1"
   ]
  },
  {
   "cell_type": "code",
   "execution_count": 8,
   "metadata": {},
   "outputs": [
    {
     "data": {
      "text/plain": [
       "('S1', 8271182, 8367641)"
      ]
     },
     "execution_count": 8,
     "metadata": {},
     "output_type": "execute_result"
    }
   ],
   "source": [
    "list(roh.keys())[15]"
   ]
  },
  {
   "cell_type": "code",
   "execution_count": 22,
   "metadata": {},
   "outputs": [],
   "source": [
    "with open(\"founders_roh.heatmap\", \"w\") as writer:\n",
    "    for j, group in itertools.groupby(roh, lambda x: x[0]):\n",
    "        roh_count = Counter()\n",
    "        roh_positions = np.concatenate((*map(lambda x: np.arange(x[1], x[2]), group),))\n",
    "        counts = Counter(roh_positions)\n",
    "\n",
    "        intervals = defaultdict(int)\n",
    "\n",
    "        istart = list(counts.keys())[0]\n",
    "        iend = istart\n",
    "        qty = list(counts.values())[0]\n",
    "\n",
    "        for k in counts:\n",
    "            v = counts[k]\n",
    "            if k - iend > 1 or v != qty:\n",
    "                intervals[(istart, iend)] = qty\n",
    "                istart = k\n",
    "                iend = k\n",
    "                qty = v\n",
    "            else:\n",
    "                iend = k\n",
    "\n",
    "        # And the final one...\n",
    "        intervals[(istart, iend)] = qty\n",
    "\n",
    "        for k,v in intervals.items():\n",
    "            writer.write(\"\\t\".join(map(str, [j, k[0], k[1], v])))\n",
    "            writer.write(\"\\n\")\n"
   ]
  },
  {
   "cell_type": "code",
   "execution_count": 10,
   "metadata": {},
   "outputs": [
    {
     "data": {
      "text/plain": [
       "array([  377,   378,   379, ..., 25529, 25530, 25531])"
      ]
     },
     "execution_count": 10,
     "metadata": {},
     "output_type": "execute_result"
    }
   ],
   "source": [
    "roh_positions"
   ]
  },
  {
   "cell_type": "code",
   "execution_count": 17,
   "metadata": {},
   "outputs": [],
   "source": [
    "counts = Counter(roh_positions)"
   ]
  },
  {
   "cell_type": "code",
   "execution_count": null,
   "metadata": {},
   "outputs": [],
   "source": []
  },
  {
   "cell_type": "markdown",
   "metadata": {},
   "source": [
    "intervals = defaultdict(int)\n",
    "\n",
    "istart = list(counts.keys())[0]\n",
    "iend = istart\n",
    "qty = list(counts.values())[0]\n",
    "\n",
    "for k in counts:\n",
    "    v = counts[k]\n",
    "    if k - iend > 1 or v != qty:\n",
    "        intervals[(istart, iend)] = qty\n",
    "        istart = k\n",
    "        iend = k\n",
    "        qty = v\n",
    "    else:\n",
    "        iend = k\n",
    "\n",
    "# And the final one...\n",
    "intervals[(istart, iend)] = qty"
   ]
  },
  {
   "cell_type": "code",
   "execution_count": 19,
   "metadata": {},
   "outputs": [],
   "source": [
    "with open(\"founders_roh.heatmap\", \"w\") as writer:\n",
    "    for k,v in intervals.items():\n",
    "        writer.write(\"\\t\".join(map(str, [\"S1\", k[0], k[1], v])))\n",
    "        writer.write(\"\\n\")\n"
   ]
  },
  {
   "cell_type": "code",
   "execution_count": null,
   "metadata": {},
   "outputs": [],
   "source": [
    "np.max(list(intervals.values()))"
   ]
  },
  {
   "cell_type": "code",
   "execution_count": null,
   "metadata": {},
   "outputs": [],
   "source": [
    "roh_data = pd.read_csv(\"data/bcftoolsroh_offspring\", sep=\"\\t\", header=None, skiprows=4)\n",
    "roh_data.head()\n",
    "roh = defaultdict(int)\n",
    "\n",
    "for j,row in roh_data.iterrows():\n",
    "    roh[(row[2], row[3], row[4])] += 1"
   ]
  },
  {
   "cell_type": "code",
   "execution_count": null,
   "metadata": {},
   "outputs": [],
   "source": [
    "with open(\"offspring_roh.heatmap\", \"w\") as writer:\n",
    "    for j, group in itertools.groupby(roh, lambda x: x[0]):\n",
    "        roh_count = Counter()\n",
    "        roh_positions = np.concatenate((*map(lambda x: np.arange(x[1], x[2]), group),))\n",
    "        counts = Counter(roh_positions)\n",
    "\n",
    "        intervals = defaultdict(int)\n",
    "\n",
    "        istart = list(counts.keys())[0]\n",
    "        iend = istart\n",
    "        qty = list(counts.values())[0]\n",
    "\n",
    "        for k in counts:\n",
    "            v = counts[k]\n",
    "            if k - iend > 1 or v != qty:\n",
    "                intervals[(istart, iend)] = qty\n",
    "                istart = k\n",
    "                iend = k\n",
    "                qty = v\n",
    "            else:\n",
    "                iend = k\n",
    "\n",
    "        # And the final one...\n",
    "        intervals[(istart, iend)] = qty\n",
    "\n",
    "        for k,v in intervals.items():\n",
    "            writer.write(\"\\t\".join(map(str, [j, k[0], k[1], v])))\n",
    "            writer.write(\"\\n\")\n",
    "\n"
   ]
  },
  {
   "cell_type": "markdown",
   "metadata": {},
   "source": [
    "counts = Counter(roh_positions)\n",
    "intervals = defaultdict(int)\n",
    "\n",
    "istart = list(counts.keys())[0]\n",
    "iend = istart\n",
    "qty = list(counts.values())[0]\n",
    "\n",
    "for k in counts:\n",
    "    v = counts[k]\n",
    "    if k - iend > 1 or v != qty:\n",
    "        intervals[(istart, iend)] = qty\n",
    "        istart = k\n",
    "        iend = k\n",
    "        qty = v\n",
    "    else:\n",
    "        iend = k\n",
    "\n",
    "# And the final one...\n",
    "intervals[(istart, iend)] = qty\n",
    "\n",
    "with open(\"offspring_roh.heatmap\", \"w\") as writer:\n",
    "    for k,v in intervals.items():\n",
    "        writer.write(\"\\t\".join(map(str, [\"S1\", k[0], k[1], v])))\n",
    "        writer.write(\"\\n\")\n"
   ]
  },
  {
   "cell_type": "code",
   "execution_count": null,
   "metadata": {},
   "outputs": [],
   "source": []
  }
 ],
 "metadata": {
  "kernelspec": {
   "display_name": "Python 3",
   "language": "python",
   "name": "python3"
  },
  "language_info": {
   "codemirror_mode": {
    "name": "ipython",
    "version": 3
   },
   "file_extension": ".py",
   "mimetype": "text/x-python",
   "name": "python",
   "nbconvert_exporter": "python",
   "pygments_lexer": "ipython3",
   "version": "3.8.10"
  }
 },
 "nbformat": 4,
 "nbformat_minor": 4
}
