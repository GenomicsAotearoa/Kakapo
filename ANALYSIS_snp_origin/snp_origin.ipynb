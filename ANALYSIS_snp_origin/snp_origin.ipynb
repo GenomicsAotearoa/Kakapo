{
 "cells": [
  {
   "cell_type": "markdown",
   "metadata": {},
   "source": [
    "# Where to kākāpō SNVs come from?\n",
    "\n",
    "All living kāĸāpō descent from two populations, Stewart Island and a single male (Richard Henry) from Fiordland, South Island. In this analyse we ask for each polymorphic sitee, where did the polymorphism  come from? ie. a minor allele exists at this site (because it is polymorphic), so did the minor allele come from teh Stewart Island foudners, Richard Henry, both of these sources or does it appear to be a _de novo_ mutation within the pedigree?\n",
    "\n",
    "We can approach this question using the filtered pop gen SNPs and a map assigning individuals to an origin. There are 35 founders from Stewart Island with at leat one chick, 123 descendant birds and our single Fiordland representative"
   ]
  },
  {
   "cell_type": "code",
   "execution_count": 1,
   "metadata": {},
   "outputs": [
    {
     "data": {
      "text/plain": [
       "Counter({'SI': 35, 'SI_noSI': 12, 'descendant': 123, 'fiordland': 1})"
      ]
     },
     "execution_count": 1,
     "metadata": {},
     "output_type": "execute_result"
    }
   ],
   "source": [
    "from collections import Counter\n",
    "population_map = { bird:pop for bird,pop in ( line.split() for line in open(\"pops.tsv\").readlines() )}\n",
    "Counter(population_map.values())"
   ]
  },
  {
   "cell_type": "markdown",
   "metadata": {},
   "source": [
    "Now we can make the filtered SNP set and read them into to pyVCF. \n",
    "\n",
    "The header gets a little munted in the bcf -> vcf conversion, and grepping on \"#\" seems to cut off some sample names. Use this code to create a header to edit in a few lines in text editors so pyVCF can parse it:\n",
    "\n",
    "```py\n",
    "with open(\"header\",\"w\") as out:\n",
    "    for f in open(\"vars/filtered.recode.vcf\"):\n",
    "        if not f.startswith(\"#\"):\n",
    "            break\n",
    "        out.write(f)\n",
    "```\n",
    "\n",
    "Then some shell to stich it back together\n",
    "\n",
    "```sh\n",
    "cat header <(grep -v \"#\" vars/filtered.recode.vcf ) |  gzip > vars/filt_snps.vcf.gz\n",
    "rm vars/filtered.recode.vcf\n",
    "```\n",
    "\n",
    "**RUNNING THE NEXT CELL TAKES ~10 MINUTES ON MY DESKTOP**"
   ]
  },
  {
   "cell_type": "code",
   "execution_count": 2,
   "metadata": {},
   "outputs": [
    {
     "name": "stdout",
     "output_type": "stream",
     "text": [
      "\r\n",
      "VCFtools - 0.1.15\r\n",
      "(C) Adam Auton and Anthony Marcketta 2009\r\n",
      "\r\n",
      "Parameters as interpreted:\r\n",
      "\t--bcf ../../vars/Trained.bcf\r\n",
      "\t--max-alleles 2\r\n",
      "\t--hwe 0.001\r\n",
      "\t--minQ 80\r\n",
      "\t--max-missing 0.4\r\n",
      "\t--out vars/filtered\r\n",
      "\t--recode\r\n",
      "\t--remove-indels\r\n",
      "\r\n",
      "Error: Could not open VCF file: ../../vars/Trained.bcf\r\n"
     ]
    }
   ],
   "source": [
    "! mkdir -p vars\n",
    "! vcftools --bcf ../../vars/Trained.bcf --minQ 80 --hwe 0.001 --max-alleles 2 --max-missing .4  --remove-indels --recode --out vars/filtered"
   ]
  },
  {
   "cell_type": "code",
   "execution_count": 3,
   "metadata": {},
   "outputs": [],
   "source": [
    "import vcf \n",
    "import gzip\n",
    "from collections import defaultdict\n",
    "from collections import Counter\n",
    "\n",
    "recs = vcf.Reader(open(\"vars/filt_snps.vcf.gz\", mode=\"rb\"), compressed=True)\n",
    "#tiny sample of the vcf to test everything works\n",
    "recs = [next(recs) for _ in range(1000)]"
   ]
  },
  {
   "cell_type": "markdown",
   "metadata": {},
   "source": [
    "Now we have the SNPs are ready to parse, we define a functions to assign each site to an origin. In short,  we firtst determine whether the reference or non-reference allele is the minor allele at this site. We then count the number of minor alleles coming birds of each possible catgory. The function `counts_to_cat` takes this information as input as assigns those counts to a catergorisation. There are a number of tests cases run below to confirm the this functions works as intended."
   ]
  },
  {
   "cell_type": "code",
   "execution_count": 4,
   "metadata": {},
   "outputs": [],
   "source": [
    "\n",
    "def count_minor(sample, minor=\"1\"):\n",
    "    \"Count the number of minor alleles in a vcf sample\"\n",
    "    return(sample.gt_alleles.count(minor))\n",
    "\n",
    "def counts_to_cat(count_dict):\n",
    "    \"Assign a count-dictionary to an SNP-origin category\"\n",
    "    if count_dict[\"SI\"] > 0:\n",
    "        if count_dict[\"fiordland\"] > 0:\n",
    "            return(\"Both\")\n",
    "        else:\n",
    "            return(\"SI\")\n",
    "    #not a SI origin\n",
    "    if count_dict[\"fiordland\"] > 0:\n",
    "        if count_dict[\"descendant\"] > 10:\n",
    "            return(\"fiordland_dodgy\")\n",
    "        else:\n",
    "            return(\"fiordland\")\n",
    "    return(\"de novo\")\n",
    "    \n",
    "\n",
    "def assign_allele(site, pop_map):\n",
    "    \"\"\"Assign a given site to an origin category \"\"\"\n",
    "    minor = \"0\" if site.aaf[0] > 0.5 else \"1\"\n",
    "    pop_counts = defaultdict(int)\n",
    "    for s in site.samples:\n",
    "        pop_counts[ population_map[s.sample] ] += count_minor(s, minor)\n",
    "    return(counts_to_cat(pop_counts))\n",
    "    "
   ]
  },
  {
   "cell_type": "code",
   "execution_count": 5,
   "metadata": {},
   "outputs": [],
   "source": [
    "fiordland = {'SI': 0, 'SI_no_rep': 0, 'descendant': 2, 'fiordland': 1}\n",
    "both = {'SI': 1, 'SI_no_rep': 0, 'descendant': 2, 'fiordland': 1}\n",
    "SI = {'SI': 1, 'SI_no_rep': 0, 'descendant': 2, 'fiordland': 0}\n",
    "dodgy_fiordland = {'SI': 0, 'SI_no_rep': 0, 'descendant': 12, 'fiordland': 1}\n",
    "good_denovo = {'SI': 0, 'SI_no_rep': 0, 'descendant': 2, 'fiordland': 0}\n",
    "\n"
   ]
  },
  {
   "cell_type": "code",
   "execution_count": 6,
   "metadata": {},
   "outputs": [
    {
     "name": "stdout",
     "output_type": "stream",
     "text": [
      "fiordland\n",
      "Both\n",
      "SI\n",
      "fiordland_dodgy\n",
      "de novo\n"
     ]
    }
   ],
   "source": [
    "print( counts_to_cat(fiordland) )\n",
    "print( counts_to_cat(both) )\n",
    "print( counts_to_cat(SI) )\n",
    "print( counts_to_cat(dodgy_fiordland) )\n",
    "print( counts_to_cat(good_denovo) )"
   ]
  },
  {
   "cell_type": "markdown",
   "metadata": {},
   "source": [
    "With the functions in hand, it's just a matter of running them on every site:\n",
    "\n",
    "**RUNNING THE FOLLOWING CELL TAKES A LOOOONG TIME. COULD EASILY BE PARALELLISED IF WE REPETA THIS OFTEN**"
   ]
  },
  {
   "cell_type": "code",
   "execution_count": 7,
   "metadata": {},
   "outputs": [],
   "source": [
    "all_types = Counter( (assign_allele(site, population_map) for site in recs) )\n"
   ]
  },
  {
   "cell_type": "code",
   "execution_count": 8,
   "metadata": {},
   "outputs": [
    {
     "data": {
      "text/plain": [
       "Counter({'Both': 328, 'SI': 226, 'de novo': 15, 'fiordland': 431})"
      ]
     },
     "execution_count": 8,
     "metadata": {},
     "output_type": "execute_result"
    }
   ],
   "source": [
    "all_types"
   ]
  },
  {
   "cell_type": "code",
   "execution_count": 9,
   "metadata": {},
   "outputs": [
    {
     "name": "stdout",
     "output_type": "stream",
     "text": [
      "fiordland 0.431\n",
      "Both 0.328\n",
      "de novo 0.015\n",
      "SI 0.226\n"
     ]
    }
   ],
   "source": [
    "n = sum(all_types.values())\n",
    "for k,v in all_types.items():\n",
    "    print(k, v/n)"
   ]
  },
  {
   "cell_type": "code",
   "execution_count": 10,
   "metadata": {},
   "outputs": [],
   "source": [
    "with open(\"snp_origin.tsv\", \"w\") as out:\n",
    "    for k,v in all_types.items():\n",
    "        out.write(\"{}\\t{}\\n\".format(k,v))\n"
   ]
  },
  {
   "cell_type": "code",
   "execution_count": null,
   "metadata": {},
   "outputs": [],
   "source": []
  },
  {
   "cell_type": "code",
   "execution_count": null,
   "metadata": {},
   "outputs": [],
   "source": []
  },
  {
   "cell_type": "code",
   "execution_count": null,
   "metadata": {},
   "outputs": [],
   "source": []
  },
  {
   "cell_type": "code",
   "execution_count": null,
   "metadata": {},
   "outputs": [],
   "source": []
  },
  {
   "cell_type": "code",
   "execution_count": null,
   "metadata": {},
   "outputs": [],
   "source": []
  },
  {
   "cell_type": "code",
   "execution_count": null,
   "metadata": {},
   "outputs": [],
   "source": []
  },
  {
   "cell_type": "code",
   "execution_count": null,
   "metadata": {},
   "outputs": [],
   "source": []
  },
  {
   "cell_type": "code",
   "execution_count": null,
   "metadata": {},
   "outputs": [],
   "source": []
  },
  {
   "cell_type": "code",
   "execution_count": null,
   "metadata": {},
   "outputs": [],
   "source": []
  },
  {
   "cell_type": "code",
   "execution_count": null,
   "metadata": {},
   "outputs": [],
   "source": []
  },
  {
   "cell_type": "code",
   "execution_count": null,
   "metadata": {},
   "outputs": [],
   "source": []
  },
  {
   "cell_type": "code",
   "execution_count": null,
   "metadata": {},
   "outputs": [],
   "source": []
  }
 ],
 "metadata": {
  "kernelspec": {
   "display_name": "Python 3",
   "language": "python",
   "name": "python3"
  },
  "language_info": {
   "codemirror_mode": {
    "name": "ipython",
    "version": 3
   },
   "file_extension": ".py",
   "mimetype": "text/x-python",
   "name": "python",
   "nbconvert_exporter": "python",
   "pygments_lexer": "ipython3",
   "version": "3.6.9"
  }
 },
 "nbformat": 4,
 "nbformat_minor": 2
}
