{
 "cells": [
  {
   "cell_type": "code",
   "execution_count": 1,
   "id": "112b7c54-4743-44df-875b-e8358922adac",
   "metadata": {
    "tags": []
   },
   "outputs": [],
   "source": [
    "import polars as pl\n",
    "import pandas as pd\n",
    "import re\n",
    "import numpy as np\n",
    "from collections import defaultdict\n",
    "import portion as P\n",
    "import re"
   ]
  },
  {
   "cell_type": "code",
   "execution_count": 2,
   "id": "9d6ea344-afaa-4cd8-953e-6f6c53443eed",
   "metadata": {
    "tags": []
   },
   "outputs": [
    {
     "data": {
      "text/html": [
       "<div><style>\n",
       ".dataframe > thead > tr > th,\n",
       ".dataframe > tbody > tr > td {\n",
       "  text-align: right;\n",
       "}\n",
       "</style>\n",
       "<small>shape: (5, 7)</small><table border=\"1\" class=\"dataframe\"><thead><tr><th>Landmark</th><th>Source</th><th>Type</th><th>Start</th><th>End</th><th>Strand</th><th>Attributes</th></tr><tr><td>str</td><td>str</td><td>str</td><td>i64</td><td>i64</td><td>str</td><td>str</td></tr></thead><tbody><tr><td>&quot;S1&quot;</td><td>&quot;Gnomon&quot;</td><td>&quot;gene&quot;</td><td>25222</td><td>29472</td><td>&quot;+&quot;</td><td>&quot;ID=gene-LOC115...</td></tr><tr><td>&quot;S1&quot;</td><td>&quot;Gnomon&quot;</td><td>&quot;gene&quot;</td><td>32484</td><td>39309</td><td>&quot;+&quot;</td><td>&quot;ID=gene-CCDC16...</td></tr><tr><td>&quot;S1&quot;</td><td>&quot;Gnomon&quot;</td><td>&quot;gene&quot;</td><td>41685</td><td>71311</td><td>&quot;+&quot;</td><td>&quot;ID=gene-MAPK15...</td></tr><tr><td>&quot;S1&quot;</td><td>&quot;Gnomon&quot;</td><td>&quot;gene&quot;</td><td>65399</td><td>90205</td><td>&quot;-&quot;</td><td>&quot;ID=gene-FAM83H...</td></tr><tr><td>&quot;S1&quot;</td><td>&quot;Gnomon&quot;</td><td>&quot;gene&quot;</td><td>110408</td><td>211712</td><td>&quot;-&quot;</td><td>&quot;ID=gene-SCRIB;...</td></tr></tbody></table></div>"
      ],
      "text/plain": [
       "shape: (5, 7)\n",
       "┌──────────┬────────┬──────┬────────┬────────┬────────┬───────────────────────────────────┐\n",
       "│ Landmark ┆ Source ┆ Type ┆ Start  ┆ End    ┆ Strand ┆ Attributes                        │\n",
       "│ ---      ┆ ---    ┆ ---  ┆ ---    ┆ ---    ┆ ---    ┆ ---                               │\n",
       "│ str      ┆ str    ┆ str  ┆ i64    ┆ i64    ┆ str    ┆ str                               │\n",
       "╞══════════╪════════╪══════╪════════╪════════╪════════╪═══════════════════════════════════╡\n",
       "│ S1       ┆ Gnomon ┆ gene ┆ 25222  ┆ 29472  ┆ +      ┆ ID=gene-LOC115603991;Dbxref=Gene… │\n",
       "│ S1       ┆ Gnomon ┆ gene ┆ 32484  ┆ 39309  ┆ +      ┆ ID=gene-CCDC166;Dbxref=GeneID:11… │\n",
       "│ S1       ┆ Gnomon ┆ gene ┆ 41685  ┆ 71311  ┆ +      ┆ ID=gene-MAPK15;Dbxref=GeneID:115… │\n",
       "│ S1       ┆ Gnomon ┆ gene ┆ 65399  ┆ 90205  ┆ -      ┆ ID=gene-FAM83H;Dbxref=GeneID:115… │\n",
       "│ S1       ┆ Gnomon ┆ gene ┆ 110408 ┆ 211712 ┆ -      ┆ ID=gene-SCRIB;Dbxref=GeneID:1156… │\n",
       "└──────────┴────────┴──────┴────────┴────────┴────────┴───────────────────────────────────┘"
      ]
     },
     "execution_count": 2,
     "metadata": {},
     "output_type": "execute_result"
    }
   ],
   "source": [
    "gff3_columns = [\"Landmark\", \"Source\", \"Type\", \"Start\", \"End\", \"Strand\", \"Attributes\"]\n",
    "\n",
    "gff3 = pl.read_csv(\"cleaned.gff3\", comment_char = \"#\", separator=\"\\t\", has_header=False, new_columns=gff3_columns, columns=[0, 1, 2, 3, 4, 6, 8])\n",
    "genes = gff3.filter(pl.col(\"Type\") == \"gene\")\n",
    "cds = gff3.filter(pl.col(\"Type\") == \"CDS\")\n",
    "\n",
    "# Get the gene ID\n",
    "matcher = re.compile(r'GeneID:([\\d]+)[,;]')\n",
    "\n",
    "genes.head()"
   ]
  },
  {
   "cell_type": "code",
   "execution_count": 3,
   "id": "01b7d23a-1542-40da-8d72-06d90c2d8b3b",
   "metadata": {
    "tags": []
   },
   "outputs": [
    {
     "data": {
      "text/html": [
       "<div><style>\n",
       ".dataframe > thead > tr > th,\n",
       ".dataframe > tbody > tr > td {\n",
       "  text-align: right;\n",
       "}\n",
       "</style>\n",
       "<small>shape: (5, 8)</small><table border=\"1\" class=\"dataframe\"><thead><tr><th>Landmark</th><th>Source</th><th>Type</th><th>Start</th><th>End</th><th>Strand</th><th>Attributes</th><th>ID</th></tr><tr><td>str</td><td>str</td><td>str</td><td>i64</td><td>i64</td><td>str</td><td>str</td><td>str</td></tr></thead><tbody><tr><td>&quot;S1&quot;</td><td>&quot;Gnomon&quot;</td><td>&quot;gene&quot;</td><td>25222</td><td>29472</td><td>&quot;+&quot;</td><td>&quot;ID=gene-LOC115...</td><td>&quot;115603991&quot;</td></tr><tr><td>&quot;S1&quot;</td><td>&quot;Gnomon&quot;</td><td>&quot;gene&quot;</td><td>32484</td><td>39309</td><td>&quot;+&quot;</td><td>&quot;ID=gene-CCDC16...</td><td>&quot;115603988&quot;</td></tr><tr><td>&quot;S1&quot;</td><td>&quot;Gnomon&quot;</td><td>&quot;gene&quot;</td><td>41685</td><td>71311</td><td>&quot;+&quot;</td><td>&quot;ID=gene-MAPK15...</td><td>&quot;115603977&quot;</td></tr><tr><td>&quot;S1&quot;</td><td>&quot;Gnomon&quot;</td><td>&quot;gene&quot;</td><td>65399</td><td>90205</td><td>&quot;-&quot;</td><td>&quot;ID=gene-FAM83H...</td><td>&quot;115603962&quot;</td></tr><tr><td>&quot;S1&quot;</td><td>&quot;Gnomon&quot;</td><td>&quot;gene&quot;</td><td>110408</td><td>211712</td><td>&quot;-&quot;</td><td>&quot;ID=gene-SCRIB;...</td><td>&quot;115603994&quot;</td></tr></tbody></table></div>"
      ],
      "text/plain": [
       "shape: (5, 8)\n",
       "┌──────────┬────────┬──────┬────────┬────────┬────────┬────────────────────────────────┬───────────┐\n",
       "│ Landmark ┆ Source ┆ Type ┆ Start  ┆ End    ┆ Strand ┆ Attributes                     ┆ ID        │\n",
       "│ ---      ┆ ---    ┆ ---  ┆ ---    ┆ ---    ┆ ---    ┆ ---                            ┆ ---       │\n",
       "│ str      ┆ str    ┆ str  ┆ i64    ┆ i64    ┆ str    ┆ str                            ┆ str       │\n",
       "╞══════════╪════════╪══════╪════════╪════════╪════════╪════════════════════════════════╪═══════════╡\n",
       "│ S1       ┆ Gnomon ┆ gene ┆ 25222  ┆ 29472  ┆ +      ┆ ID=gene-LOC115603991;Dbxref=Ge ┆ 115603991 │\n",
       "│          ┆        ┆      ┆        ┆        ┆        ┆ ne…                            ┆           │\n",
       "│ S1       ┆ Gnomon ┆ gene ┆ 32484  ┆ 39309  ┆ +      ┆ ID=gene-CCDC166;Dbxref=GeneID: ┆ 115603988 │\n",
       "│          ┆        ┆      ┆        ┆        ┆        ┆ 11…                            ┆           │\n",
       "│ S1       ┆ Gnomon ┆ gene ┆ 41685  ┆ 71311  ┆ +      ┆ ID=gene-MAPK15;Dbxref=GeneID:1 ┆ 115603977 │\n",
       "│          ┆        ┆      ┆        ┆        ┆        ┆ 15…                            ┆           │\n",
       "│ S1       ┆ Gnomon ┆ gene ┆ 65399  ┆ 90205  ┆ -      ┆ ID=gene-FAM83H;Dbxref=GeneID:1 ┆ 115603962 │\n",
       "│          ┆        ┆      ┆        ┆        ┆        ┆ 15…                            ┆           │\n",
       "│ S1       ┆ Gnomon ┆ gene ┆ 110408 ┆ 211712 ┆ -      ┆ ID=gene-SCRIB;Dbxref=GeneID:11 ┆ 115603994 │\n",
       "│          ┆        ┆      ┆        ┆        ┆        ┆ 56…                            ┆           │\n",
       "└──────────┴────────┴──────┴────────┴────────┴────────┴────────────────────────────────┴───────────┘"
      ]
     },
     "execution_count": 3,
     "metadata": {},
     "output_type": "execute_result"
    }
   ],
   "source": [
    "# Add Gene ID as a separate column\n",
    "\n",
    "def extract(s):\n",
    "    match = matcher.search(s)\n",
    "    if match:\n",
    "        return match.group(1)\n",
    "    else:\n",
    "        return \"\"\n",
    "\n",
    "gene_ids = genes.apply(lambda r: extract(r[6]))\n",
    "genes = genes.with_columns([\n",
    "    (gene_ids[:, 0]).alias(\"ID\"),\n",
    "])\n",
    "genes.head()"
   ]
  },
  {
   "cell_type": "code",
   "execution_count": 14,
   "id": "9983f368-9c4f-455f-adff-599f2019396e",
   "metadata": {
    "tags": []
   },
   "outputs": [
    {
     "data": {
      "text/html": [
       "<div><style>\n",
       ".dataframe > thead > tr > th,\n",
       ".dataframe > tbody > tr > td {\n",
       "  text-align: right;\n",
       "}\n",
       "</style>\n",
       "<small>shape: (5, 2)</small><table border=\"1\" class=\"dataframe\"><thead><tr><th>ID</th><th>Name</th></tr><tr><td>str</td><td>str</td></tr></thead><tbody><tr><td>&quot;115603988&quot;</td><td>&quot;XP_030332433.1...</td></tr><tr><td>&quot;115603977&quot;</td><td>&quot;XP_030332421.1...</td></tr><tr><td>&quot;115603977&quot;</td><td>&quot;XP_030332421.1...</td></tr><tr><td>&quot;115603977&quot;</td><td>&quot;XP_030332421.1...</td></tr><tr><td>&quot;115603977&quot;</td><td>&quot;XP_030332421.1...</td></tr></tbody></table></div>"
      ],
      "text/plain": [
       "shape: (5, 2)\n",
       "┌───────────┬────────────────┐\n",
       "│ ID        ┆ Name           │\n",
       "│ ---       ┆ ---            │\n",
       "│ str       ┆ str            │\n",
       "╞═══════════╪════════════════╡\n",
       "│ 115603988 ┆ XP_030332433.1 │\n",
       "│ 115603977 ┆ XP_030332421.1 │\n",
       "│ 115603977 ┆ XP_030332421.1 │\n",
       "│ 115603977 ┆ XP_030332421.1 │\n",
       "│ 115603977 ┆ XP_030332421.1 │\n",
       "└───────────┴────────────────┘"
      ]
     },
     "execution_count": 14,
     "metadata": {},
     "output_type": "execute_result"
    }
   ],
   "source": [
    "matcher_name = re.compile(r'protein_id=(XP_[\\w\\d\\.]+)[,;\\s$]?')#[\\w\\d\\._]+)[,;\\$\\s]')\n",
    "\n",
    "def extract_names(s):\n",
    "    match = matcher_name.search(s)\n",
    "    if match:\n",
    "        return match.group(1)\n",
    "    else:\n",
    "        return \"\"\n",
    "\n",
    "cds_ids = cds.apply(lambda r: extract(r[6]))\n",
    "names = cds.apply(lambda r: extract_names(r[6]))\n",
    "\n",
    "cds = cds.with_columns([\n",
    "    (cds_ids[:, 0]).alias(\"ID\"),\n",
    "    (names[:, 0]).alias(\"Name\"),\n",
    "])\n",
    "cds.head()\n",
    "cds_map = cds.select((pl.col(\"ID\"), pl.col(\"Name\")))\n",
    "geneid_to_xp = {k: v for k, v in cds_map.iter_rows()}\n",
    "cds_map.head()"
   ]
  },
  {
   "cell_type": "markdown",
   "id": "a4538470-358a-4387-97d4-a70b44764218",
   "metadata": {},
   "source": [
    "# Load up MDS1 / MDS2 outlier regions from Local PCA Analysis\n",
    "See ../ANALYSIS_localpca"
   ]
  },
  {
   "cell_type": "code",
   "execution_count": 15,
   "id": "ce9c60eb-c9da-489b-b62d-8a74fffe42d5",
   "metadata": {
    "tags": []
   },
   "outputs": [],
   "source": [
    "mds1 = pl.read_csv(\"../ANALYSIS_localpca/mds1.highlight\", sep=\"\\t\", has_header=False, new_columns=[\"Landmark\", \"Start\", \"End\"])\n",
    "mds2 = pl.read_csv(\"../ANALYSIS_localpca/mds2.highlight\", sep=\"\\t\", has_header=False, new_columns=[\"Landmark\", \"Start\", \"End\"])"
   ]
  },
  {
   "cell_type": "markdown",
   "id": "7b2b6af0-7fe4-42ee-b680-9b4360453db2",
   "metadata": {},
   "source": [
    "# Process Gene Names for TASSEL Outputs"
   ]
  },
  {
   "cell_type": "code",
   "execution_count": 32,
   "id": "21eaa751-30d7-457f-bca2-b5b94917a872",
   "metadata": {
    "tags": []
   },
   "outputs": [],
   "source": [
    "gff = pd.read_csv(\n",
    "    \"/mnt/data/Kakapo/converted.sorted.gff3\", comment=\"#\", sep=\"\\t\", header=None\n",
    ")\n",
    "intervals = defaultdict(list)\n",
    "intervals_map = defaultdict(P.IntervalDict)\n",
    "\n",
    "#gene_name = re.compile(\"Name=(.+?);\")\n",
    "gene_name = re.compile(\"GeneID:(\\d+?);\")\n",
    "\n",
    "for n, row in gff.iterrows():\n",
    "    if row[2] == \"gene\":\n",
    "        matched = gene_name.findall(row[8])\n",
    "        if matched != None:\n",
    "            intervals_map[row[0]][P.open(row[3], row[4])] = matched[0]\n",
    "        else:\n",
    "            intervals_map[row[0]][P.open(row[3], row[4])] = \"__\""
   ]
  },
  {
   "cell_type": "code",
   "execution_count": 34,
   "id": "be78fa5e-a3d1-4408-8cc6-ba0213b80338",
   "metadata": {
    "tags": []
   },
   "outputs": [],
   "source": [
    "def test_in_gene(landmark, start, end):\n",
    "    interval = P.closed(start, end)\n",
    "    \n",
    "    for i in intervals_map[landmark]:\n",
    "        intersects = i.intersection(interval)\n",
    "        if len(intersects) > 0:\n",
    "            return intervals_map[landmark][intersects]\n",
    "#    if x[\"Pos\"] in intervals_map[x['Chr']]:\n",
    "#        return intervals_map[x['Chr']][x[\"Pos\"]]\n",
    "    return \"Intergenic\""
   ]
  },
  {
   "cell_type": "code",
   "execution_count": 55,
   "id": "739d6f13-398f-416b-b950-cbc5c5d60c65",
   "metadata": {
    "tags": []
   },
   "outputs": [],
   "source": [
    "mds_outliers = list()\n",
    "\n",
    "for landmark, start, end in mds1.iter_rows():\n",
    "    intersections = test_in_gene(landmark, start, end)\n",
    "    if intersections != \"Intergenic\":\n",
    "        geneid = intersections.values()[0]\n",
    "        if len(geneid) > 0 and geneid in geneid_to_xp:\n",
    "            mds_outliers.append(geneid_to_xp[geneid])"
   ]
  },
  {
   "cell_type": "code",
   "execution_count": 59,
   "id": "d1abb5fc-1c36-4399-bd26-10c798eea0c8",
   "metadata": {
    "tags": []
   },
   "outputs": [],
   "source": [
    "with open(\"mds1_outliers.txt\", \"w\") as fh:\n",
    "    for i in list(set(mds_outliers)):\n",
    "        fh.write(i)\n",
    "        fh.write(\"\\n\")"
   ]
  },
  {
   "cell_type": "code",
   "execution_count": 60,
   "id": "77698bb0-66e7-4447-b519-e8f56d477a5c",
   "metadata": {
    "tags": []
   },
   "outputs": [],
   "source": [
    "mds_outliers = list()\n",
    "\n",
    "for landmark, start, end in mds2.iter_rows():\n",
    "    intersections = test_in_gene(landmark, start, end)\n",
    "    if intersections != \"Intergenic\":\n",
    "        geneid = intersections.values()[0]\n",
    "        if len(geneid) > 0 and geneid in geneid_to_xp:\n",
    "            mds_outliers.append(geneid_to_xp[geneid])"
   ]
  },
  {
   "cell_type": "code",
   "execution_count": 61,
   "id": "d41f2edc-24e9-4296-bbd2-c0859ef8535d",
   "metadata": {
    "tags": []
   },
   "outputs": [],
   "source": [
    "with open(\"mds2_outliers.txt\", \"w\") as fh:\n",
    "    for i in list(set(mds_outliers)):\n",
    "        fh.write(i)\n",
    "        fh.write(\"\\n\")"
   ]
  },
  {
   "cell_type": "markdown",
   "id": "83b4640a-7ea4-4117-b6ef-4da2527a0daa",
   "metadata": {},
   "source": [
    "# Process TASSEL Outputs"
   ]
  },
  {
   "cell_type": "code",
   "execution_count": 176,
   "id": "ac73c2ba-ca85-411f-8a2d-150b2ca0941e",
   "metadata": {
    "tags": []
   },
   "outputs": [],
   "source": [
    "# file = \"gwas_p3d_off_11Oct/slow_crop_gwas_snps_filtered_minobs_60_minaf_0.02.hapmap_+_slow_crop_stats.txt\"\n",
    "# file = \"gwas_p3d_off_11Oct/clutch_size_gwas_snps_filtered_minobs_60_minaf_0.02.hapmap_+_clutch_size_stats.txt\"\n",
    "# file = \"gwas_p3d_off_11Oct/growth_curve_means_no_min_filter_no_mds_gwas_snps_filtered_minobs_60_minaf_0.02.hapmap_+_weights_stats.txt\"\n",
    "# file = \"gwas_p3d_off_11Oct/asp_offspring_pheno_gwas_snps_filtered_minobs_60_minaf_0.02.hapmap_+_asp_offspring_pheno_stats.txt\"\n",
    "# file = \"gwas_p3d_off_11Oct/asp_pheno_gwas_snps_filtered_minobs_60_minaf_0.02.hapmap_+_asp_pheno_stats.txt\"\n",
    "# file = \"gwas_p3d_off_11Oct/slow_crop_embedding_gwas_snps_filtered_minobs_60_minaf_0.02.hapmap_+_slow_crop_embedding_stats.txt\"\n",
    "# file = \"gwas_p3d_off_11Oct/surviving_embryos_gwas_snps_filtered_minobs_60_minaf_0.02.hapmap_+_FertileEggs_stats.txt\"\n",
    "# file = \"gwas_p3d_off_11Oct/surviving_embryos_gwas_snps_filtered_minobs_60_minaf_0.02.hapmap_+_surviving_embryos_stats.txt\"\n",
    "# file = \"gwas_p3d_off_11Oct/egg_shape_ratio_gwas_snps_filtered_minobs_60_minaf_0.02.hapmap_+_egg_shape_ratio_0centered_stats.txt\"\n",
    "\n",
    "# file = \"clo_gwas_p3d_off/cloacitis_offspring_pheno_filtered_+_cloacitis_offspring_pheno_stats.txt\"\n",
    "\n",
    "# file = \"gwas_p3d_off_31May2022/clutch_size_gwas_snps_filtered_minobs_60_minaf_0.02.hapmap_+_clutch_size_new_stats.txt\"\n",
    "#file = \"gwas_p3d_off_9JuneMay2022/clutch_size_gwas_snps_filtered_minobs_60_minaf_0.02.hapmap_+_clutch_size_new_randomonly_stats.txt\"\n",
    "\n",
    "# FINAL ANALYSES!!\n",
    "#file = \"/home/josephguhlin/development/kakapo-phenos/gwas_p3d_off_11Oct/egg_shape_ratio_gwas_snps_filtered_minobs_60_minaf_0.02.hapmap_+_egg_shape_ratio_0centered_stats.txt\"\n",
    "#phenotype = \"egg shape index\"\n",
    "\n",
    "#file = \"/home/josephguhlin/development/kakapo-phenos/gwas_p3d_off_5AugMay2022/clutch_size_gwas_snps_filtered_minobs_60_minaf_0.02.hapmap_+_clutch_size_new_randomonly_stats.txt\"\n",
    "#phenotype = \"clutch size\"\n",
    "\n",
    "#file = \"gwas_p3d_off_19Aug/growth_curve_gwas_snps_filtered_minobs_60_minaf_0.02.hapmap_+_weights_stats.txt\"\n",
    "file = \"/home/josephguhlin/development/kakapo-phenos/gwas_p3d_off_11Oct/growth_curve_means_no_min_filter_no_mds_gwas_snps_filtered_minobs_60_minaf_0.02.hapmap_+_weights_stats.txt\"\n",
    "phenotype = \"growth traits\"\n",
    "\n",
    "#file = \"/home/josephguhlin/development/kakapo-phenos/gwas_p3d_off_11Oct/fertile_eggs_gwas_snps_filtered_minobs_60_minaf_0.02.hapmap_+_FertileEggs_8Aug_stats.txt\"\n",
    "#phenotype = \"fertile eggs\"\n",
    "\n",
    "#file = \"/home/josephguhlin/development/kakapo-phenos/gwas_p3d_off_12Aug/asp_offspring_pheno_gwas_snps_filtered_minobs_60_minaf_0.02.hapmap_+_asp_pheno_stats.txt\"\n",
    "#phenotype = \"aspergillosis\"\n",
    "\n",
    "#file = \"/home/josephguhlin/development/kakapo-phenos/gwas_p3d_off_12Aug/surviving_embryos_gwas_snps_filtered_minobs_60_minaf_0.02.hapmap_+_surviving_embryos_new_stats.txt\"\n",
    "#phenotype = \"surviving embryos\"\n",
    "\n",
    "odata = pl.read_csv(file, sep=\"\\t\").to_pandas()\n",
    "data = odata"
   ]
  },
  {
   "cell_type": "code",
   "execution_count": 183,
   "id": "60a3b21d-07a9-4355-b23c-f360da138969",
   "metadata": {
    "tags": []
   },
   "outputs": [],
   "source": [
    "#data = odata[odata[\"Trait\"] == \"b1\"]\n",
    "#phenotype = \"Gompertz_b1\"\n",
    "\n",
    "data = odata[odata[\"Trait\"] == \"M\"]\n",
    "phenotype = \"Gompertz_M\"\n",
    "\n",
    "#data = odata[odata[\"Trait\"] == \"b0\"]\n",
    "#phenotype = \"Gompertz_b0\"\n",
    "\n",
    "#data = odata"
   ]
  },
  {
   "cell_type": "code",
   "execution_count": 184,
   "id": "3c290cfc-50a5-470f-a5ab-8605f60a4c58",
   "metadata": {
    "tags": []
   },
   "outputs": [
    {
     "name": "stderr",
     "output_type": "stream",
     "text": [
      "/tmp/ipykernel_742764/1605063820.py:1: SettingWithCopyWarning: \n",
      "A value is trying to be set on a copy of a slice from a DataFrame.\n",
      "Try using .loc[row_indexer,col_indexer] = value instead\n",
      "\n",
      "See the caveats in the documentation: https://pandas.pydata.org/pandas-docs/stable/user_guide/indexing.html#returning-a-view-versus-a-copy\n",
      "  data[\"-log10p\"] = -np.log10(data[\"p\"])\n",
      "/tmp/ipykernel_742764/1605063820.py:2: SettingWithCopyWarning: \n",
      "A value is trying to be set on a copy of a slice from a DataFrame.\n",
      "Try using .loc[row_indexer,col_indexer] = value instead\n",
      "\n",
      "See the caveats in the documentation: https://pandas.pydata.org/pandas-docs/stable/user_guide/indexing.html#returning-a-view-versus-a-copy\n",
      "  data[\"dom-log10p\"] = -np.log10(data[\"dom_p\"])\n"
     ]
    }
   ],
   "source": [
    "data[\"-log10p\"] = -np.log10(data[\"p\"])\n",
    "data[\"dom-log10p\"] = -np.log10(data[\"dom_p\"])\n",
    "data_filtered = data[data[\"-log10p\"] >= 3.0]\n",
    "data_filtered = data_filtered.sort_values(by=\"-log10p\", ascending=False)\n",
    "data_filtered[\"rank\"] = range(len(data_filtered))\n",
    "data_dom_filtered = data[data[\"dom-log10p\"] >= 3.0]"
   ]
  },
  {
   "cell_type": "code",
   "execution_count": 185,
   "id": "d8270b50-0e6f-4087-b997-2a7ea0a8bd5e",
   "metadata": {
    "tags": []
   },
   "outputs": [],
   "source": [
    "sorted_data = data_filtered.sort_values(\"-log10p\", ascending=False)[0:1000]\n",
    "sorted_data[\"gene\"] = sorted_data.apply(test_in_gene, axis=1)\n",
    "\n",
    "sorted_data = sorted_data[[\"rank\", \"gene\", \"Marker\", \"Chr\", \"Pos\", \"p\", \"add_effect\", \"add_p\", \"add_F\", \"dom_effect\", \"dom_p\", \"dom_F\", \"errordf\", \"MarkerR2\", \"Genetic Var\", \"Residual Var\", \"-2LnLikelihood\"]]\n",
    "# sorted_data.to_csv(\"{}_gwas_snps.csv\".format(phenotype), sep=\"\\t\", index=False)\n"
   ]
  },
  {
   "cell_type": "code",
   "execution_count": 186,
   "id": "e50bdcb5-aad7-4474-b79d-974beaaa77f8",
   "metadata": {
    "tags": []
   },
   "outputs": [],
   "source": [
    "#sorted_data[0:50]"
   ]
  },
  {
   "cell_type": "code",
   "execution_count": 187,
   "id": "c0b5decc-3dc8-4e90-b664-7c2a89eaa116",
   "metadata": {
    "tags": []
   },
   "outputs": [
    {
     "data": {
      "text/plain": [
       "124"
      ]
     },
     "execution_count": 187,
     "metadata": {},
     "output_type": "execute_result"
    }
   ],
   "source": [
    "top1k_genes = list()\n",
    "\n",
    "for n,row in sorted_data.iterrows():\n",
    "    if row['gene'] != 'Intergenic' and row['gene'] in geneid_to_xp:\n",
    "        top1k_genes.append(geneid_to_xp[row['gene']])\n",
    "        \n",
    "len(set(top1k_genes))"
   ]
  },
  {
   "cell_type": "code",
   "execution_count": 188,
   "id": "51b4b0f6-655c-4a58-8bf2-207f118422e1",
   "metadata": {
    "tags": []
   },
   "outputs": [
    {
     "data": {
      "text/plain": [
       "'Gompertz_M'"
      ]
     },
     "execution_count": 188,
     "metadata": {},
     "output_type": "execute_result"
    }
   ],
   "source": [
    "with open(\"{}_1ksnps.txt\".format(phenotype), \"w\") as fh:\n",
    "    for i in list(set(top1k_genes)):\n",
    "        fh.write(i)\n",
    "        fh.write(\"\\n\")\n",
    "phenotype"
   ]
  },
  {
   "cell_type": "code",
   "execution_count": 189,
   "id": "3814128f-621f-4e3c-afdc-b94e9de3853b",
   "metadata": {
    "tags": []
   },
   "outputs": [],
   "source": [
    "# data_dom_filtered[data_dom_filtered['Chr'] == 'S8'].sort_values(\"dom-log10p\")[-20:]\n",
    "#data_filtered[data_filtered[\"Chr\"] == \"S20\"].sort_values(\"-log10p\")[-50:]\n",
    "#v = data_filtered.sort_values(\"-log10p\", ascending=False)\n",
    "#v[\"gene\"] = v.apply(test_in_gene, axis=1)\n",
    "#v[[\"rank\", \"gene\", \"Marker\", \"Chr\", \"Pos\", \"p\", \"add_effect\", \"add_p\", \"dom_effect\", \"dom_p\",]]"
   ]
  },
  {
   "cell_type": "code",
   "execution_count": 175,
   "id": "99c087d7-1ec1-4d76-b2d5-6086fe0392ab",
   "metadata": {
    "tags": []
   },
   "outputs": [
    {
     "data": {
      "text/plain": [
       "'XP_030359938.1'"
      ]
     },
     "execution_count": 175,
     "metadata": {},
     "output_type": "execute_result"
    }
   ],
   "source": [
    "geneid_to_xp['115615659']"
   ]
  },
  {
   "cell_type": "code",
   "execution_count": null,
   "id": "2a030437-8d9a-44aa-93b2-3163611a662c",
   "metadata": {},
   "outputs": [],
   "source": []
  }
 ],
 "metadata": {
  "kernelspec": {
   "display_name": "Python 3 (ipykernel)",
   "language": "python",
   "name": "python3"
  },
  "language_info": {
   "codemirror_mode": {
    "name": "ipython",
    "version": 3
   },
   "file_extension": ".py",
   "mimetype": "text/x-python",
   "name": "python",
   "nbconvert_exporter": "python",
   "pygments_lexer": "ipython3",
   "version": "3.9.16"
  }
 },
 "nbformat": 4,
 "nbformat_minor": 5
}
