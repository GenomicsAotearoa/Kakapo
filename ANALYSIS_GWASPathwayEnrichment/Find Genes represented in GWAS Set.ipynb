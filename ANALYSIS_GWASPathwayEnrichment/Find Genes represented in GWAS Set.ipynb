{
 "cells": [
  {
   "cell_type": "code",
   "execution_count": 1,
   "id": "0a320c01-1598-4306-a3e3-3d45dc57257f",
   "metadata": {
    "tags": []
   },
   "outputs": [],
   "source": [
    "import polars as pl\n",
    "import pandas as pd\n",
    "import re"
   ]
  },
  {
   "cell_type": "code",
   "execution_count": null,
   "id": "263cf44c-e988-4391-8b50-4682824c84b5",
   "metadata": {
    "tags": []
   },
   "outputs": [],
   "source": [
    "# We expect all genes to be represented in the GWAS Set, but here we double check to be sure"
   ]
  },
  {
   "cell_type": "code",
   "execution_count": 190,
   "id": "c52a340b-06ce-453d-9fc9-1bce721836f0",
   "metadata": {
    "tags": []
   },
   "outputs": [],
   "source": [
    "# Cleaned GFF3 from: ../ANALYSIS_SnpEff/ANALYSIS_SnpEff/updatedAnnotation/Clean_GCF_004027225.2_bStrHab1.2.pri_genomic.gff.gz\n",
    "# Version: GCF_004027225.2_bStrHab1.2"
   ]
  },
  {
   "cell_type": "code",
   "execution_count": 191,
   "id": "d93a1914-8560-41b3-8bb9-ff06bab46f0e",
   "metadata": {
    "tags": []
   },
   "outputs": [
    {
     "data": {
      "text/html": [
       "<div><style>\n",
       ".dataframe > thead > tr > th,\n",
       ".dataframe > tbody > tr > td {\n",
       "  text-align: right;\n",
       "}\n",
       "</style>\n",
       "<small>shape: (5, 7)</small><table border=\"1\" class=\"dataframe\"><thead><tr><th>Landmark</th><th>Source</th><th>Type</th><th>Start</th><th>End</th><th>Strand</th><th>Attributes</th></tr><tr><td>str</td><td>str</td><td>str</td><td>i64</td><td>i64</td><td>str</td><td>str</td></tr></thead><tbody><tr><td>&quot;S1&quot;</td><td>&quot;Gnomon&quot;</td><td>&quot;gene&quot;</td><td>25222</td><td>29472</td><td>&quot;+&quot;</td><td>&quot;ID=gene-LOC115...</td></tr><tr><td>&quot;S1&quot;</td><td>&quot;Gnomon&quot;</td><td>&quot;gene&quot;</td><td>32484</td><td>39309</td><td>&quot;+&quot;</td><td>&quot;ID=gene-CCDC16...</td></tr><tr><td>&quot;S1&quot;</td><td>&quot;Gnomon&quot;</td><td>&quot;gene&quot;</td><td>41685</td><td>71311</td><td>&quot;+&quot;</td><td>&quot;ID=gene-MAPK15...</td></tr><tr><td>&quot;S1&quot;</td><td>&quot;Gnomon&quot;</td><td>&quot;gene&quot;</td><td>65399</td><td>90205</td><td>&quot;-&quot;</td><td>&quot;ID=gene-FAM83H...</td></tr><tr><td>&quot;S1&quot;</td><td>&quot;Gnomon&quot;</td><td>&quot;gene&quot;</td><td>110408</td><td>211712</td><td>&quot;-&quot;</td><td>&quot;ID=gene-SCRIB;...</td></tr></tbody></table></div>"
      ],
      "text/plain": [
       "shape: (5, 7)\n",
       "┌──────────┬────────┬──────┬────────┬────────┬────────┬───────────────────────────────────┐\n",
       "│ Landmark ┆ Source ┆ Type ┆ Start  ┆ End    ┆ Strand ┆ Attributes                        │\n",
       "│ ---      ┆ ---    ┆ ---  ┆ ---    ┆ ---    ┆ ---    ┆ ---                               │\n",
       "│ str      ┆ str    ┆ str  ┆ i64    ┆ i64    ┆ str    ┆ str                               │\n",
       "╞══════════╪════════╪══════╪════════╪════════╪════════╪═══════════════════════════════════╡\n",
       "│ S1       ┆ Gnomon ┆ gene ┆ 25222  ┆ 29472  ┆ +      ┆ ID=gene-LOC115603991;Dbxref=Gene… │\n",
       "│ S1       ┆ Gnomon ┆ gene ┆ 32484  ┆ 39309  ┆ +      ┆ ID=gene-CCDC166;Dbxref=GeneID:11… │\n",
       "│ S1       ┆ Gnomon ┆ gene ┆ 41685  ┆ 71311  ┆ +      ┆ ID=gene-MAPK15;Dbxref=GeneID:115… │\n",
       "│ S1       ┆ Gnomon ┆ gene ┆ 65399  ┆ 90205  ┆ -      ┆ ID=gene-FAM83H;Dbxref=GeneID:115… │\n",
       "│ S1       ┆ Gnomon ┆ gene ┆ 110408 ┆ 211712 ┆ -      ┆ ID=gene-SCRIB;Dbxref=GeneID:1156… │\n",
       "└──────────┴────────┴──────┴────────┴────────┴────────┴───────────────────────────────────┘"
      ]
     },
     "execution_count": 191,
     "metadata": {},
     "output_type": "execute_result"
    }
   ],
   "source": [
    "gff3_columns = [\"Landmark\", \"Source\", \"Type\", \"Start\", \"End\", \"Strand\", \"Attributes\"]\n",
    "\n",
    "gff3 = pl.read_csv(\"cleaned.gff3\", comment_char = \"#\", separator=\"\\t\", has_header=False, new_columns=gff3_columns, columns=[0, 1, 2, 3, 4, 6, 8])\n",
    "genes = gff3.filter(pl.col(\"Type\") == \"gene\")\n",
    "cds = gff3.filter(pl.col(\"Type\") == \"CDS\")\n",
    "\n",
    "# Get the gene ID\n",
    "matcher = re.compile(r'GeneID:([\\d]+)[,;]')\n",
    "\n",
    "genes.head()"
   ]
  },
  {
   "cell_type": "code",
   "execution_count": 192,
   "id": "f4e8f5fd-136f-4b5b-ab2d-1d660d62eb92",
   "metadata": {
    "tags": []
   },
   "outputs": [
    {
     "data": {
      "text/html": [
       "<div><style>\n",
       ".dataframe > thead > tr > th,\n",
       ".dataframe > tbody > tr > td {\n",
       "  text-align: right;\n",
       "}\n",
       "</style>\n",
       "<small>shape: (5, 8)</small><table border=\"1\" class=\"dataframe\"><thead><tr><th>Landmark</th><th>Source</th><th>Type</th><th>Start</th><th>End</th><th>Strand</th><th>Attributes</th><th>ID</th></tr><tr><td>str</td><td>str</td><td>str</td><td>i64</td><td>i64</td><td>str</td><td>str</td><td>str</td></tr></thead><tbody><tr><td>&quot;S1&quot;</td><td>&quot;Gnomon&quot;</td><td>&quot;gene&quot;</td><td>25222</td><td>29472</td><td>&quot;+&quot;</td><td>&quot;ID=gene-LOC115...</td><td>&quot;115603991&quot;</td></tr><tr><td>&quot;S1&quot;</td><td>&quot;Gnomon&quot;</td><td>&quot;gene&quot;</td><td>32484</td><td>39309</td><td>&quot;+&quot;</td><td>&quot;ID=gene-CCDC16...</td><td>&quot;115603988&quot;</td></tr><tr><td>&quot;S1&quot;</td><td>&quot;Gnomon&quot;</td><td>&quot;gene&quot;</td><td>41685</td><td>71311</td><td>&quot;+&quot;</td><td>&quot;ID=gene-MAPK15...</td><td>&quot;115603977&quot;</td></tr><tr><td>&quot;S1&quot;</td><td>&quot;Gnomon&quot;</td><td>&quot;gene&quot;</td><td>65399</td><td>90205</td><td>&quot;-&quot;</td><td>&quot;ID=gene-FAM83H...</td><td>&quot;115603962&quot;</td></tr><tr><td>&quot;S1&quot;</td><td>&quot;Gnomon&quot;</td><td>&quot;gene&quot;</td><td>110408</td><td>211712</td><td>&quot;-&quot;</td><td>&quot;ID=gene-SCRIB;...</td><td>&quot;115603994&quot;</td></tr></tbody></table></div>"
      ],
      "text/plain": [
       "shape: (5, 8)\n",
       "┌──────────┬────────┬──────┬────────┬────────┬────────┬────────────────────────────────┬───────────┐\n",
       "│ Landmark ┆ Source ┆ Type ┆ Start  ┆ End    ┆ Strand ┆ Attributes                     ┆ ID        │\n",
       "│ ---      ┆ ---    ┆ ---  ┆ ---    ┆ ---    ┆ ---    ┆ ---                            ┆ ---       │\n",
       "│ str      ┆ str    ┆ str  ┆ i64    ┆ i64    ┆ str    ┆ str                            ┆ str       │\n",
       "╞══════════╪════════╪══════╪════════╪════════╪════════╪════════════════════════════════╪═══════════╡\n",
       "│ S1       ┆ Gnomon ┆ gene ┆ 25222  ┆ 29472  ┆ +      ┆ ID=gene-LOC115603991;Dbxref=Ge ┆ 115603991 │\n",
       "│          ┆        ┆      ┆        ┆        ┆        ┆ ne…                            ┆           │\n",
       "│ S1       ┆ Gnomon ┆ gene ┆ 32484  ┆ 39309  ┆ +      ┆ ID=gene-CCDC166;Dbxref=GeneID: ┆ 115603988 │\n",
       "│          ┆        ┆      ┆        ┆        ┆        ┆ 11…                            ┆           │\n",
       "│ S1       ┆ Gnomon ┆ gene ┆ 41685  ┆ 71311  ┆ +      ┆ ID=gene-MAPK15;Dbxref=GeneID:1 ┆ 115603977 │\n",
       "│          ┆        ┆      ┆        ┆        ┆        ┆ 15…                            ┆           │\n",
       "│ S1       ┆ Gnomon ┆ gene ┆ 65399  ┆ 90205  ┆ -      ┆ ID=gene-FAM83H;Dbxref=GeneID:1 ┆ 115603962 │\n",
       "│          ┆        ┆      ┆        ┆        ┆        ┆ 15…                            ┆           │\n",
       "│ S1       ┆ Gnomon ┆ gene ┆ 110408 ┆ 211712 ┆ -      ┆ ID=gene-SCRIB;Dbxref=GeneID:11 ┆ 115603994 │\n",
       "│          ┆        ┆      ┆        ┆        ┆        ┆ 56…                            ┆           │\n",
       "└──────────┴────────┴──────┴────────┴────────┴────────┴────────────────────────────────┴───────────┘"
      ]
     },
     "execution_count": 192,
     "metadata": {},
     "output_type": "execute_result"
    }
   ],
   "source": [
    "# Add Gene ID as a separate column\n",
    "\n",
    "def extract(s):\n",
    "    match = matcher.search(s)\n",
    "    if match:\n",
    "        return match.group(1)\n",
    "    else:\n",
    "        return \"\"\n",
    "\n",
    "gene_ids = genes.apply(lambda r: extract(r[6]))\n",
    "genes = genes.with_columns([\n",
    "    (gene_ids[:, 0]).alias(\"ID\"),\n",
    "])\n",
    "genes.head()"
   ]
  },
  {
   "cell_type": "code",
   "execution_count": 193,
   "id": "ca73ff21-2f4e-497a-bfd4-133c00b2938f",
   "metadata": {
    "tags": []
   },
   "outputs": [
    {
     "data": {
      "text/html": [
       "<div><style>\n",
       ".dataframe > thead > tr > th,\n",
       ".dataframe > tbody > tr > td {\n",
       "  text-align: right;\n",
       "}\n",
       "</style>\n",
       "<small>shape: (5, 2)</small><table border=\"1\" class=\"dataframe\"><thead><tr><th>ID</th><th>Name</th></tr><tr><td>str</td><td>str</td></tr></thead><tbody><tr><td>&quot;115603988&quot;</td><td>&quot;XP_030332433.1...</td></tr><tr><td>&quot;115603977&quot;</td><td>&quot;XP_030332421.1...</td></tr><tr><td>&quot;115603977&quot;</td><td>&quot;XP_030332421.1...</td></tr><tr><td>&quot;115603977&quot;</td><td>&quot;XP_030332421.1...</td></tr><tr><td>&quot;115603977&quot;</td><td>&quot;XP_030332421.1...</td></tr></tbody></table></div>"
      ],
      "text/plain": [
       "shape: (5, 2)\n",
       "┌───────────┬────────────────┐\n",
       "│ ID        ┆ Name           │\n",
       "│ ---       ┆ ---            │\n",
       "│ str       ┆ str            │\n",
       "╞═══════════╪════════════════╡\n",
       "│ 115603988 ┆ XP_030332433.1 │\n",
       "│ 115603977 ┆ XP_030332421.1 │\n",
       "│ 115603977 ┆ XP_030332421.1 │\n",
       "│ 115603977 ┆ XP_030332421.1 │\n",
       "│ 115603977 ┆ XP_030332421.1 │\n",
       "└───────────┴────────────────┘"
      ]
     },
     "execution_count": 193,
     "metadata": {},
     "output_type": "execute_result"
    }
   ],
   "source": [
    "matcher_name = re.compile(r'protein_id=(XP_[\\w\\d\\.]+)[,;\\s$]?')#[\\w\\d\\._]+)[,;\\$\\s]')\n",
    "\n",
    "def extract_names(s):\n",
    "    match = matcher_name.search(s)\n",
    "    if match:\n",
    "        return match.group(1)\n",
    "    else:\n",
    "        return \"\"\n",
    "\n",
    "cds_ids = cds.apply(lambda r: extract(r[6]))\n",
    "names = cds.apply(lambda r: extract_names(r[6]))\n",
    "\n",
    "cds = cds.with_columns([\n",
    "    (cds_ids[:, 0]).alias(\"ID\"),\n",
    "    (names[:, 0]).alias(\"Name\"),\n",
    "])\n",
    "cds.head()\n",
    "cds_map = cds.select((pl.col(\"ID\"), pl.col(\"Name\")))\n",
    "cds_map.head()"
   ]
  },
  {
   "cell_type": "code",
   "execution_count": 194,
   "id": "95ba5df8-4177-4e63-8f49-2d6507808498",
   "metadata": {
    "tags": []
   },
   "outputs": [],
   "source": [
    "# Using GWAS Input File gwas_snps_filtered_minobs_60_minaf_0.02.hapmap.txt.hmp.txt\n",
    "snp_sites = pl.read_csv(\"/home/josephguhlin/development/kakapo-phenos/gwas_snps_filtered_minobs_60_minaf_0.02.hapmap.txt.hmp.txt\", separator=\"\\t\", columns=[2, 3])"
   ]
  },
  {
   "cell_type": "code",
   "execution_count": 195,
   "id": "b5be2825-b257-491e-9a1d-b4943a6b8361",
   "metadata": {
    "tags": []
   },
   "outputs": [
    {
     "data": {
      "text/html": [
       "<div><style>\n",
       ".dataframe > thead > tr > th,\n",
       ".dataframe > tbody > tr > td {\n",
       "  text-align: right;\n",
       "}\n",
       "</style>\n",
       "<small>shape: (5, 2)</small><table border=\"1\" class=\"dataframe\"><thead><tr><th>chrom</th><th>pos</th></tr><tr><td>str</td><td>i64</td></tr></thead><tbody><tr><td>&quot;NC_044298.1_CT...</td><td>666</td></tr><tr><td>&quot;NC_044298.1_CT...</td><td>714</td></tr><tr><td>&quot;NC_044298.1_CT...</td><td>822</td></tr><tr><td>&quot;NC_044298.1_CT...</td><td>1343</td></tr><tr><td>&quot;NC_044298.1_CT...</td><td>1802</td></tr></tbody></table></div>"
      ],
      "text/plain": [
       "shape: (5, 2)\n",
       "┌──────────────────┬──────┐\n",
       "│ chrom            ┆ pos  │\n",
       "│ ---              ┆ ---  │\n",
       "│ str              ┆ i64  │\n",
       "╞══════════════════╪══════╡\n",
       "│ NC_044298.1_CTG1 ┆ 666  │\n",
       "│ NC_044298.1_CTG1 ┆ 714  │\n",
       "│ NC_044298.1_CTG1 ┆ 822  │\n",
       "│ NC_044298.1_CTG1 ┆ 1343 │\n",
       "│ NC_044298.1_CTG1 ┆ 1802 │\n",
       "└──────────────────┴──────┘"
      ]
     },
     "execution_count": 195,
     "metadata": {},
     "output_type": "execute_result"
    }
   ],
   "source": [
    "snp_sites[0:5]"
   ]
  },
  {
   "cell_type": "code",
   "execution_count": 205,
   "id": "f6cb521b-5ac6-4c58-97ca-79cf80cce122",
   "metadata": {
    "tags": []
   },
   "outputs": [],
   "source": [
    "found_genes = list()\n",
    "\n",
    "with pl.StringCache():\n",
    "    snp_sites = snp_sites.with_columns(pl.col(\"chrom\").alias(\"Landmark\").cast(pl.Categorical))\n",
    "    genes = genes.with_columns(pl.col(\"Landmark\").cast(pl.Categorical)).lazy()\n",
    "\n",
    "    for _, pos, landmark in snp_sites.iter_rows():\n",
    "        found = genes.filter(pl.col(\"Landmark\") == landmark).filter(pl.col(\"Start\") <= pos).filter(pos <= pl.col(\"End\")).collect()\n",
    "        if len(found) > 0:\n",
    "\n",
    "            # Because sometimes genes overlap\n",
    "            for i in found[\"ID\"]:\n",
    "                found_genes.append(i)"
   ]
  },
  {
   "cell_type": "code",
   "execution_count": 207,
   "id": "459cb630-66f3-4be9-92d4-5ef130b59379",
   "metadata": {
    "tags": []
   },
   "outputs": [
    {
     "data": {
      "text/plain": [
       "[15644, 19046]"
      ]
     },
     "execution_count": 207,
     "metadata": {},
     "output_type": "execute_result"
    }
   ],
   "source": [
    "[len(set(found_genes)), len(genes.collect())]"
   ]
  },
  {
   "cell_type": "code",
   "execution_count": 217,
   "id": "aa07f20f-219b-46e5-ae5d-fd56362b3f0a",
   "metadata": {
    "tags": []
   },
   "outputs": [],
   "source": [
    "geneid_to_xp = {k: v for k, v in cds_map.iter_rows()}"
   ]
  },
  {
   "cell_type": "code",
   "execution_count": 230,
   "id": "9cdba8ee-64a4-42cf-b31b-03b2eb8b6821",
   "metadata": {
    "tags": []
   },
   "outputs": [],
   "source": [
    "found_proteins = list()\n",
    "\n",
    "for i in set(found_genes):\n",
    "    if i in geneid_to_xp:\n",
    "        found_proteins.append(geneid_to_xp[i])"
   ]
  },
  {
   "cell_type": "code",
   "execution_count": 233,
   "id": "dd2eb977-26f1-4daa-b989-c0caf51abe86",
   "metadata": {
    "tags": []
   },
   "outputs": [
    {
     "data": {
      "text/plain": [
       "13661"
      ]
     },
     "execution_count": 233,
     "metadata": {},
     "output_type": "execute_result"
    }
   ],
   "source": [
    "# Comparison to https://ftp.ncbi.nlm.nih.gov/genomes/all/GCF/004/027/225/GCF_004027225.2_bStrHab1.2.pri/GCF_004027225.2_bStrHab1.2.pri_protein.faa.gz\n",
    "len(set(found_proteins))"
   ]
  },
  {
   "cell_type": "code",
   "execution_count": 241,
   "id": "6992d92c-66cf-4c39-96f9-8a610eb2955e",
   "metadata": {
    "tags": []
   },
   "outputs": [],
   "source": [
    "pl.DataFrame(data = pl.Series(found_proteins).alias(\"ID\")).write_parquet(\"FoundProteins.parquet\")"
   ]
  },
  {
   "cell_type": "markdown",
   "id": "f7b50028-e51d-4bfa-b211-a9401d73ccce",
   "metadata": {},
   "source": [
    "# Load and export to file in the style of\n",
    "https://github.com/tanghaibao/goatools/blob/main/tests/data/small_population"
   ]
  },
  {
   "cell_type": "code",
   "execution_count": 2,
   "id": "6c856a8d-b759-4e34-9366-1170f383994d",
   "metadata": {
    "tags": []
   },
   "outputs": [],
   "source": [
    "found_proteins = pl.read_parquet(\"FoundProteins.parquet\")['ID'].to_list()\n",
    "with open(\"background_geneset.txt\", \"w\") as fh:\n",
    "    for i in found_proteins:\n",
    "        fh.write(i)\n",
    "        fh.write(\"\\n\")"
   ]
  },
  {
   "cell_type": "code",
   "execution_count": null,
   "id": "03a978c1-58ec-44a0-8bb8-8930e4eb30c4",
   "metadata": {},
   "outputs": [],
   "source": []
  }
 ],
 "metadata": {
  "kernelspec": {
   "display_name": "Python 3 (ipykernel)",
   "language": "python",
   "name": "python3"
  },
  "language_info": {
   "codemirror_mode": {
    "name": "ipython",
    "version": 3
   },
   "file_extension": ".py",
   "mimetype": "text/x-python",
   "name": "python",
   "nbconvert_exporter": "python",
   "pygments_lexer": "ipython3",
   "version": "3.9.16"
  }
 },
 "nbformat": 4,
 "nbformat_minor": 5
}
